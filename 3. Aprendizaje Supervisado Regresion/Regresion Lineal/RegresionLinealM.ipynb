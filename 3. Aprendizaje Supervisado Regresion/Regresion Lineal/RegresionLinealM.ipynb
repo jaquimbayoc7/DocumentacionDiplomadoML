{
  "cells": [
    {
      "cell_type": "markdown",
      "metadata": {
        "id": "eNJle0Oj_OaU"
      },
      "source": [
        "# Regresión Lineal Multiple"
      ]
    },
    {
      "cell_type": "markdown",
      "metadata": {
        "id": "Qa7Y6bAW_OaV"
      },
      "source": [
        "## Paso 1: Importar librerías"
      ]
    },
    {
      "cell_type": "code",
      "execution_count": 56,
      "metadata": {
        "id": "cOweOkYe_OaW"
      },
      "outputs": [],
      "source": [
        "##Warnings\n",
        "import warnings\n",
        "warnings.filterwarnings('ignore')\n",
        "\n",
        "##test de normalidad\n",
        "from scipy import stats\n",
        "\n",
        "##Librerías\n",
        "import pandas as pd\n",
        "import numpy as np\n",
        "import matplotlib.pyplot as plt\n",
        "import seaborn as sns\n",
        "\n",
        "##Normalización\n",
        "from sklearn.preprocessing import MinMaxScaler, StandardScaler\n",
        "from sklearn.model_selection import train_test_split\n",
        "from sklearn.linear_model import LinearRegression\n",
        "from sklearn.metrics import r2_score\n",
        "\n",
        "##Función para el modelo \n",
        "import statsmodels.api as sm"
      ]
    },
    {
      "cell_type": "markdown",
      "metadata": {
        "id": "Kwp3uMVD_OaY"
      },
      "source": [
        "## Paso 2: Funciones\n"
      ]
    },
    {
      "cell_type": "code",
      "execution_count": 57,
      "metadata": {
        "id": "nV_zgZBk_OaZ"
      },
      "outputs": [],
      "source": [
        "# Función para importar data .xlsx o .csv\n",
        "def importDatos(ruta, archivo, ext, sep):\n",
        "    if ext == '.csv':\n",
        "        data = pd.read_csv(ruta+archivo+ext, sep)\n",
        "        return data\n",
        "    elif ext == '.xlsx':\n",
        "        data = pd.read_excel(ruta+archivo+ext)\n",
        "        return data\n",
        "    else:\n",
        "        print('Extensión diferente')\n",
        "        \n",
        "def diagCaja(df, coluno, coldos, coltres):\n",
        "    fig, ax = plt.subplots(3, figsize=(5,5))\n",
        "    plt1 = sns.boxplot(df[coluno], ax=ax[0])\n",
        "    plt2 = sns.boxplot(df[coldos], ax=ax[1])\n",
        "    plt3 = sns.boxplot(df[coltres], ax=ax[2])\n",
        "    plt.tight_layout()\n",
        "\n",
        "##Función para cruce de variables\n",
        "def grafT(df, vect, vary):\n",
        "    sns.pairplot(df, x_vars=vect, y_vars=vary, height=4, aspect=1, kind='reg')\n",
        "\n",
        "# Función para el test de Shapiro - wilk - resistente al ruido en los datos\n",
        "\n",
        "def testShapiroWilk(df):\n",
        "    valoresP = []\n",
        "    concepto = []\n",
        "    variable = []\n",
        "    for column in df:\n",
        "        k2, p_value = stats.shapiro(df[column].values)\n",
        "        valoresP.append(p_value)\n",
        "        variable.append(column)\n",
        "        if (p_value < 0.05):\n",
        "            concepto.append('No es una variable Normal')\n",
        "        else:\n",
        "            concepto.append('Es una variable Normal')\n",
        "    dfShapiro = pd.DataFrame(\n",
        "        {'Variable': variable, 'Valores P': valoresP, 'Concepto': concepto})\n",
        "    return dfShapiro\n",
        "\n",
        "# Función para normalizar la data min - max sklearn\n",
        "\n",
        "\n",
        "def normaData(df):\n",
        "    valores = df.values  \n",
        "    scaler = MinMaxScaler(feature_range=(0, 1))\n",
        "    scaler = scaler.fit(valores)\n",
        "\n",
        "    pd.DataFrame(np.vstack((scaler.data_min_, scaler.data_max_)),\n",
        "             index=['Min', 'Max'],\n",
        "             columns=df.columns)\n",
        "\n",
        "    normalizados = scaler.transform(valores)\n",
        "    df_norm = pd.DataFrame(normalizados,\n",
        "                       index=df.index,\n",
        "                       columns=df.columns)\n",
        "    return df_norm\n",
        "\n",
        "## Función para hacer la matriz de correlación de manera Tidy\n",
        "def tidy_corr_matrix(corr_mat):\n",
        "    '''\n",
        "    Función para convertir una matriz de correlación de pandas en formato tidy.\n",
        "    '''\n",
        "    corr_mat = corr_mat.stack().reset_index()\n",
        "    corr_mat.columns = ['variable_1','variable_2','r']\n",
        "    corr_mat = corr_mat.loc[corr_mat['variable_1'] != corr_mat['variable_2'], :]\n",
        "    corr_mat['abs_r'] = np.abs(corr_mat['r'])\n",
        "    corr_mat = corr_mat.sort_values('abs_r', ascending=False)\n",
        "    \n",
        "    return(corr_mat)\n",
        "\n",
        "##MultiGraficas\n",
        "def multigraf(df, coluno, coldos):\n",
        "    g = sns.FacetGrid(df, col=coluno)\n",
        "    g.map(sns.histplot, coldos)\n",
        "    return g\n",
        "\n",
        "def multigrafDos(df, coluno, coldos, coltres):\n",
        "  h = sns.FacetGrid(df, col=coluno, height=4, aspect=.5)\n",
        "  h.map(sns.barplot, coldos, coltres, order=['M','F'])\n",
        "  return h\n",
        "\n",
        "def barrasM(df, colx, coly, cruce):\n",
        "  sns.catplot(x=colx, y=coly, hue=cruce, kind='bar', data=df)\n",
        "\n",
        "def disper(df, cruce, num, numdos):\n",
        "  g = sns.FacetGrid(df, hue=cruce, palette='flare', height=5)\n",
        "  g.map(sns.scatterplot, num,numdos, s=100, alpha=.5)\n",
        "  g.add_legend()\n",
        "  return g\n",
        "\n",
        "def multigrafT(df, var1, var2, var3, var4, var5):\n",
        "  sns.pairplot(df, x_vars=[var1, var2, var3, var4], y_vars=var5, height=6, aspect=1, kind='scatter')\n",
        "\n",
        "def corr(df):\n",
        "  f, ax = plt.subplots(figsize=(18,10))\n",
        "  sns.heatmap(df.corr(), annot=True, linewidths=.5, ax=ax)\n",
        "\n",
        "    "
      ]
    },
    {
      "cell_type": "markdown",
      "metadata": {
        "id": "FCic0Wgv_Oaa"
      },
      "source": [
        "## Paso 3: Importar Data"
      ]
    },
    {
      "cell_type": "code",
      "execution_count": 58,
      "metadata": {
        "colab": {
          "base_uri": "https://localhost:8080/",
          "height": 235
        },
        "id": "Fr7cFJ9M_Oab",
        "outputId": "cbb458c8-1dc8-453f-ac41-cc04c8741d47"
      },
      "outputs": [
        {
          "data": {
            "text/html": [
              "<div>\n",
              "<style scoped>\n",
              "    .dataframe tbody tr th:only-of-type {\n",
              "        vertical-align: middle;\n",
              "    }\n",
              "\n",
              "    .dataframe tbody tr th {\n",
              "        vertical-align: top;\n",
              "    }\n",
              "\n",
              "    .dataframe thead th {\n",
              "        text-align: right;\n",
              "    }\n",
              "</style>\n",
              "<table border=\"1\" class=\"dataframe\">\n",
              "  <thead>\n",
              "    <tr style=\"text-align: right;\">\n",
              "      <th></th>\n",
              "      <th>school</th>\n",
              "      <th>sex</th>\n",
              "      <th>age</th>\n",
              "      <th>address</th>\n",
              "      <th>famsize</th>\n",
              "      <th>Pstatus</th>\n",
              "      <th>Medu</th>\n",
              "      <th>Fedu</th>\n",
              "      <th>Mjob</th>\n",
              "      <th>Fjob</th>\n",
              "      <th>...</th>\n",
              "      <th>famrel</th>\n",
              "      <th>freetime</th>\n",
              "      <th>goout</th>\n",
              "      <th>Dalc</th>\n",
              "      <th>Walc</th>\n",
              "      <th>health</th>\n",
              "      <th>absences</th>\n",
              "      <th>G1</th>\n",
              "      <th>G2</th>\n",
              "      <th>G3</th>\n",
              "    </tr>\n",
              "  </thead>\n",
              "  <tbody>\n",
              "    <tr>\n",
              "      <th>0</th>\n",
              "      <td>GP</td>\n",
              "      <td>F</td>\n",
              "      <td>18</td>\n",
              "      <td>U</td>\n",
              "      <td>GT3</td>\n",
              "      <td>A</td>\n",
              "      <td>4</td>\n",
              "      <td>4</td>\n",
              "      <td>at_home</td>\n",
              "      <td>teacher</td>\n",
              "      <td>...</td>\n",
              "      <td>4</td>\n",
              "      <td>3</td>\n",
              "      <td>4</td>\n",
              "      <td>1</td>\n",
              "      <td>1</td>\n",
              "      <td>3</td>\n",
              "      <td>6</td>\n",
              "      <td>5</td>\n",
              "      <td>6</td>\n",
              "      <td>6</td>\n",
              "    </tr>\n",
              "    <tr>\n",
              "      <th>1</th>\n",
              "      <td>GP</td>\n",
              "      <td>F</td>\n",
              "      <td>17</td>\n",
              "      <td>U</td>\n",
              "      <td>GT3</td>\n",
              "      <td>T</td>\n",
              "      <td>1</td>\n",
              "      <td>1</td>\n",
              "      <td>at_home</td>\n",
              "      <td>other</td>\n",
              "      <td>...</td>\n",
              "      <td>5</td>\n",
              "      <td>3</td>\n",
              "      <td>3</td>\n",
              "      <td>1</td>\n",
              "      <td>1</td>\n",
              "      <td>3</td>\n",
              "      <td>4</td>\n",
              "      <td>5</td>\n",
              "      <td>5</td>\n",
              "      <td>6</td>\n",
              "    </tr>\n",
              "    <tr>\n",
              "      <th>2</th>\n",
              "      <td>GP</td>\n",
              "      <td>F</td>\n",
              "      <td>15</td>\n",
              "      <td>U</td>\n",
              "      <td>LE3</td>\n",
              "      <td>T</td>\n",
              "      <td>1</td>\n",
              "      <td>1</td>\n",
              "      <td>at_home</td>\n",
              "      <td>other</td>\n",
              "      <td>...</td>\n",
              "      <td>4</td>\n",
              "      <td>3</td>\n",
              "      <td>2</td>\n",
              "      <td>2</td>\n",
              "      <td>3</td>\n",
              "      <td>3</td>\n",
              "      <td>10</td>\n",
              "      <td>7</td>\n",
              "      <td>8</td>\n",
              "      <td>10</td>\n",
              "    </tr>\n",
              "    <tr>\n",
              "      <th>3</th>\n",
              "      <td>GP</td>\n",
              "      <td>F</td>\n",
              "      <td>15</td>\n",
              "      <td>U</td>\n",
              "      <td>GT3</td>\n",
              "      <td>T</td>\n",
              "      <td>4</td>\n",
              "      <td>2</td>\n",
              "      <td>health</td>\n",
              "      <td>services</td>\n",
              "      <td>...</td>\n",
              "      <td>3</td>\n",
              "      <td>2</td>\n",
              "      <td>2</td>\n",
              "      <td>1</td>\n",
              "      <td>1</td>\n",
              "      <td>5</td>\n",
              "      <td>2</td>\n",
              "      <td>15</td>\n",
              "      <td>14</td>\n",
              "      <td>15</td>\n",
              "    </tr>\n",
              "    <tr>\n",
              "      <th>4</th>\n",
              "      <td>GP</td>\n",
              "      <td>F</td>\n",
              "      <td>16</td>\n",
              "      <td>U</td>\n",
              "      <td>GT3</td>\n",
              "      <td>T</td>\n",
              "      <td>3</td>\n",
              "      <td>3</td>\n",
              "      <td>other</td>\n",
              "      <td>other</td>\n",
              "      <td>...</td>\n",
              "      <td>4</td>\n",
              "      <td>3</td>\n",
              "      <td>2</td>\n",
              "      <td>1</td>\n",
              "      <td>2</td>\n",
              "      <td>5</td>\n",
              "      <td>4</td>\n",
              "      <td>6</td>\n",
              "      <td>10</td>\n",
              "      <td>10</td>\n",
              "    </tr>\n",
              "  </tbody>\n",
              "</table>\n",
              "<p>5 rows × 33 columns</p>\n",
              "</div>"
            ],
            "text/plain": [
              "  school sex  age address famsize Pstatus  Medu  Fedu     Mjob      Fjob  ...  \\\n",
              "0     GP   F   18       U     GT3       A     4     4  at_home   teacher  ...   \n",
              "1     GP   F   17       U     GT3       T     1     1  at_home     other  ...   \n",
              "2     GP   F   15       U     LE3       T     1     1  at_home     other  ...   \n",
              "3     GP   F   15       U     GT3       T     4     2   health  services  ...   \n",
              "4     GP   F   16       U     GT3       T     3     3    other     other  ...   \n",
              "\n",
              "  famrel freetime  goout  Dalc  Walc health absences  G1  G2  G3  \n",
              "0      4        3      4     1     1      3        6   5   6   6  \n",
              "1      5        3      3     1     1      3        4   5   5   6  \n",
              "2      4        3      2     2     3      3       10   7   8  10  \n",
              "3      3        2      2     1     1      5        2  15  14  15  \n",
              "4      4        3      2     1     2      5        4   6  10  10  \n",
              "\n",
              "[5 rows x 33 columns]"
            ]
          },
          "execution_count": 58,
          "metadata": {},
          "output_type": "execute_result"
        }
      ],
      "source": [
        "data = importDatos('../Datasets/','student-mat','.csv',';')\n",
        "data.head()"
      ]
    },
    {
      "cell_type": "code",
      "execution_count": 59,
      "metadata": {
        "colab": {
          "base_uri": "https://localhost:8080/",
          "height": 551
        },
        "id": "hh4KiLTp_Oab",
        "outputId": "dbf89ecb-a917-4c63-c902-8c127d8290be"
      },
      "outputs": [
        {
          "data": {
            "text/html": [
              "<div>\n",
              "<style scoped>\n",
              "    .dataframe tbody tr th:only-of-type {\n",
              "        vertical-align: middle;\n",
              "    }\n",
              "\n",
              "    .dataframe tbody tr th {\n",
              "        vertical-align: top;\n",
              "    }\n",
              "\n",
              "    .dataframe thead th {\n",
              "        text-align: right;\n",
              "    }\n",
              "</style>\n",
              "<table border=\"1\" class=\"dataframe\">\n",
              "  <thead>\n",
              "    <tr style=\"text-align: right;\">\n",
              "      <th></th>\n",
              "      <th>count</th>\n",
              "      <th>mean</th>\n",
              "      <th>std</th>\n",
              "      <th>min</th>\n",
              "      <th>25%</th>\n",
              "      <th>50%</th>\n",
              "      <th>75%</th>\n",
              "      <th>max</th>\n",
              "    </tr>\n",
              "  </thead>\n",
              "  <tbody>\n",
              "    <tr>\n",
              "      <th>age</th>\n",
              "      <td>395.0</td>\n",
              "      <td>16.696203</td>\n",
              "      <td>1.276043</td>\n",
              "      <td>15.0</td>\n",
              "      <td>16.0</td>\n",
              "      <td>17.0</td>\n",
              "      <td>18.0</td>\n",
              "      <td>22.0</td>\n",
              "    </tr>\n",
              "    <tr>\n",
              "      <th>Medu</th>\n",
              "      <td>395.0</td>\n",
              "      <td>2.749367</td>\n",
              "      <td>1.094735</td>\n",
              "      <td>0.0</td>\n",
              "      <td>2.0</td>\n",
              "      <td>3.0</td>\n",
              "      <td>4.0</td>\n",
              "      <td>4.0</td>\n",
              "    </tr>\n",
              "    <tr>\n",
              "      <th>Fedu</th>\n",
              "      <td>395.0</td>\n",
              "      <td>2.521519</td>\n",
              "      <td>1.088201</td>\n",
              "      <td>0.0</td>\n",
              "      <td>2.0</td>\n",
              "      <td>2.0</td>\n",
              "      <td>3.0</td>\n",
              "      <td>4.0</td>\n",
              "    </tr>\n",
              "    <tr>\n",
              "      <th>traveltime</th>\n",
              "      <td>395.0</td>\n",
              "      <td>1.448101</td>\n",
              "      <td>0.697505</td>\n",
              "      <td>1.0</td>\n",
              "      <td>1.0</td>\n",
              "      <td>1.0</td>\n",
              "      <td>2.0</td>\n",
              "      <td>4.0</td>\n",
              "    </tr>\n",
              "    <tr>\n",
              "      <th>studytime</th>\n",
              "      <td>395.0</td>\n",
              "      <td>2.035443</td>\n",
              "      <td>0.839240</td>\n",
              "      <td>1.0</td>\n",
              "      <td>1.0</td>\n",
              "      <td>2.0</td>\n",
              "      <td>2.0</td>\n",
              "      <td>4.0</td>\n",
              "    </tr>\n",
              "    <tr>\n",
              "      <th>failures</th>\n",
              "      <td>395.0</td>\n",
              "      <td>0.334177</td>\n",
              "      <td>0.743651</td>\n",
              "      <td>0.0</td>\n",
              "      <td>0.0</td>\n",
              "      <td>0.0</td>\n",
              "      <td>0.0</td>\n",
              "      <td>3.0</td>\n",
              "    </tr>\n",
              "    <tr>\n",
              "      <th>famrel</th>\n",
              "      <td>395.0</td>\n",
              "      <td>3.944304</td>\n",
              "      <td>0.896659</td>\n",
              "      <td>1.0</td>\n",
              "      <td>4.0</td>\n",
              "      <td>4.0</td>\n",
              "      <td>5.0</td>\n",
              "      <td>5.0</td>\n",
              "    </tr>\n",
              "    <tr>\n",
              "      <th>freetime</th>\n",
              "      <td>395.0</td>\n",
              "      <td>3.235443</td>\n",
              "      <td>0.998862</td>\n",
              "      <td>1.0</td>\n",
              "      <td>3.0</td>\n",
              "      <td>3.0</td>\n",
              "      <td>4.0</td>\n",
              "      <td>5.0</td>\n",
              "    </tr>\n",
              "    <tr>\n",
              "      <th>goout</th>\n",
              "      <td>395.0</td>\n",
              "      <td>3.108861</td>\n",
              "      <td>1.113278</td>\n",
              "      <td>1.0</td>\n",
              "      <td>2.0</td>\n",
              "      <td>3.0</td>\n",
              "      <td>4.0</td>\n",
              "      <td>5.0</td>\n",
              "    </tr>\n",
              "    <tr>\n",
              "      <th>Dalc</th>\n",
              "      <td>395.0</td>\n",
              "      <td>1.481013</td>\n",
              "      <td>0.890741</td>\n",
              "      <td>1.0</td>\n",
              "      <td>1.0</td>\n",
              "      <td>1.0</td>\n",
              "      <td>2.0</td>\n",
              "      <td>5.0</td>\n",
              "    </tr>\n",
              "    <tr>\n",
              "      <th>Walc</th>\n",
              "      <td>395.0</td>\n",
              "      <td>2.291139</td>\n",
              "      <td>1.287897</td>\n",
              "      <td>1.0</td>\n",
              "      <td>1.0</td>\n",
              "      <td>2.0</td>\n",
              "      <td>3.0</td>\n",
              "      <td>5.0</td>\n",
              "    </tr>\n",
              "    <tr>\n",
              "      <th>health</th>\n",
              "      <td>395.0</td>\n",
              "      <td>3.554430</td>\n",
              "      <td>1.390303</td>\n",
              "      <td>1.0</td>\n",
              "      <td>3.0</td>\n",
              "      <td>4.0</td>\n",
              "      <td>5.0</td>\n",
              "      <td>5.0</td>\n",
              "    </tr>\n",
              "    <tr>\n",
              "      <th>absences</th>\n",
              "      <td>395.0</td>\n",
              "      <td>5.708861</td>\n",
              "      <td>8.003096</td>\n",
              "      <td>0.0</td>\n",
              "      <td>0.0</td>\n",
              "      <td>4.0</td>\n",
              "      <td>8.0</td>\n",
              "      <td>75.0</td>\n",
              "    </tr>\n",
              "    <tr>\n",
              "      <th>G1</th>\n",
              "      <td>395.0</td>\n",
              "      <td>10.908861</td>\n",
              "      <td>3.319195</td>\n",
              "      <td>3.0</td>\n",
              "      <td>8.0</td>\n",
              "      <td>11.0</td>\n",
              "      <td>13.0</td>\n",
              "      <td>19.0</td>\n",
              "    </tr>\n",
              "    <tr>\n",
              "      <th>G2</th>\n",
              "      <td>395.0</td>\n",
              "      <td>10.713924</td>\n",
              "      <td>3.761505</td>\n",
              "      <td>0.0</td>\n",
              "      <td>9.0</td>\n",
              "      <td>11.0</td>\n",
              "      <td>13.0</td>\n",
              "      <td>19.0</td>\n",
              "    </tr>\n",
              "    <tr>\n",
              "      <th>G3</th>\n",
              "      <td>395.0</td>\n",
              "      <td>10.415190</td>\n",
              "      <td>4.581443</td>\n",
              "      <td>0.0</td>\n",
              "      <td>8.0</td>\n",
              "      <td>11.0</td>\n",
              "      <td>14.0</td>\n",
              "      <td>20.0</td>\n",
              "    </tr>\n",
              "  </tbody>\n",
              "</table>\n",
              "</div>"
            ],
            "text/plain": [
              "            count       mean       std   min   25%   50%   75%   max\n",
              "age         395.0  16.696203  1.276043  15.0  16.0  17.0  18.0  22.0\n",
              "Medu        395.0   2.749367  1.094735   0.0   2.0   3.0   4.0   4.0\n",
              "Fedu        395.0   2.521519  1.088201   0.0   2.0   2.0   3.0   4.0\n",
              "traveltime  395.0   1.448101  0.697505   1.0   1.0   1.0   2.0   4.0\n",
              "studytime   395.0   2.035443  0.839240   1.0   1.0   2.0   2.0   4.0\n",
              "failures    395.0   0.334177  0.743651   0.0   0.0   0.0   0.0   3.0\n",
              "famrel      395.0   3.944304  0.896659   1.0   4.0   4.0   5.0   5.0\n",
              "freetime    395.0   3.235443  0.998862   1.0   3.0   3.0   4.0   5.0\n",
              "goout       395.0   3.108861  1.113278   1.0   2.0   3.0   4.0   5.0\n",
              "Dalc        395.0   1.481013  0.890741   1.0   1.0   1.0   2.0   5.0\n",
              "Walc        395.0   2.291139  1.287897   1.0   1.0   2.0   3.0   5.0\n",
              "health      395.0   3.554430  1.390303   1.0   3.0   4.0   5.0   5.0\n",
              "absences    395.0   5.708861  8.003096   0.0   0.0   4.0   8.0  75.0\n",
              "G1          395.0  10.908861  3.319195   3.0   8.0  11.0  13.0  19.0\n",
              "G2          395.0  10.713924  3.761505   0.0   9.0  11.0  13.0  19.0\n",
              "G3          395.0  10.415190  4.581443   0.0   8.0  11.0  14.0  20.0"
            ]
          },
          "execution_count": 59,
          "metadata": {},
          "output_type": "execute_result"
        }
      ],
      "source": [
        "data.describe().T"
      ]
    },
    {
      "cell_type": "markdown",
      "metadata": {
        "id": "4Ef5E8uX_Oac"
      },
      "source": [
        "## Paso 3: Multigráficas "
      ]
    },
    {
      "cell_type": "code",
      "execution_count": 82,
      "metadata": {
        "colab": {
          "base_uri": "https://localhost:8080/",
          "height": 242
        },
        "id": "5HQf0xlF_Oac",
        "outputId": "d688cda0-9987-4a14-fb7e-5bfa6b1b5980"
      },
      "outputs": [
        {
          "data": {
            "text/plain": [
              "<seaborn.axisgrid.FacetGrid at 0x1e93d074df0>"
            ]
          },
          "execution_count": 82,
          "metadata": {},
          "output_type": "execute_result"
        }
      ],
      "source": [
        "multigraf(data, 'traveltime','age')"
      ]
    },
    {
      "cell_type": "code",
      "execution_count": 83,
      "metadata": {
        "colab": {
          "base_uri": "https://localhost:8080/",
          "height": 242
        },
        "id": "9QcgZMhB_Oad",
        "outputId": "decd2bb8-9e08-4cce-f636-9e4a68aaed16"
      },
      "outputs": [
        {
          "data": {
            "text/plain": [
              "<seaborn.axisgrid.FacetGrid at 0x1e942561000>"
            ]
          },
          "execution_count": 83,
          "metadata": {},
          "output_type": "execute_result"
        }
      ],
      "source": [
        "multigraf(data, 'studytime','age')"
      ]
    },
    {
      "cell_type": "code",
      "execution_count": 62,
      "metadata": {
        "colab": {
          "base_uri": "https://localhost:8080/",
          "height": 242
        },
        "id": "BM5UzNWe_t0m",
        "outputId": "36c0297c-25e4-4938-f77e-83acd5911a38"
      },
      "outputs": [
        {
          "data": {
            "text/plain": [
              "<seaborn.axisgrid.FacetGrid at 0x1e940ada200>"
            ]
          },
          "execution_count": 62,
          "metadata": {},
          "output_type": "execute_result"
        }
      ],
      "source": [
        "multigraf(data, 'traveltime','sex')"
      ]
    },
    {
      "cell_type": "code",
      "execution_count": 63,
      "metadata": {
        "colab": {
          "base_uri": "https://localhost:8080/",
          "height": 242
        },
        "id": "2g4U6i43_w7_",
        "outputId": "567d754d-ab67-440f-b67a-7f6bfcdc67a2"
      },
      "outputs": [
        {
          "data": {
            "text/plain": [
              "<seaborn.axisgrid.FacetGrid at 0x1e93e398d60>"
            ]
          },
          "execution_count": 63,
          "metadata": {},
          "output_type": "execute_result"
        }
      ],
      "source": [
        "multigraf(data, 'Medu','age')"
      ]
    },
    {
      "cell_type": "code",
      "execution_count": 64,
      "metadata": {
        "colab": {
          "base_uri": "https://localhost:8080/",
          "height": 242
        },
        "id": "kJbP99t1AAVO",
        "outputId": "4d0444e9-7ae1-4461-f124-a4cf9ecfd90e"
      },
      "outputs": [
        {
          "data": {
            "text/plain": [
              "<seaborn.axisgrid.FacetGrid at 0x1e9413372e0>"
            ]
          },
          "execution_count": 64,
          "metadata": {},
          "output_type": "execute_result"
        }
      ],
      "source": [
        "multigraf(data, 'Fedu','age')"
      ]
    },
    {
      "cell_type": "code",
      "execution_count": 65,
      "metadata": {
        "colab": {
          "base_uri": "https://localhost:8080/",
          "height": 314
        },
        "id": "vt4eereMAKPf",
        "outputId": "cf1acebd-4f32-4a00-f2a7-005b0a1cf9a1"
      },
      "outputs": [
        {
          "data": {
            "text/plain": [
              "<seaborn.axisgrid.FacetGrid at 0x1e9416fa7a0>"
            ]
          },
          "execution_count": 65,
          "metadata": {},
          "output_type": "execute_result"
        }
      ],
      "source": [
        "multigrafDos(data, 'Walc', 'sex','G3')"
      ]
    },
    {
      "cell_type": "code",
      "execution_count": 66,
      "metadata": {
        "colab": {
          "base_uri": "https://localhost:8080/",
          "height": 314
        },
        "id": "VNWA3wP6Bmwt",
        "outputId": "09fee686-f12e-41b0-b3de-0a6bb78d3eae"
      },
      "outputs": [
        {
          "data": {
            "text/plain": [
              "<seaborn.axisgrid.FacetGrid at 0x1e941889660>"
            ]
          },
          "execution_count": 66,
          "metadata": {},
          "output_type": "execute_result"
        }
      ],
      "source": [
        "multigrafDos(data, 'Walc', 'sex','G2')"
      ]
    },
    {
      "cell_type": "code",
      "execution_count": 67,
      "metadata": {
        "colab": {
          "base_uri": "https://localhost:8080/",
          "height": 314
        },
        "id": "UZAwxpMeBoBe",
        "outputId": "dc479b06-9f3b-4112-89cd-b7e718a98b0f"
      },
      "outputs": [
        {
          "data": {
            "text/plain": [
              "<seaborn.axisgrid.FacetGrid at 0x1e941be0b80>"
            ]
          },
          "execution_count": 67,
          "metadata": {},
          "output_type": "execute_result"
        }
      ],
      "source": [
        "multigrafDos(data, 'Walc', 'sex','G1')"
      ]
    },
    {
      "cell_type": "code",
      "execution_count": 68,
      "metadata": {
        "colab": {
          "base_uri": "https://localhost:8080/",
          "height": 369
        },
        "id": "P1KxYCLSByNe",
        "outputId": "27d14466-0393-4723-ba2e-25a707fa74db"
      },
      "outputs": [],
      "source": [
        "barrasM(data, 'sex','G3', 'Dalc')"
      ]
    },
    {
      "cell_type": "code",
      "execution_count": 69,
      "metadata": {
        "colab": {
          "base_uri": "https://localhost:8080/",
          "height": 386
        },
        "id": "FLmBJ8glDWyt",
        "outputId": "a1b1dd8f-263e-4b48-92a9-a47abe556c92"
      },
      "outputs": [
        {
          "data": {
            "text/plain": [
              "<seaborn.axisgrid.FacetGrid at 0x1e9410993c0>"
            ]
          },
          "execution_count": 69,
          "metadata": {},
          "output_type": "execute_result"
        }
      ],
      "source": [
        "disper(data, 'sex', 'G3','absences')"
      ]
    },
    {
      "cell_type": "code",
      "execution_count": 70,
      "metadata": {
        "colab": {
          "base_uri": "https://localhost:8080/",
          "height": 356
        },
        "id": "2I2Cd1RiEP72",
        "outputId": "fbfdaffb-20d3-453d-f194-233546d06a55"
      },
      "outputs": [],
      "source": [
        "multigrafT(data, 'G1','G2','Walc','Medu','G3')"
      ]
    },
    {
      "cell_type": "code",
      "execution_count": 71,
      "metadata": {
        "colab": {
          "base_uri": "https://localhost:8080/"
        },
        "id": "d8sHTPNHE89P",
        "outputId": "dc6c2537-ff6e-48f0-8582-e97ba6697be2"
      },
      "outputs": [
        {
          "data": {
            "text/plain": [
              "['age',\n",
              " 'Medu',\n",
              " 'Fedu',\n",
              " 'traveltime',\n",
              " 'studytime',\n",
              " 'failures',\n",
              " 'famrel',\n",
              " 'freetime',\n",
              " 'goout',\n",
              " 'Dalc',\n",
              " 'Walc',\n",
              " 'health',\n",
              " 'absences',\n",
              " 'G1',\n",
              " 'G2',\n",
              " 'G3']"
            ]
          },
          "execution_count": 71,
          "metadata": {},
          "output_type": "execute_result"
        }
      ],
      "source": [
        "numerico = [i for i in data.columns if data[i].dtype!='O']\n",
        "numerico"
      ]
    },
    {
      "cell_type": "code",
      "execution_count": 72,
      "metadata": {
        "colab": {
          "base_uri": "https://localhost:8080/",
          "height": 206
        },
        "id": "PsWkwcydE-Sf",
        "outputId": "2c82e7d2-5d9e-4e24-f601-15966900fc5f"
      },
      "outputs": [
        {
          "data": {
            "text/html": [
              "<div>\n",
              "<style scoped>\n",
              "    .dataframe tbody tr th:only-of-type {\n",
              "        vertical-align: middle;\n",
              "    }\n",
              "\n",
              "    .dataframe tbody tr th {\n",
              "        vertical-align: top;\n",
              "    }\n",
              "\n",
              "    .dataframe thead th {\n",
              "        text-align: right;\n",
              "    }\n",
              "</style>\n",
              "<table border=\"1\" class=\"dataframe\">\n",
              "  <thead>\n",
              "    <tr style=\"text-align: right;\">\n",
              "      <th></th>\n",
              "      <th>age</th>\n",
              "      <th>Medu</th>\n",
              "      <th>Fedu</th>\n",
              "      <th>traveltime</th>\n",
              "      <th>studytime</th>\n",
              "      <th>failures</th>\n",
              "      <th>famrel</th>\n",
              "      <th>freetime</th>\n",
              "      <th>goout</th>\n",
              "      <th>Dalc</th>\n",
              "      <th>Walc</th>\n",
              "      <th>health</th>\n",
              "      <th>absences</th>\n",
              "      <th>G1</th>\n",
              "      <th>G2</th>\n",
              "      <th>G3</th>\n",
              "    </tr>\n",
              "  </thead>\n",
              "  <tbody>\n",
              "    <tr>\n",
              "      <th>0</th>\n",
              "      <td>18</td>\n",
              "      <td>4</td>\n",
              "      <td>4</td>\n",
              "      <td>2</td>\n",
              "      <td>2</td>\n",
              "      <td>0</td>\n",
              "      <td>4</td>\n",
              "      <td>3</td>\n",
              "      <td>4</td>\n",
              "      <td>1</td>\n",
              "      <td>1</td>\n",
              "      <td>3</td>\n",
              "      <td>6</td>\n",
              "      <td>5</td>\n",
              "      <td>6</td>\n",
              "      <td>6</td>\n",
              "    </tr>\n",
              "    <tr>\n",
              "      <th>1</th>\n",
              "      <td>17</td>\n",
              "      <td>1</td>\n",
              "      <td>1</td>\n",
              "      <td>1</td>\n",
              "      <td>2</td>\n",
              "      <td>0</td>\n",
              "      <td>5</td>\n",
              "      <td>3</td>\n",
              "      <td>3</td>\n",
              "      <td>1</td>\n",
              "      <td>1</td>\n",
              "      <td>3</td>\n",
              "      <td>4</td>\n",
              "      <td>5</td>\n",
              "      <td>5</td>\n",
              "      <td>6</td>\n",
              "    </tr>\n",
              "    <tr>\n",
              "      <th>2</th>\n",
              "      <td>15</td>\n",
              "      <td>1</td>\n",
              "      <td>1</td>\n",
              "      <td>1</td>\n",
              "      <td>2</td>\n",
              "      <td>3</td>\n",
              "      <td>4</td>\n",
              "      <td>3</td>\n",
              "      <td>2</td>\n",
              "      <td>2</td>\n",
              "      <td>3</td>\n",
              "      <td>3</td>\n",
              "      <td>10</td>\n",
              "      <td>7</td>\n",
              "      <td>8</td>\n",
              "      <td>10</td>\n",
              "    </tr>\n",
              "    <tr>\n",
              "      <th>3</th>\n",
              "      <td>15</td>\n",
              "      <td>4</td>\n",
              "      <td>2</td>\n",
              "      <td>1</td>\n",
              "      <td>3</td>\n",
              "      <td>0</td>\n",
              "      <td>3</td>\n",
              "      <td>2</td>\n",
              "      <td>2</td>\n",
              "      <td>1</td>\n",
              "      <td>1</td>\n",
              "      <td>5</td>\n",
              "      <td>2</td>\n",
              "      <td>15</td>\n",
              "      <td>14</td>\n",
              "      <td>15</td>\n",
              "    </tr>\n",
              "    <tr>\n",
              "      <th>4</th>\n",
              "      <td>16</td>\n",
              "      <td>3</td>\n",
              "      <td>3</td>\n",
              "      <td>1</td>\n",
              "      <td>2</td>\n",
              "      <td>0</td>\n",
              "      <td>4</td>\n",
              "      <td>3</td>\n",
              "      <td>2</td>\n",
              "      <td>1</td>\n",
              "      <td>2</td>\n",
              "      <td>5</td>\n",
              "      <td>4</td>\n",
              "      <td>6</td>\n",
              "      <td>10</td>\n",
              "      <td>10</td>\n",
              "    </tr>\n",
              "  </tbody>\n",
              "</table>\n",
              "</div>"
            ],
            "text/plain": [
              "   age  Medu  Fedu  traveltime  studytime  failures  famrel  freetime  goout  \\\n",
              "0   18     4     4           2          2         0       4         3      4   \n",
              "1   17     1     1           1          2         0       5         3      3   \n",
              "2   15     1     1           1          2         3       4         3      2   \n",
              "3   15     4     2           1          3         0       3         2      2   \n",
              "4   16     3     3           1          2         0       4         3      2   \n",
              "\n",
              "   Dalc  Walc  health  absences  G1  G2  G3  \n",
              "0     1     1       3         6   5   6   6  \n",
              "1     1     1       3         4   5   5   6  \n",
              "2     2     3       3        10   7   8  10  \n",
              "3     1     1       5         2  15  14  15  \n",
              "4     1     2       5         4   6  10  10  "
            ]
          },
          "execution_count": 72,
          "metadata": {},
          "output_type": "execute_result"
        }
      ],
      "source": [
        "datos = data[numerico]\n",
        "datos.head()"
      ]
    },
    {
      "cell_type": "code",
      "execution_count": 73,
      "metadata": {
        "colab": {
          "base_uri": "https://localhost:8080/",
          "height": 551
        },
        "id": "0kkRydWNFoYO",
        "outputId": "1107c605-27cd-4285-b969-74c1b9ff02b3"
      },
      "outputs": [
        {
          "data": {
            "text/html": [
              "<div>\n",
              "<style scoped>\n",
              "    .dataframe tbody tr th:only-of-type {\n",
              "        vertical-align: middle;\n",
              "    }\n",
              "\n",
              "    .dataframe tbody tr th {\n",
              "        vertical-align: top;\n",
              "    }\n",
              "\n",
              "    .dataframe thead th {\n",
              "        text-align: right;\n",
              "    }\n",
              "</style>\n",
              "<table border=\"1\" class=\"dataframe\">\n",
              "  <thead>\n",
              "    <tr style=\"text-align: right;\">\n",
              "      <th></th>\n",
              "      <th>count</th>\n",
              "      <th>mean</th>\n",
              "      <th>std</th>\n",
              "      <th>min</th>\n",
              "      <th>25%</th>\n",
              "      <th>50%</th>\n",
              "      <th>75%</th>\n",
              "      <th>max</th>\n",
              "    </tr>\n",
              "  </thead>\n",
              "  <tbody>\n",
              "    <tr>\n",
              "      <th>age</th>\n",
              "      <td>395.0</td>\n",
              "      <td>0.242315</td>\n",
              "      <td>0.182292</td>\n",
              "      <td>0.0</td>\n",
              "      <td>0.142857</td>\n",
              "      <td>0.285714</td>\n",
              "      <td>0.428571</td>\n",
              "      <td>1.0</td>\n",
              "    </tr>\n",
              "    <tr>\n",
              "      <th>Medu</th>\n",
              "      <td>395.0</td>\n",
              "      <td>0.687342</td>\n",
              "      <td>0.273684</td>\n",
              "      <td>0.0</td>\n",
              "      <td>0.500000</td>\n",
              "      <td>0.750000</td>\n",
              "      <td>1.000000</td>\n",
              "      <td>1.0</td>\n",
              "    </tr>\n",
              "    <tr>\n",
              "      <th>Fedu</th>\n",
              "      <td>395.0</td>\n",
              "      <td>0.630380</td>\n",
              "      <td>0.272050</td>\n",
              "      <td>0.0</td>\n",
              "      <td>0.500000</td>\n",
              "      <td>0.500000</td>\n",
              "      <td>0.750000</td>\n",
              "      <td>1.0</td>\n",
              "    </tr>\n",
              "    <tr>\n",
              "      <th>traveltime</th>\n",
              "      <td>395.0</td>\n",
              "      <td>0.149367</td>\n",
              "      <td>0.232502</td>\n",
              "      <td>0.0</td>\n",
              "      <td>0.000000</td>\n",
              "      <td>0.000000</td>\n",
              "      <td>0.333333</td>\n",
              "      <td>1.0</td>\n",
              "    </tr>\n",
              "    <tr>\n",
              "      <th>studytime</th>\n",
              "      <td>395.0</td>\n",
              "      <td>0.345148</td>\n",
              "      <td>0.279747</td>\n",
              "      <td>0.0</td>\n",
              "      <td>0.000000</td>\n",
              "      <td>0.333333</td>\n",
              "      <td>0.333333</td>\n",
              "      <td>1.0</td>\n",
              "    </tr>\n",
              "    <tr>\n",
              "      <th>failures</th>\n",
              "      <td>395.0</td>\n",
              "      <td>0.111392</td>\n",
              "      <td>0.247884</td>\n",
              "      <td>0.0</td>\n",
              "      <td>0.000000</td>\n",
              "      <td>0.000000</td>\n",
              "      <td>0.000000</td>\n",
              "      <td>1.0</td>\n",
              "    </tr>\n",
              "    <tr>\n",
              "      <th>famrel</th>\n",
              "      <td>395.0</td>\n",
              "      <td>0.736076</td>\n",
              "      <td>0.224165</td>\n",
              "      <td>0.0</td>\n",
              "      <td>0.750000</td>\n",
              "      <td>0.750000</td>\n",
              "      <td>1.000000</td>\n",
              "      <td>1.0</td>\n",
              "    </tr>\n",
              "    <tr>\n",
              "      <th>freetime</th>\n",
              "      <td>395.0</td>\n",
              "      <td>0.558861</td>\n",
              "      <td>0.249716</td>\n",
              "      <td>0.0</td>\n",
              "      <td>0.500000</td>\n",
              "      <td>0.500000</td>\n",
              "      <td>0.750000</td>\n",
              "      <td>1.0</td>\n",
              "    </tr>\n",
              "    <tr>\n",
              "      <th>goout</th>\n",
              "      <td>395.0</td>\n",
              "      <td>0.527215</td>\n",
              "      <td>0.278320</td>\n",
              "      <td>0.0</td>\n",
              "      <td>0.250000</td>\n",
              "      <td>0.500000</td>\n",
              "      <td>0.750000</td>\n",
              "      <td>1.0</td>\n",
              "    </tr>\n",
              "    <tr>\n",
              "      <th>Dalc</th>\n",
              "      <td>395.0</td>\n",
              "      <td>0.120253</td>\n",
              "      <td>0.222685</td>\n",
              "      <td>0.0</td>\n",
              "      <td>0.000000</td>\n",
              "      <td>0.000000</td>\n",
              "      <td>0.250000</td>\n",
              "      <td>1.0</td>\n",
              "    </tr>\n",
              "    <tr>\n",
              "      <th>Walc</th>\n",
              "      <td>395.0</td>\n",
              "      <td>0.322785</td>\n",
              "      <td>0.321974</td>\n",
              "      <td>0.0</td>\n",
              "      <td>0.000000</td>\n",
              "      <td>0.250000</td>\n",
              "      <td>0.500000</td>\n",
              "      <td>1.0</td>\n",
              "    </tr>\n",
              "    <tr>\n",
              "      <th>health</th>\n",
              "      <td>395.0</td>\n",
              "      <td>0.638608</td>\n",
              "      <td>0.347576</td>\n",
              "      <td>0.0</td>\n",
              "      <td>0.500000</td>\n",
              "      <td>0.750000</td>\n",
              "      <td>1.000000</td>\n",
              "      <td>1.0</td>\n",
              "    </tr>\n",
              "    <tr>\n",
              "      <th>absences</th>\n",
              "      <td>395.0</td>\n",
              "      <td>0.076118</td>\n",
              "      <td>0.106708</td>\n",
              "      <td>0.0</td>\n",
              "      <td>0.000000</td>\n",
              "      <td>0.053333</td>\n",
              "      <td>0.106667</td>\n",
              "      <td>1.0</td>\n",
              "    </tr>\n",
              "    <tr>\n",
              "      <th>G1</th>\n",
              "      <td>395.0</td>\n",
              "      <td>0.494304</td>\n",
              "      <td>0.207450</td>\n",
              "      <td>0.0</td>\n",
              "      <td>0.312500</td>\n",
              "      <td>0.500000</td>\n",
              "      <td>0.625000</td>\n",
              "      <td>1.0</td>\n",
              "    </tr>\n",
              "    <tr>\n",
              "      <th>G2</th>\n",
              "      <td>395.0</td>\n",
              "      <td>0.563891</td>\n",
              "      <td>0.197974</td>\n",
              "      <td>0.0</td>\n",
              "      <td>0.473684</td>\n",
              "      <td>0.578947</td>\n",
              "      <td>0.684211</td>\n",
              "      <td>1.0</td>\n",
              "    </tr>\n",
              "    <tr>\n",
              "      <th>G3</th>\n",
              "      <td>395.0</td>\n",
              "      <td>0.520759</td>\n",
              "      <td>0.229072</td>\n",
              "      <td>0.0</td>\n",
              "      <td>0.400000</td>\n",
              "      <td>0.550000</td>\n",
              "      <td>0.700000</td>\n",
              "      <td>1.0</td>\n",
              "    </tr>\n",
              "  </tbody>\n",
              "</table>\n",
              "</div>"
            ],
            "text/plain": [
              "            count      mean       std  min       25%       50%       75%  max\n",
              "age         395.0  0.242315  0.182292  0.0  0.142857  0.285714  0.428571  1.0\n",
              "Medu        395.0  0.687342  0.273684  0.0  0.500000  0.750000  1.000000  1.0\n",
              "Fedu        395.0  0.630380  0.272050  0.0  0.500000  0.500000  0.750000  1.0\n",
              "traveltime  395.0  0.149367  0.232502  0.0  0.000000  0.000000  0.333333  1.0\n",
              "studytime   395.0  0.345148  0.279747  0.0  0.000000  0.333333  0.333333  1.0\n",
              "failures    395.0  0.111392  0.247884  0.0  0.000000  0.000000  0.000000  1.0\n",
              "famrel      395.0  0.736076  0.224165  0.0  0.750000  0.750000  1.000000  1.0\n",
              "freetime    395.0  0.558861  0.249716  0.0  0.500000  0.500000  0.750000  1.0\n",
              "goout       395.0  0.527215  0.278320  0.0  0.250000  0.500000  0.750000  1.0\n",
              "Dalc        395.0  0.120253  0.222685  0.0  0.000000  0.000000  0.250000  1.0\n",
              "Walc        395.0  0.322785  0.321974  0.0  0.000000  0.250000  0.500000  1.0\n",
              "health      395.0  0.638608  0.347576  0.0  0.500000  0.750000  1.000000  1.0\n",
              "absences    395.0  0.076118  0.106708  0.0  0.000000  0.053333  0.106667  1.0\n",
              "G1          395.0  0.494304  0.207450  0.0  0.312500  0.500000  0.625000  1.0\n",
              "G2          395.0  0.563891  0.197974  0.0  0.473684  0.578947  0.684211  1.0\n",
              "G3          395.0  0.520759  0.229072  0.0  0.400000  0.550000  0.700000  1.0"
            ]
          },
          "execution_count": 73,
          "metadata": {},
          "output_type": "execute_result"
        }
      ],
      "source": [
        "##Normalización\n",
        "dataNorm = normaData(datos)\n",
        "\n",
        "dataNorm.describe().T"
      ]
    },
    {
      "cell_type": "code",
      "execution_count": 74,
      "metadata": {
        "colab": {
          "base_uri": "https://localhost:8080/",
          "height": 551
        },
        "id": "c3-lE4cgGTmX",
        "outputId": "681b4ee7-9285-444c-86ca-c171b4fbbebe"
      },
      "outputs": [
        {
          "data": {
            "text/html": [
              "<div>\n",
              "<style scoped>\n",
              "    .dataframe tbody tr th:only-of-type {\n",
              "        vertical-align: middle;\n",
              "    }\n",
              "\n",
              "    .dataframe tbody tr th {\n",
              "        vertical-align: top;\n",
              "    }\n",
              "\n",
              "    .dataframe thead th {\n",
              "        text-align: right;\n",
              "    }\n",
              "</style>\n",
              "<table border=\"1\" class=\"dataframe\">\n",
              "  <thead>\n",
              "    <tr style=\"text-align: right;\">\n",
              "      <th></th>\n",
              "      <th>Variable</th>\n",
              "      <th>Valores P</th>\n",
              "      <th>Concepto</th>\n",
              "    </tr>\n",
              "  </thead>\n",
              "  <tbody>\n",
              "    <tr>\n",
              "      <th>0</th>\n",
              "      <td>age</td>\n",
              "      <td>1.587755e-14</td>\n",
              "      <td>No es una variable Normal</td>\n",
              "    </tr>\n",
              "    <tr>\n",
              "      <th>1</th>\n",
              "      <td>Medu</td>\n",
              "      <td>2.815527e-18</td>\n",
              "      <td>No es una variable Normal</td>\n",
              "    </tr>\n",
              "    <tr>\n",
              "      <th>2</th>\n",
              "      <td>Fedu</td>\n",
              "      <td>2.706835e-17</td>\n",
              "      <td>No es una variable Normal</td>\n",
              "    </tr>\n",
              "    <tr>\n",
              "      <th>3</th>\n",
              "      <td>traveltime</td>\n",
              "      <td>2.310144e-27</td>\n",
              "      <td>No es una variable Normal</td>\n",
              "    </tr>\n",
              "    <tr>\n",
              "      <th>4</th>\n",
              "      <td>studytime</td>\n",
              "      <td>6.547699e-20</td>\n",
              "      <td>No es una variable Normal</td>\n",
              "    </tr>\n",
              "    <tr>\n",
              "      <th>5</th>\n",
              "      <td>failures</td>\n",
              "      <td>1.138359e-31</td>\n",
              "      <td>No es una variable Normal</td>\n",
              "    </tr>\n",
              "    <tr>\n",
              "      <th>6</th>\n",
              "      <td>famrel</td>\n",
              "      <td>3.906261e-20</td>\n",
              "      <td>No es una variable Normal</td>\n",
              "    </tr>\n",
              "    <tr>\n",
              "      <th>7</th>\n",
              "      <td>freetime</td>\n",
              "      <td>6.425508e-15</td>\n",
              "      <td>No es una variable Normal</td>\n",
              "    </tr>\n",
              "    <tr>\n",
              "      <th>8</th>\n",
              "      <td>goout</td>\n",
              "      <td>1.412838e-14</td>\n",
              "      <td>No es una variable Normal</td>\n",
              "    </tr>\n",
              "    <tr>\n",
              "      <th>9</th>\n",
              "      <td>Dalc</td>\n",
              "      <td>2.968092e-29</td>\n",
              "      <td>No es una variable Normal</td>\n",
              "    </tr>\n",
              "    <tr>\n",
              "      <th>10</th>\n",
              "      <td>Walc</td>\n",
              "      <td>3.718723e-19</td>\n",
              "      <td>No es una variable Normal</td>\n",
              "    </tr>\n",
              "    <tr>\n",
              "      <th>11</th>\n",
              "      <td>health</td>\n",
              "      <td>4.672440e-19</td>\n",
              "      <td>No es una variable Normal</td>\n",
              "    </tr>\n",
              "    <tr>\n",
              "      <th>12</th>\n",
              "      <td>absences</td>\n",
              "      <td>4.140299e-27</td>\n",
              "      <td>No es una variable Normal</td>\n",
              "    </tr>\n",
              "    <tr>\n",
              "      <th>13</th>\n",
              "      <td>G1</td>\n",
              "      <td>2.455481e-06</td>\n",
              "      <td>No es una variable Normal</td>\n",
              "    </tr>\n",
              "    <tr>\n",
              "      <th>14</th>\n",
              "      <td>G2</td>\n",
              "      <td>2.085406e-07</td>\n",
              "      <td>No es una variable Normal</td>\n",
              "    </tr>\n",
              "    <tr>\n",
              "      <th>15</th>\n",
              "      <td>G3</td>\n",
              "      <td>8.837149e-13</td>\n",
              "      <td>No es una variable Normal</td>\n",
              "    </tr>\n",
              "  </tbody>\n",
              "</table>\n",
              "</div>"
            ],
            "text/plain": [
              "      Variable     Valores P                   Concepto\n",
              "0          age  1.587755e-14  No es una variable Normal\n",
              "1         Medu  2.815527e-18  No es una variable Normal\n",
              "2         Fedu  2.706835e-17  No es una variable Normal\n",
              "3   traveltime  2.310144e-27  No es una variable Normal\n",
              "4    studytime  6.547699e-20  No es una variable Normal\n",
              "5     failures  1.138359e-31  No es una variable Normal\n",
              "6       famrel  3.906261e-20  No es una variable Normal\n",
              "7     freetime  6.425508e-15  No es una variable Normal\n",
              "8        goout  1.412838e-14  No es una variable Normal\n",
              "9         Dalc  2.968092e-29  No es una variable Normal\n",
              "10        Walc  3.718723e-19  No es una variable Normal\n",
              "11      health  4.672440e-19  No es una variable Normal\n",
              "12    absences  4.140299e-27  No es una variable Normal\n",
              "13          G1  2.455481e-06  No es una variable Normal\n",
              "14          G2  2.085406e-07  No es una variable Normal\n",
              "15          G3  8.837149e-13  No es una variable Normal"
            ]
          },
          "execution_count": 74,
          "metadata": {},
          "output_type": "execute_result"
        }
      ],
      "source": [
        "##Test shapiro - wilk\n",
        "testShapiroWilk(dataNorm)"
      ]
    },
    {
      "cell_type": "code",
      "execution_count": 75,
      "metadata": {
        "colab": {
          "base_uri": "https://localhost:8080/",
          "height": 424
        },
        "id": "7FckR9e9GZEv",
        "outputId": "1b328e3c-dbf9-40cf-cf4b-27c8c2cce7f9"
      },
      "outputs": [
        {
          "data": {
            "text/html": [
              "<div>\n",
              "<style scoped>\n",
              "    .dataframe tbody tr th:only-of-type {\n",
              "        vertical-align: middle;\n",
              "    }\n",
              "\n",
              "    .dataframe tbody tr th {\n",
              "        vertical-align: top;\n",
              "    }\n",
              "\n",
              "    .dataframe thead th {\n",
              "        text-align: right;\n",
              "    }\n",
              "</style>\n",
              "<table border=\"1\" class=\"dataframe\">\n",
              "  <thead>\n",
              "    <tr style=\"text-align: right;\">\n",
              "      <th></th>\n",
              "      <th>variable_1</th>\n",
              "      <th>variable_2</th>\n",
              "      <th>r</th>\n",
              "      <th>abs_r</th>\n",
              "    </tr>\n",
              "  </thead>\n",
              "  <tbody>\n",
              "    <tr>\n",
              "      <th>254</th>\n",
              "      <td>G3</td>\n",
              "      <td>G2</td>\n",
              "      <td>0.957125</td>\n",
              "      <td>0.957125</td>\n",
              "    </tr>\n",
              "    <tr>\n",
              "      <th>239</th>\n",
              "      <td>G2</td>\n",
              "      <td>G3</td>\n",
              "      <td>0.957125</td>\n",
              "      <td>0.957125</td>\n",
              "    </tr>\n",
              "    <tr>\n",
              "      <th>237</th>\n",
              "      <td>G2</td>\n",
              "      <td>G1</td>\n",
              "      <td>0.894792</td>\n",
              "      <td>0.894792</td>\n",
              "    </tr>\n",
              "    <tr>\n",
              "      <th>222</th>\n",
              "      <td>G1</td>\n",
              "      <td>G2</td>\n",
              "      <td>0.894792</td>\n",
              "      <td>0.894792</td>\n",
              "    </tr>\n",
              "    <tr>\n",
              "      <th>223</th>\n",
              "      <td>G1</td>\n",
              "      <td>G3</td>\n",
              "      <td>0.878001</td>\n",
              "      <td>0.878001</td>\n",
              "    </tr>\n",
              "    <tr>\n",
              "      <th>...</th>\n",
              "      <td>...</td>\n",
              "      <td>...</td>\n",
              "      <td>...</td>\n",
              "      <td>...</td>\n",
              "    </tr>\n",
              "    <tr>\n",
              "      <th>44</th>\n",
              "      <td>Fedu</td>\n",
              "      <td>absences</td>\n",
              "      <td>0.003568</td>\n",
              "      <td>0.003568</td>\n",
              "    </tr>\n",
              "    <tr>\n",
              "      <th>131</th>\n",
              "      <td>goout</td>\n",
              "      <td>traveltime</td>\n",
              "      <td>-0.001430</td>\n",
              "      <td>0.001430</td>\n",
              "    </tr>\n",
              "    <tr>\n",
              "      <th>56</th>\n",
              "      <td>traveltime</td>\n",
              "      <td>goout</td>\n",
              "      <td>-0.001430</td>\n",
              "      <td>0.001430</td>\n",
              "    </tr>\n",
              "    <tr>\n",
              "      <th>112</th>\n",
              "      <td>freetime</td>\n",
              "      <td>age</td>\n",
              "      <td>0.000302</td>\n",
              "      <td>0.000302</td>\n",
              "    </tr>\n",
              "    <tr>\n",
              "      <th>7</th>\n",
              "      <td>age</td>\n",
              "      <td>freetime</td>\n",
              "      <td>0.000302</td>\n",
              "      <td>0.000302</td>\n",
              "    </tr>\n",
              "  </tbody>\n",
              "</table>\n",
              "<p>240 rows × 4 columns</p>\n",
              "</div>"
            ],
            "text/plain": [
              "     variable_1  variable_2         r     abs_r\n",
              "254          G3          G2  0.957125  0.957125\n",
              "239          G2          G3  0.957125  0.957125\n",
              "237          G2          G1  0.894792  0.894792\n",
              "222          G1          G2  0.894792  0.894792\n",
              "223          G1          G3  0.878001  0.878001\n",
              "..          ...         ...       ...       ...\n",
              "44         Fedu    absences  0.003568  0.003568\n",
              "131       goout  traveltime -0.001430  0.001430\n",
              "56   traveltime       goout -0.001430  0.001430\n",
              "112    freetime         age  0.000302  0.000302\n",
              "7           age    freetime  0.000302  0.000302\n",
              "\n",
              "[240 rows x 4 columns]"
            ]
          },
          "execution_count": 75,
          "metadata": {},
          "output_type": "execute_result"
        }
      ],
      "source": [
        "corr_matrix = dataNorm.corr(method='spearman')\n",
        "\n",
        "tidy_corr_matrix(corr_matrix)"
      ]
    },
    {
      "cell_type": "code",
      "execution_count": 76,
      "metadata": {
        "colab": {
          "base_uri": "https://localhost:8080/",
          "height": 637
        },
        "id": "cSaB_NG6Gxpf",
        "outputId": "bd2428b2-05b6-471c-bca7-6b9f6c6ea632"
      },
      "outputs": [],
      "source": [
        "corr(dataNorm)"
      ]
    },
    {
      "cell_type": "markdown",
      "metadata": {
        "id": "8at8t1rPH7kP"
      },
      "source": [
        "## Paso 4: Modelado"
      ]
    },
    {
      "cell_type": "code",
      "execution_count": 77,
      "metadata": {
        "colab": {
          "base_uri": "https://localhost:8080/"
        },
        "id": "pnyUtt2dHgmR",
        "outputId": "a0063c59-3641-4fc9-d6bb-f839898d6bc7"
      },
      "outputs": [
        {
          "data": {
            "text/plain": [
              "0.788"
            ]
          },
          "execution_count": 77,
          "metadata": {},
          "output_type": "execute_result"
        }
      ],
      "source": [
        "X = dataNorm.drop(['G3'], axis=1)\n",
        "y = dataNorm['G3']\n",
        "\n",
        "X_train, X_test, y_train, y_test = train_test_split(X, y, train_size=0.85, random_state=100)\n",
        "\n",
        "ml = LinearRegression()\n",
        "\n",
        "ml.fit(X_train, y_train)\n",
        "\n",
        "y_pred1 = ml.predict(X_test)\n",
        "\n",
        "round(r2_score(y_test, y_pred1),3)\n",
        "\n"
      ]
    },
    {
      "cell_type": "code",
      "execution_count": 78,
      "metadata": {
        "colab": {
          "base_uri": "https://localhost:8080/"
        },
        "id": "mumPXXvwJu-P",
        "outputId": "941e7f8d-82c0-413d-e546-650efbad8692"
      },
      "outputs": [
        {
          "data": {
            "text/plain": [
              "0.008"
            ]
          },
          "execution_count": 78,
          "metadata": {},
          "output_type": "execute_result"
        }
      ],
      "source": [
        "from sklearn.metrics import mean_squared_error\n",
        "\n",
        "rmse = mean_squared_error(y_test, y_pred1)\n",
        "\n",
        "round(rmse, 3)"
      ]
    },
    {
      "cell_type": "code",
      "execution_count": 79,
      "metadata": {
        "colab": {
          "base_uri": "https://localhost:8080/"
        },
        "id": "6gJbAn0_KTTv",
        "outputId": "8d95578d-5d17-467d-814f-9f94e6a7f121"
      },
      "outputs": [
        {
          "data": {
            "text/plain": [
              "0.847"
            ]
          },
          "execution_count": 79,
          "metadata": {},
          "output_type": "execute_result"
        }
      ],
      "source": [
        "ml2 = LinearRegression()\n",
        "\n",
        "ml2.fit(X_test, y_test)\n",
        "\n",
        "y_pred2 = ml2.predict(X_test)\n",
        "\n",
        "round(r2_score(y_test, y_pred2),3)"
      ]
    },
    {
      "cell_type": "code",
      "execution_count": 80,
      "metadata": {
        "colab": {
          "base_uri": "https://localhost:8080/"
        },
        "id": "Dv_aAIaCKfif",
        "outputId": "f4dc2b1a-d5e1-4ea3-c324-408c3f07b2b7"
      },
      "outputs": [
        {
          "data": {
            "text/plain": [
              "0.006"
            ]
          },
          "execution_count": 80,
          "metadata": {},
          "output_type": "execute_result"
        }
      ],
      "source": [
        "rmse2 = mean_squared_error(y_test, y_pred2)\n",
        "\n",
        "round(rmse2, 3)"
      ]
    },
    {
      "cell_type": "code",
      "execution_count": 81,
      "metadata": {
        "colab": {
          "base_uri": "https://localhost:8080/",
          "height": 296
        },
        "id": "WKV4-DDJKtWP",
        "outputId": "4812641c-311e-4f31-aab8-901fec2a39c3"
      },
      "outputs": [
        {
          "data": {
            "text/plain": [
              "<AxesSubplot:xlabel='G3', ylabel='Density'>"
            ]
          },
          "execution_count": 81,
          "metadata": {},
          "output_type": "execute_result"
        }
      ],
      "source": [
        "ax1 = sns.distplot(y_test, hist=False, color='r', label='Valores actuales')\n",
        "sns.distplot(y_pred2, hist=False, color='b', label='Valores predecidos')"
      ]
    }
  ],
  "metadata": {
    "colab": {
      "provenance": []
    },
    "kernelspec": {
      "display_name": "Python 3.10.6 64-bit",
      "language": "python",
      "name": "python3"
    },
    "language_info": {
      "codemirror_mode": {
        "name": "ipython",
        "version": 3
      },
      "file_extension": ".py",
      "mimetype": "text/x-python",
      "name": "python",
      "nbconvert_exporter": "python",
      "pygments_lexer": "ipython3",
      "version": "3.10.6"
    },
    "orig_nbformat": 4,
    "vscode": {
      "interpreter": {
        "hash": "a77b2f40ed1df9b9e0585d1a6edbb21462fc1256ebafb680e8b8391ecdeee36b"
      }
    }
  },
  "nbformat": 4,
  "nbformat_minor": 0
}
