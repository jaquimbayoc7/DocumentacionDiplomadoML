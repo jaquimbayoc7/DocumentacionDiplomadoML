{
 "cells": [
  {
   "cell_type": "markdown",
   "metadata": {},
   "source": [
    "## Regresión Lineal Simple - Campañas de Marketing"
   ]
  },
  {
   "cell_type": "markdown",
   "metadata": {},
   "source": [
    "## Paso 1: Librerías Importantes"
   ]
  },
  {
   "cell_type": "code",
   "execution_count": 54,
   "metadata": {},
   "outputs": [],
   "source": [
    "##Warnings\n",
    "import warnings\n",
    "warnings.filterwarnings('ignore')\n",
    "\n",
    "##test de normalidad\n",
    "from scipy import stats\n",
    "\n",
    "##Librerías\n",
    "import pandas as pd\n",
    "import numpy as np\n",
    "import matplotlib.pyplot as plt\n",
    "import seaborn as sns\n",
    "\n",
    "##Normalización\n",
    "from sklearn.preprocessing import MinMaxScaler, StandardScaler\n",
    "from sklearn.model_selection import train_test_split\n",
    "\n",
    "##Función para el modelo \n",
    "import statsmodels.api as sm"
   ]
  },
  {
   "cell_type": "markdown",
   "metadata": {},
   "source": [
    "## Paso 2: Librerías para el Proceso de Regresión"
   ]
  },
  {
   "cell_type": "code",
   "execution_count": 40,
   "metadata": {},
   "outputs": [],
   "source": [
    "# Función para importar data .xlsx o .csv\n",
    "def importDatos(ruta, archivo, ext):\n",
    "    if ext == '.csv':\n",
    "        data = pd.read_csv(ruta+archivo+ext)\n",
    "        return data\n",
    "    elif ext == '.xlsx':\n",
    "        data = pd.read_excel(ruta+archivo+ext)\n",
    "        return data\n",
    "    else:\n",
    "        print('Extensión diferente')\n",
    "        \n",
    "def diagCaja(df, coluno, coldos, coltres):\n",
    "    fig, ax = plt.subplots(3, figsize=(5,5))\n",
    "    plt1 = sns.boxplot(df[coluno], ax=ax[0])\n",
    "    plt2 = sns.boxplot(df[coldos], ax=ax[1])\n",
    "    plt3 = sns.boxplot(df[coltres], ax=ax[2])\n",
    "    plt.tight_layout()\n",
    "\n",
    "##Función para cruce de variables\n",
    "def grafT(df, vect, vary):\n",
    "    sns.pairplot(df, x_vars=vect, y_vars=vary, height=4, aspect=1, kind='reg')\n",
    "\n",
    "# Función para el test de Shapiro - wilk - resistente al ruido en los datos\n",
    "\n",
    "def testShapiroWilk(df):\n",
    "    valoresP = []\n",
    "    concepto = []\n",
    "    variable = []\n",
    "    for column in df:\n",
    "        k2, p_value = stats.shapiro(df[column].values)\n",
    "        valoresP.append(p_value)\n",
    "        variable.append(column)\n",
    "        if (p_value < 0.05):\n",
    "            concepto.append('No es una variable Normal')\n",
    "        else:\n",
    "            concepto.append('Es una variable Normal')\n",
    "    dfShapiro = pd.DataFrame(\n",
    "        {'Variable': variable, 'Valores P': valoresP, 'Concepto': concepto})\n",
    "    return dfShapiro\n",
    "\n",
    "# Función para normalizar la data min - max sklearn\n",
    "\n",
    "\n",
    "def normaData(df):\n",
    "    valores = df.values  \n",
    "    scaler = MinMaxScaler(feature_range=(0, 1))\n",
    "    scaler = scaler.fit(valores)\n",
    "\n",
    "    pd.DataFrame(np.vstack((scaler.data_min_, scaler.data_max_)),\n",
    "             index=['Min', 'Max'],\n",
    "             columns=df.columns)\n",
    "\n",
    "    normalizados = scaler.transform(valores)\n",
    "    df_norm = pd.DataFrame(normalizados,\n",
    "                       index=df.index,\n",
    "                       columns=df.columns)\n",
    "    return df_norm\n",
    "\n",
    "## Función para hacer la matriz de correlación de manera Tidy\n",
    "def tidy_corr_matrix(corr_mat):\n",
    "    '''\n",
    "    Función para convertir una matriz de correlación de pandas en formato tidy.\n",
    "    '''\n",
    "    corr_mat = corr_mat.stack().reset_index()\n",
    "    corr_mat.columns = ['variable_1','variable_2','r']\n",
    "    corr_mat = corr_mat.loc[corr_mat['variable_1'] != corr_mat['variable_2'], :]\n",
    "    corr_mat['abs_r'] = np.abs(corr_mat['r'])\n",
    "    corr_mat = corr_mat.sort_values('abs_r', ascending=False)\n",
    "    \n",
    "    return(corr_mat)\n",
    "\n",
    "  "
   ]
  },
  {
   "cell_type": "markdown",
   "metadata": {},
   "source": [
    "### **Pregunta de Investigación: ¿Si es viable invertir en alguna específica para incrementar las ventas?**"
   ]
  },
  {
   "cell_type": "markdown",
   "metadata": {},
   "source": [
    "## Paso 3: Ejecucción Funciones"
   ]
  },
  {
   "cell_type": "code",
   "execution_count": 5,
   "metadata": {},
   "outputs": [
    {
     "name": "stdout",
     "output_type": "stream",
     "text": [
      "<class 'pandas.core.frame.DataFrame'>\n",
      "RangeIndex: 200 entries, 0 to 199\n",
      "Data columns (total 4 columns):\n",
      " #   Column     Non-Null Count  Dtype  \n",
      "---  ------     --------------  -----  \n",
      " 0   TV         200 non-null    float64\n",
      " 1   Radio      200 non-null    float64\n",
      " 2   Newspaper  200 non-null    float64\n",
      " 3   Sales      200 non-null    float64\n",
      "dtypes: float64(4)\n",
      "memory usage: 6.4 KB\n"
     ]
    }
   ],
   "source": [
    "## importación\n",
    "datos = importDatos('C:/Users/Supermercado/Downloads/1. Limpieza/3. Aprendizaje Supervisado Regresion/Datasets/', 'ventas','.csv')\n",
    "\n",
    "datos.info()"
   ]
  },
  {
   "cell_type": "markdown",
   "metadata": {},
   "source": [
    "## Paso 4: Graficas exploratorias"
   ]
  },
  {
   "cell_type": "code",
   "execution_count": 27,
   "metadata": {},
   "outputs": [
    {
     "data": {
      "image/png": "[encoded data removed]",
      "text/plain": [
       "<Figure size 500x500 with 3 Axes>"
      ]
     },
     "metadata": {},
     "output_type": "display_data"
    }
   ],
   "source": [
    "diagCaja(datos, 'TV','Radio','Newspaper')"
   ]
  },
  {
   "cell_type": "code",
   "execution_count": 33,
   "metadata": {},
   "outputs": [
    {
     "data": {
      "image/png": "[encoded data removed]",
      "text/plain": [
       "<Figure size 1200x400 with 3 Axes>"
      ]
     },
     "metadata": {},
     "output_type": "display_data"
    }
   ],
   "source": [
    "##Llamado a función\n",
    "grafT(datos, ['TV','Newspaper','Radio'], 'Sales')"
   ]
  },
  {
   "cell_type": "code",
   "execution_count": 35,
   "metadata": {},
   "outputs": [
    {
     "data": {
      "text/html": [
       "<div>\n",
       "<style scoped>\n",
       "    .dataframe tbody tr th:only-of-type {\n",
       "        vertical-align: middle;\n",
       "    }\n",
       "\n",
       "    .dataframe tbody tr th {\n",
       "        vertical-align: top;\n",
       "    }\n",
       "\n",
       "    .dataframe thead th {\n",
       "        text-align: right;\n",
       "    }\n",
       "</style>\n",
       "<table border=\"1\" class=\"dataframe\">\n",
       "  <thead>\n",
       "    <tr style=\"text-align: right;\">\n",
       "      <th></th>\n",
       "      <th>Variable</th>\n",
       "      <th>Valores P</th>\n",
       "      <th>Concepto</th>\n",
       "    </tr>\n",
       "  </thead>\n",
       "  <tbody>\n",
       "    <tr>\n",
       "      <th>0</th>\n",
       "      <td>TV</td>\n",
       "      <td>1.692741e-06</td>\n",
       "      <td>No es una variable Normal</td>\n",
       "    </tr>\n",
       "    <tr>\n",
       "      <th>1</th>\n",
       "      <td>Radio</td>\n",
       "      <td>5.196916e-07</td>\n",
       "      <td>No es una variable Normal</td>\n",
       "    </tr>\n",
       "    <tr>\n",
       "      <th>2</th>\n",
       "      <td>Newspaper</td>\n",
       "      <td>1.127221e-07</td>\n",
       "      <td>No es una variable Normal</td>\n",
       "    </tr>\n",
       "    <tr>\n",
       "      <th>3</th>\n",
       "      <td>Sales</td>\n",
       "      <td>7.643628e-02</td>\n",
       "      <td>Es una variable Normal</td>\n",
       "    </tr>\n",
       "  </tbody>\n",
       "</table>\n",
       "</div>"
      ],
      "text/plain": [
       "    Variable     Valores P                   Concepto\n",
       "0         TV  1.692741e-06  No es una variable Normal\n",
       "1      Radio  5.196916e-07  No es una variable Normal\n",
       "2  Newspaper  1.127221e-07  No es una variable Normal\n",
       "3      Sales  7.643628e-02     Es una variable Normal"
      ]
     },
     "execution_count": 35,
     "metadata": {},
     "output_type": "execute_result"
    }
   ],
   "source": [
    "##Test de normalidad - se escoge ventas como variable predictora o Y, teniendo en cuenta que su valor de P es mayor a 0.05.\n",
    "dataShapiro= testShapiroWilk(datos)\n",
    "\n",
    "dataShapiro"
   ]
  },
  {
   "cell_type": "code",
   "execution_count": 36,
   "metadata": {},
   "outputs": [
    {
     "data": {
      "text/html": [
       "<div>\n",
       "<style scoped>\n",
       "    .dataframe tbody tr th:only-of-type {\n",
       "        vertical-align: middle;\n",
       "    }\n",
       "\n",
       "    .dataframe tbody tr th {\n",
       "        vertical-align: top;\n",
       "    }\n",
       "\n",
       "    .dataframe thead th {\n",
       "        text-align: right;\n",
       "    }\n",
       "</style>\n",
       "<table border=\"1\" class=\"dataframe\">\n",
       "  <thead>\n",
       "    <tr style=\"text-align: right;\">\n",
       "      <th></th>\n",
       "      <th>count</th>\n",
       "      <th>mean</th>\n",
       "      <th>std</th>\n",
       "      <th>min</th>\n",
       "      <th>25%</th>\n",
       "      <th>50%</th>\n",
       "      <th>75%</th>\n",
       "      <th>max</th>\n",
       "    </tr>\n",
       "  </thead>\n",
       "  <tbody>\n",
       "    <tr>\n",
       "      <th>TV</th>\n",
       "      <td>200.0</td>\n",
       "      <td>147.0425</td>\n",
       "      <td>85.854236</td>\n",
       "      <td>0.7</td>\n",
       "      <td>74.375</td>\n",
       "      <td>149.75</td>\n",
       "      <td>218.825</td>\n",
       "      <td>296.4</td>\n",
       "    </tr>\n",
       "    <tr>\n",
       "      <th>Radio</th>\n",
       "      <td>200.0</td>\n",
       "      <td>23.2640</td>\n",
       "      <td>14.846809</td>\n",
       "      <td>0.0</td>\n",
       "      <td>9.975</td>\n",
       "      <td>22.90</td>\n",
       "      <td>36.525</td>\n",
       "      <td>49.6</td>\n",
       "    </tr>\n",
       "    <tr>\n",
       "      <th>Newspaper</th>\n",
       "      <td>200.0</td>\n",
       "      <td>30.5540</td>\n",
       "      <td>21.778621</td>\n",
       "      <td>0.3</td>\n",
       "      <td>12.750</td>\n",
       "      <td>25.75</td>\n",
       "      <td>45.100</td>\n",
       "      <td>114.0</td>\n",
       "    </tr>\n",
       "    <tr>\n",
       "      <th>Sales</th>\n",
       "      <td>200.0</td>\n",
       "      <td>15.1305</td>\n",
       "      <td>5.283892</td>\n",
       "      <td>1.6</td>\n",
       "      <td>11.000</td>\n",
       "      <td>16.00</td>\n",
       "      <td>19.050</td>\n",
       "      <td>27.0</td>\n",
       "    </tr>\n",
       "  </tbody>\n",
       "</table>\n",
       "</div>"
      ],
      "text/plain": [
       "           count      mean        std  min     25%     50%      75%    max\n",
       "TV         200.0  147.0425  85.854236  0.7  74.375  149.75  218.825  296.4\n",
       "Radio      200.0   23.2640  14.846809  0.0   9.975   22.90   36.525   49.6\n",
       "Newspaper  200.0   30.5540  21.778621  0.3  12.750   25.75   45.100  114.0\n",
       "Sales      200.0   15.1305   5.283892  1.6  11.000   16.00   19.050   27.0"
      ]
     },
     "execution_count": 36,
     "metadata": {},
     "output_type": "execute_result"
    }
   ],
   "source": [
    "##Se revisa la std(desviación estandar) y la media si estan alejados se procede a normalizar.\n",
    "datos.describe().T"
   ]
  },
  {
   "cell_type": "code",
   "execution_count": 39,
   "metadata": {},
   "outputs": [
    {
     "data": {
      "text/html": [
       "<div>\n",
       "<style scoped>\n",
       "    .dataframe tbody tr th:only-of-type {\n",
       "        vertical-align: middle;\n",
       "    }\n",
       "\n",
       "    .dataframe tbody tr th {\n",
       "        vertical-align: top;\n",
       "    }\n",
       "\n",
       "    .dataframe thead th {\n",
       "        text-align: right;\n",
       "    }\n",
       "</style>\n",
       "<table border=\"1\" class=\"dataframe\">\n",
       "  <thead>\n",
       "    <tr style=\"text-align: right;\">\n",
       "      <th></th>\n",
       "      <th>count</th>\n",
       "      <th>mean</th>\n",
       "      <th>std</th>\n",
       "      <th>min</th>\n",
       "      <th>25%</th>\n",
       "      <th>50%</th>\n",
       "      <th>75%</th>\n",
       "      <th>max</th>\n",
       "    </tr>\n",
       "  </thead>\n",
       "  <tbody>\n",
       "    <tr>\n",
       "      <th>TV</th>\n",
       "      <td>200.0</td>\n",
       "      <td>0.494902</td>\n",
       "      <td>0.290342</td>\n",
       "      <td>0.0</td>\n",
       "      <td>0.249155</td>\n",
       "      <td>0.504058</td>\n",
       "      <td>0.737656</td>\n",
       "      <td>1.0</td>\n",
       "    </tr>\n",
       "    <tr>\n",
       "      <th>Radio</th>\n",
       "      <td>200.0</td>\n",
       "      <td>0.469032</td>\n",
       "      <td>0.299331</td>\n",
       "      <td>0.0</td>\n",
       "      <td>0.201109</td>\n",
       "      <td>0.461694</td>\n",
       "      <td>0.736391</td>\n",
       "      <td>1.0</td>\n",
       "    </tr>\n",
       "    <tr>\n",
       "      <th>Newspaper</th>\n",
       "      <td>200.0</td>\n",
       "      <td>0.266086</td>\n",
       "      <td>0.191545</td>\n",
       "      <td>0.0</td>\n",
       "      <td>0.109499</td>\n",
       "      <td>0.223835</td>\n",
       "      <td>0.394019</td>\n",
       "      <td>1.0</td>\n",
       "    </tr>\n",
       "    <tr>\n",
       "      <th>Sales</th>\n",
       "      <td>200.0</td>\n",
       "      <td>0.532697</td>\n",
       "      <td>0.208027</td>\n",
       "      <td>0.0</td>\n",
       "      <td>0.370079</td>\n",
       "      <td>0.566929</td>\n",
       "      <td>0.687008</td>\n",
       "      <td>1.0</td>\n",
       "    </tr>\n",
       "  </tbody>\n",
       "</table>\n",
       "</div>"
      ],
      "text/plain": [
       "           count      mean       std  min       25%       50%       75%  max\n",
       "TV         200.0  0.494902  0.290342  0.0  0.249155  0.504058  0.737656  1.0\n",
       "Radio      200.0  0.469032  0.299331  0.0  0.201109  0.461694  0.736391  1.0\n",
       "Newspaper  200.0  0.266086  0.191545  0.0  0.109499  0.223835  0.394019  1.0\n",
       "Sales      200.0  0.532697  0.208027  0.0  0.370079  0.566929  0.687008  1.0"
      ]
     },
     "execution_count": 39,
     "metadata": {},
     "output_type": "execute_result"
    }
   ],
   "source": [
    "###Normalizando la data\n",
    "dataNorm = normaData(datos)\n",
    "\n",
    "dataNorm.describe().T"
   ]
  },
  {
   "cell_type": "code",
   "execution_count": 47,
   "metadata": {},
   "outputs": [
    {
     "data": {
      "text/html": [
       "<div>\n",
       "<style scoped>\n",
       "    .dataframe tbody tr th:only-of-type {\n",
       "        vertical-align: middle;\n",
       "    }\n",
       "\n",
       "    .dataframe tbody tr th {\n",
       "        vertical-align: top;\n",
       "    }\n",
       "\n",
       "    .dataframe thead th {\n",
       "        text-align: right;\n",
       "    }\n",
       "</style>\n",
       "<table border=\"1\" class=\"dataframe\">\n",
       "  <thead>\n",
       "    <tr style=\"text-align: right;\">\n",
       "      <th></th>\n",
       "      <th>variable_1</th>\n",
       "      <th>variable_2</th>\n",
       "      <th>r</th>\n",
       "      <th>abs_r</th>\n",
       "    </tr>\n",
       "  </thead>\n",
       "  <tbody>\n",
       "    <tr>\n",
       "      <th>3</th>\n",
       "      <td>TV</td>\n",
       "      <td>Sales</td>\n",
       "      <td>0.900996</td>\n",
       "      <td>0.900996</td>\n",
       "    </tr>\n",
       "    <tr>\n",
       "      <th>12</th>\n",
       "      <td>Sales</td>\n",
       "      <td>TV</td>\n",
       "      <td>0.900996</td>\n",
       "      <td>0.900996</td>\n",
       "    </tr>\n",
       "    <tr>\n",
       "      <th>7</th>\n",
       "      <td>Radio</td>\n",
       "      <td>Sales</td>\n",
       "      <td>0.339949</td>\n",
       "      <td>0.339949</td>\n",
       "    </tr>\n",
       "    <tr>\n",
       "      <th>13</th>\n",
       "      <td>Sales</td>\n",
       "      <td>Radio</td>\n",
       "      <td>0.339949</td>\n",
       "      <td>0.339949</td>\n",
       "    </tr>\n",
       "    <tr>\n",
       "      <th>6</th>\n",
       "      <td>Radio</td>\n",
       "      <td>Newspaper</td>\n",
       "      <td>0.316979</td>\n",
       "      <td>0.316979</td>\n",
       "    </tr>\n",
       "    <tr>\n",
       "      <th>9</th>\n",
       "      <td>Newspaper</td>\n",
       "      <td>Radio</td>\n",
       "      <td>0.316979</td>\n",
       "      <td>0.316979</td>\n",
       "    </tr>\n",
       "    <tr>\n",
       "      <th>11</th>\n",
       "      <td>Newspaper</td>\n",
       "      <td>Sales</td>\n",
       "      <td>0.123027</td>\n",
       "      <td>0.123027</td>\n",
       "    </tr>\n",
       "    <tr>\n",
       "      <th>14</th>\n",
       "      <td>Sales</td>\n",
       "      <td>Newspaper</td>\n",
       "      <td>0.123027</td>\n",
       "      <td>0.123027</td>\n",
       "    </tr>\n",
       "    <tr>\n",
       "      <th>1</th>\n",
       "      <td>TV</td>\n",
       "      <td>Radio</td>\n",
       "      <td>0.056123</td>\n",
       "      <td>0.056123</td>\n",
       "    </tr>\n",
       "    <tr>\n",
       "      <th>4</th>\n",
       "      <td>Radio</td>\n",
       "      <td>TV</td>\n",
       "      <td>0.056123</td>\n",
       "      <td>0.056123</td>\n",
       "    </tr>\n",
       "    <tr>\n",
       "      <th>2</th>\n",
       "      <td>TV</td>\n",
       "      <td>Newspaper</td>\n",
       "      <td>0.050840</td>\n",
       "      <td>0.050840</td>\n",
       "    </tr>\n",
       "    <tr>\n",
       "      <th>8</th>\n",
       "      <td>Newspaper</td>\n",
       "      <td>TV</td>\n",
       "      <td>0.050840</td>\n",
       "      <td>0.050840</td>\n",
       "    </tr>\n",
       "  </tbody>\n",
       "</table>\n",
       "</div>"
      ],
      "text/plain": [
       "   variable_1 variable_2         r     abs_r\n",
       "3          TV      Sales  0.900996  0.900996\n",
       "12      Sales         TV  0.900996  0.900996\n",
       "7       Radio      Sales  0.339949  0.339949\n",
       "13      Sales      Radio  0.339949  0.339949\n",
       "6       Radio  Newspaper  0.316979  0.316979\n",
       "9   Newspaper      Radio  0.316979  0.316979\n",
       "11  Newspaper      Sales  0.123027  0.123027\n",
       "14      Sales  Newspaper  0.123027  0.123027\n",
       "1          TV      Radio  0.056123  0.056123\n",
       "4       Radio         TV  0.056123  0.056123\n",
       "2          TV  Newspaper  0.050840  0.050840\n",
       "8   Newspaper         TV  0.050840  0.050840"
      ]
     },
     "execution_count": 47,
     "metadata": {},
     "output_type": "execute_result"
    }
   ],
   "source": [
    "##Correlaciones\n",
    "##Según la correlación de spearman y pearson Tv y Sales tienen un coeficiente de correlación de 0.90;\n",
    "##por otro lado con la correlación de Kendall la fortaleza del modelo futuro de regresión se encuentra en el rango de 0.72 a 0.90\n",
    "##El posible modelo puede estar en un margen de error entre 10% al 28%.\n",
    "corr_matrix = dataNorm.corr(method='spearman')\n",
    "\n",
    "tidy_corr_matrix(corr_matrix)"
   ]
  },
  {
   "cell_type": "code",
   "execution_count": 48,
   "metadata": {},
   "outputs": [
    {
     "data": {
      "image/png": "[encoded data removed]",
      "text/plain": [
       "<Figure size 500x500 with 1 Axes>"
      ]
     },
     "metadata": {},
     "output_type": "display_data"
    }
   ],
   "source": [
    "fig, ax = plt.subplots(nrows=1, ncols=1, figsize=(5, 5))\n",
    "\n",
    "sns.heatmap(\n",
    "    corr_matrix,\n",
    "    annot     = True,\n",
    "    cbar      = False,\n",
    "    annot_kws = {\"size\": 8},\n",
    "    vmin      = -1,\n",
    "    vmax      = 1,\n",
    "    center    = 0,\n",
    "    cmap      = sns.diverging_palette(15, 150, n=100),\n",
    "    square    = True,\n",
    "    ax        = ax\n",
    ")\n",
    "\n",
    "ax.set_xticklabels(\n",
    "    ax.get_xticklabels(),\n",
    "    rotation = 45,\n",
    "    horizontalalignment = 'right',\n",
    ")\n",
    "\n",
    "ax.tick_params(labelsize = 10)"
   ]
  },
  {
   "cell_type": "markdown",
   "metadata": {},
   "source": [
    "## Paso Entrenamiento y Testeo del Modelo"
   ]
  },
  {
   "cell_type": "code",
   "execution_count": 71,
   "metadata": {},
   "outputs": [],
   "source": [
    "##Dividir el dataset\n",
    "##X variable o variables independiente\n",
    "X = dataNorm['TV']\n",
    "##y variable a predecir\n",
    "y = dataNorm['Sales']\n",
    "\n",
    "##Partición de la data 70% entrenamiento y 30% testeo\n",
    "X_train, X_test, y_train, y_test = train_test_split(X, y, train_size=0.60, random_state=100)\n",
    "\n",
    "#X_train.shape, X_test.shape\n",
    "\n",
    "##Entrenar el modelo\n",
    "X_train_sm = sm.add_constant(X_train)\n",
    "\n",
    "RLMUno = sm.OLS(y_train, X_train_sm).fit()"
   ]
  },
  {
   "cell_type": "code",
   "execution_count": 72,
   "metadata": {},
   "outputs": [
    {
     "data": {
      "text/plain": [
       "const    0.205487\n",
       "TV       0.647731\n",
       "dtype: float64"
      ]
     },
     "execution_count": 72,
     "metadata": {},
     "output_type": "execute_result"
    }
   ],
   "source": [
    "RLMUno.params\n",
    "\n",
    "#y = m+ b*X\n",
    "\n",
    "#Sales = 0.212081 + 0.635007 * X_test"
   ]
  },
  {
   "cell_type": "code",
   "execution_count": 73,
   "metadata": {},
   "outputs": [
    {
     "name": "stdout",
     "output_type": "stream",
     "text": [
      "                            OLS Regression Results                            \n",
      "==============================================================================\n",
      "Dep. Variable:                  Sales   R-squared:                       0.822\n",
      "Model:                            OLS   Adj. R-squared:                  0.820\n",
      "Method:                 Least Squares   F-statistic:                     543.6\n",
      "Date:                Sat, 29 Oct 2022   Prob (F-statistic):           5.43e-46\n",
      "Time:                        10:08:38   Log-Likelihood:                 109.48\n",
      "No. Observations:                 120   AIC:                            -215.0\n",
      "Df Residuals:                     118   BIC:                            -209.4\n",
      "Df Model:                           1                                         \n",
      "Covariance Type:            nonrobust                                         \n",
      "==============================================================================\n",
      "                 coef    std err          t      P>|t|      [0.025      0.975]\n",
      "------------------------------------------------------------------------------\n",
      "const          0.2055      0.016     12.497      0.000       0.173       0.238\n",
      "TV             0.6477      0.028     23.314      0.000       0.593       0.703\n",
      "==============================================================================\n",
      "Omnibus:                        0.293   Durbin-Watson:                   2.204\n",
      "Prob(Omnibus):                  0.864   Jarque-Bera (JB):                0.428\n",
      "Skew:                          -0.101   Prob(JB):                        0.807\n",
      "Kurtosis:                       2.788   Cond. No.                         3.94\n",
      "==============================================================================\n",
      "\n",
      "Notes:\n",
      "[1] Standard Errors assume that the covariance matrix of the errors is correctly specified.\n"
     ]
    }
   ],
   "source": [
    "print(RLMUno.summary())\n",
    "##81% de los datos de ventas pueden ser predecidos el restante 19% es el margen de error del modelo,\n",
    "##El modelo es consistente con datos nuevo ya que hay una diferencia minima de 0.002 entre valores de R.\n",
    "##De 100 datos analizados 81 se pueden predecir correctamente de lo contrario 19 no serán bien predecidos.\n",
    "##Con datos de entrenamiento de 60% y 80% tiene la misma eficiencia."
   ]
  },
  {
   "cell_type": "code",
   "execution_count": 64,
   "metadata": {},
   "outputs": [
    {
     "data": {
      "image/png": "[encoded data removed]",
      "text/plain": [
       "<Figure size 640x480 with 1 Axes>"
      ]
     },
     "metadata": {},
     "output_type": "display_data"
    }
   ],
   "source": [
    "plt.scatter(X_train, y_train)\n",
    "plt.plot(X_train, 0.2139 + 0.6299 * X_train, 'r')\n",
    "plt.show()"
   ]
  },
  {
   "cell_type": "code",
   "execution_count": 76,
   "metadata": {},
   "outputs": [
    {
     "data": {
      "text/plain": [
       "count    1.200000e+02\n",
       "mean    -9.251859e-18\n",
       "std      9.757624e-02\n",
       "min     -2.479606e-01\n",
       "25%     -6.533273e-02\n",
       "50%      8.319833e-04\n",
       "75%      6.641199e-02\n",
       "max      2.304349e-01\n",
       "dtype: float64"
      ]
     },
     "execution_count": 76,
     "metadata": {},
     "output_type": "execute_result"
    }
   ],
   "source": [
    "y_train_pred = RLMUno.predict(X_train_sm)\n",
    "\n",
    "prediccion = (y_train - y_train_pred)\n",
    "\n",
    "prediccion.describe().T"
   ]
  },
  {
   "cell_type": "code",
   "execution_count": 75,
   "metadata": {},
   "outputs": [
    {
     "data": {
      "text/plain": [
       "count    80.000000\n",
       "mean      0.524377\n",
       "std       0.151729\n",
       "min       0.221039\n",
       "25%       0.396772\n",
       "50%       0.548957\n",
       "75%       0.666970\n",
       "max       0.748950\n",
       "dtype: float64"
      ]
     },
     "execution_count": 75,
     "metadata": {},
     "output_type": "execute_result"
    }
   ],
   "source": [
    "X_test_sm = sm.add_constant(X_test)\n",
    "\n",
    "y_pred = RLMUno.predict(X_test_sm)\n",
    "\n",
    "y_pred.describe().T"
   ]
  },
  {
   "cell_type": "code",
   "execution_count": 79,
   "metadata": {},
   "outputs": [
    {
     "data": {
      "text/plain": [
       "78.0"
      ]
     },
     "execution_count": 79,
     "metadata": {},
     "output_type": "execute_result"
    }
   ],
   "source": [
    "from sklearn.metrics import r2_score, mean_squared_error\n",
    "\n",
    "rfinal = r2_score(y_test, y_pred)\n",
    "\n",
    "round(rfinal,2)*100"
   ]
  },
  {
   "cell_type": "code",
   "execution_count": 83,
   "metadata": {},
   "outputs": [
    {
     "data": {
      "text/plain": [
       "0.62"
      ]
     },
     "execution_count": 83,
     "metadata": {},
     "output_type": "execute_result"
    }
   ],
   "source": [
    "rmse = mean_squared_error(y_test, y_pred)\n",
    "round(rmse,4)*100"
   ]
  },
  {
   "cell_type": "code",
   "execution_count": 84,
   "metadata": {},
   "outputs": [
    {
     "data": {
      "text/plain": [
       "126    0.196850\n",
       "104    0.751969\n",
       "99     0.614173\n",
       "92     0.700787\n",
       "111    0.795276\n",
       "         ...   \n",
       "146    0.653543\n",
       "199    0.661417\n",
       "10     0.433071\n",
       "20     0.645669\n",
       "165    0.602362\n",
       "Name: Sales, Length: 80, dtype: float64"
      ]
     },
     "execution_count": 84,
     "metadata": {},
     "output_type": "execute_result"
    }
   ],
   "source": [
    "y_test"
   ]
  },
  {
   "cell_type": "code",
   "execution_count": 85,
   "metadata": {},
   "outputs": [
    {
     "data": {
      "text/plain": [
       "126    0.221039\n",
       "104    0.725731\n",
       "99     0.500109\n",
       "92     0.680825\n",
       "111    0.733397\n",
       "         ...   \n",
       "146    0.729892\n",
       "199    0.712368\n",
       "10     0.348745\n",
       "20     0.682359\n",
       "165    0.717626\n",
       "Length: 80, dtype: float64"
      ]
     },
     "execution_count": 85,
     "metadata": {},
     "output_type": "execute_result"
    }
   ],
   "source": [
    "y_pred"
   ]
  },
  {
   "cell_type": "markdown",
   "metadata": {},
   "source": [
    "El modelo creado de regresión linea tomó la variable Tv como independiente y Sales como Dependiente. Se particionó la data en entrenamiento con un 60%\n",
    "de la data y en testeo con un 40% restante. Ejecutando las métricas se evidencia que de 100 datos de ejemplo el 78% puede predecirse de manera correcta\n",
    "con un margen de error del 22% asumiendo una diferencia ente los valores actuales y predecidos (RMSE) de 0.62. Lo cual manifiesta que es posible invertir en campaña de TV para poder mejorar las ventas de algun producto."
   ]
  },
  {
   "cell_type": "markdown",
   "metadata": {},
   "source": []
  },
  {
   "cell_type": "code",
   "execution_count": null,
   "metadata": {},
   "outputs": [],
   "source": []
  }
 ],
 "metadata": {
  "kernelspec": {
   "display_name": "Python 3.10.8 64-bit",
   "language": "python",
   "name": "python3"
  },
  "language_info": {
   "codemirror_mode": {
    "name": "ipython",
    "version": 3
   },
   "file_extension": ".py",
   "mimetype": "text/x-python",
   "name": "python",
   "nbconvert_exporter": "python",
   "pygments_lexer": "ipython3",
   "version": "3.10.8"
  },
  "orig_nbformat": 4,
  "vscode": {
   "interpreter": {
    "hash": "b14b47903be4b8a826c78dddca006b5f8cf0b7753828659a64c76e165d9e874e"
   }
  }
 },
 "nbformat": 4,
 "nbformat_minor": 2
}
