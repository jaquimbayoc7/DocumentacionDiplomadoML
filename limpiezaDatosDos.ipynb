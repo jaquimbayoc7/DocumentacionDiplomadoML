{
 "cells": [
  {
   "cell_type": "markdown",
   "metadata": {},
   "source": [
    "# Introducción a Limpieza de Datos"
   ]
  },
  {
   "cell_type": "markdown",
   "metadata": {},
   "source": [
    "## Paso 1: Crear las funciones para Trabajo"
   ]
  },
  {
   "cell_type": "code",
   "execution_count": 96,
   "metadata": {},
   "outputs": [],
   "source": [
    "##Cargue de las librerías\n",
    "import pandas as pd\n",
    "import numpy as np\n",
    "import matplotlib.pyplot as plt\n",
    "import seaborn as sns"
   ]
  },
  {
   "cell_type": "code",
   "execution_count": 97,
   "metadata": {},
   "outputs": [],
   "source": [
    "##Función para importar data .xlsx o .csv\n",
    "def importDatos(ruta, archivo, ext):\n",
    "    if ext=='.csv':\n",
    "        data = pd.read_csv(ruta+archivo+ext)\n",
    "        return data\n",
    "    elif ext =='.xlsx':\n",
    "        data = pd.read_excel(ruta+archivo+ext)\n",
    "        return data\n",
    "    else:\n",
    "        print('Extensión diferente')\n",
    "\n",
    "##Función informe sobre los datos NAN\n",
    "def datos_NA(df):\n",
    "    if isinstance(df, pd.DataFrame):\n",
    "        total_na = df.isna().sum().sum()\n",
    "        print(\"Dimensiones : %d filas, %d columnas\" % (df.shape[0], df.shape[1]))\n",
    "        print(\"Total Valores NA : %d \" % (total_na))\n",
    "        print(\"%38s %10s     %10s %10s\" % (\"Nombre Columna\", \"Tipo de Dato\", \"#Distintos\", \"Valores NA\"))\n",
    "        col_name = df.columns\n",
    "        dtyp = df.dtypes\n",
    "        uniq = df.nunique()\n",
    "        na_val = df.isna().sum()\n",
    "        for i in range(len(df.columns)):\n",
    "            print(\"%38s %10s   %10s %10s\" % (col_name[i], dtyp[i], uniq[i], na_val[i]))\n",
    "        \n",
    "    else:\n",
    "        print(\"Se esperaba dataframe %15s\" % (type(df)))\n",
    "\n",
    "##Función para pintar algo el histograma reemplazamos con la media o mediana\n",
    "def histoPlot(df, nomCol, anchoBar):\n",
    "    sns.histplot(data=df, x=nomCol, binwidth=anchoBar, kde=True)\n",
    "\n",
    "##Función para reemplazo de valore numéricos con la mediana\n",
    "def imputacionNa(df, nomCol, param):\n",
    "    if param == 'media':\n",
    "        df[nomCol] = df[nomCol].fillna(df[nomCol].mean())\n",
    "        return df[nomCol]\n",
    "    else:\n",
    "        df[nomCol] = df[nomCol].fillna(df[nomCol].median())\n",
    "        return df[nomCol]\n",
    "##Funcion para revisar datos categóricos o texto\n",
    "def revCategoricos(df, nomCol):\n",
    "    rev = df[nomCol].value_counts()\n",
    "    return rev\n",
    "\n",
    "##Función para datos categóricos modificaciones\n",
    "def imputacionCat(df, nomCol, busqueda, reempl):\n",
    "    df[nomCol] = np.where(df[nomCol]==busqueda, reempl,df[nomCol])\n",
    "    return df[nomCol]\n",
    "\n",
    "##Función para reeemplazo NA categóricos\n",
    "def imputacionCatNa(df, nomCol):\n",
    "    df[nomCol]= df[nomCol].fillna(df[nomCol].mode()[0])\n",
    "    return df[nomCol]\n",
    "\n",
    "##Función para cambiar datos de texto a numerico float64\n",
    "def cambioTextNum(df, nomCol, tipo):\n",
    "    df[nomCol] = df[nomCol].astype(tipo)\n",
    "    return df[nomCol]\n",
    "\n",
    "##Función modificar a 1 y 0 los datos categóricos\n",
    "def camTextBi(df, nomCol, busqueda, camuno, camdos):\n",
    "    df[nomCol] = np.where(df[nomCol]==busqueda, camuno, camdos)\n",
    "    return df[nomCol]\n",
    "\n",
    "##Función para variables dummies\n",
    "def convDummies(df, nomCol):\n",
    "    dummies = pd.get_dummies(df[nomCol])\n",
    "    data = pd.concat([df, dummies], axis=1)\n",
    "    data.drop(columns=[nomCol], inplace=True)\n",
    "    return data\n",
    "\n",
    "##Función cambiar encabezados del dataframe\n",
    "def camEncab(df, listaN):\n",
    "    df.columns = listaN\n",
    "    return df"
   ]
  },
  {
   "cell_type": "markdown",
   "metadata": {},
   "source": [
    "## Paso 2: Llamado a funciones"
   ]
  },
  {
   "cell_type": "code",
   "execution_count": 98,
   "metadata": {},
   "outputs": [
    {
     "data": {
      "text/html": [
       "<div>\n",
       "<style scoped>\n",
       "    .dataframe tbody tr th:only-of-type {\n",
       "        vertical-align: middle;\n",
       "    }\n",
       "\n",
       "    .dataframe tbody tr th {\n",
       "        vertical-align: top;\n",
       "    }\n",
       "\n",
       "    .dataframe thead th {\n",
       "        text-align: right;\n",
       "    }\n",
       "</style>\n",
       "<table border=\"1\" class=\"dataframe\">\n",
       "  <thead>\n",
       "    <tr style=\"text-align: right;\">\n",
       "      <th></th>\n",
       "      <th>Age</th>\n",
       "      <th>Gender</th>\n",
       "      <th>Temperature</th>\n",
       "      <th>Headache</th>\n",
       "      <th>Fever</th>\n",
       "      <th>Hospital</th>\n",
       "      <th>CovidDiagnosis</th>\n",
       "    </tr>\n",
       "  </thead>\n",
       "  <tbody>\n",
       "    <tr>\n",
       "      <th>0</th>\n",
       "      <td>12.0</td>\n",
       "      <td>Masculino</td>\n",
       "      <td>36°</td>\n",
       "      <td>SI</td>\n",
       "      <td>1.0</td>\n",
       "      <td>Moncaleano</td>\n",
       "      <td>positive</td>\n",
       "    </tr>\n",
       "    <tr>\n",
       "      <th>1</th>\n",
       "      <td>35.0</td>\n",
       "      <td>Femenino</td>\n",
       "      <td>38</td>\n",
       "      <td>NO</td>\n",
       "      <td>0.0</td>\n",
       "      <td>Medilaser</td>\n",
       "      <td>negative</td>\n",
       "    </tr>\n",
       "    <tr>\n",
       "      <th>2</th>\n",
       "      <td>65.0</td>\n",
       "      <td>NaN</td>\n",
       "      <td>36C</td>\n",
       "      <td>YES</td>\n",
       "      <td>1.0</td>\n",
       "      <td>Carmen Emilia</td>\n",
       "      <td>negative</td>\n",
       "    </tr>\n",
       "    <tr>\n",
       "      <th>3</th>\n",
       "      <td>78.0</td>\n",
       "      <td>NaN</td>\n",
       "      <td>39</td>\n",
       "      <td>NOP</td>\n",
       "      <td>1.0</td>\n",
       "      <td>Moncaleano</td>\n",
       "      <td>negative</td>\n",
       "    </tr>\n",
       "    <tr>\n",
       "      <th>4</th>\n",
       "      <td>41.0</td>\n",
       "      <td>Masculino</td>\n",
       "      <td>40.</td>\n",
       "      <td>SI</td>\n",
       "      <td>0.0</td>\n",
       "      <td>Medilaser</td>\n",
       "      <td>positive</td>\n",
       "    </tr>\n",
       "  </tbody>\n",
       "</table>\n",
       "</div>"
      ],
      "text/plain": [
       "    Age     Gender Temperature Headache  Fever       Hospital CovidDiagnosis\n",
       "0  12.0  Masculino         36°       SI    1.0     Moncaleano       positive\n",
       "1  35.0   Femenino          38       NO    0.0      Medilaser       negative\n",
       "2  65.0        NaN         36C      YES    1.0  Carmen Emilia       negative\n",
       "3  78.0        NaN          39      NOP    1.0     Moncaleano       negative\n",
       "4  41.0  Masculino         40.       SI    0.0      Medilaser       positive"
      ]
     },
     "execution_count": 98,
     "metadata": {},
     "output_type": "execute_result"
    }
   ],
   "source": [
    "##Importar la data\n",
    "datos = importDatos('C:/Users/Supermercado/Downloads/Limpieza/','CovidDiagnosis','.xlsx')\n",
    "datos.head()"
   ]
  },
  {
   "cell_type": "code",
   "execution_count": 99,
   "metadata": {},
   "outputs": [
    {
     "name": "stdout",
     "output_type": "stream",
     "text": [
      "Dimensiones : 99 filas, 7 columnas\n",
      "Total Valores NA : 49 \n",
      "                        Nombre Columna Tipo de Dato     #Distintos Valores NA\n",
      "                                   Age    float64           46          3\n",
      "                                Gender     object            6          3\n",
      "                           Temperature     object           30          1\n",
      "                              Headache     object            6         35\n",
      "                                 Fever    float64            2          7\n",
      "                              Hospital     object            3          0\n",
      "                        CovidDiagnosis     object            2          0\n"
     ]
    }
   ],
   "source": [
    "##Revisión de datos NAN\n",
    "datos_NA(datos)"
   ]
  },
  {
   "cell_type": "code",
   "execution_count": 100,
   "metadata": {},
   "outputs": [
    {
     "data": {
      "image/png": "[encoded data removed]",
      "text/plain": [
       "<Figure size 640x480 with 1 Axes>"
      ]
     },
     "metadata": {},
     "output_type": "display_data"
    }
   ],
   "source": [
    "##revisar datos NA con histograma\n",
    "histoPlot(datos, 'Age', 2) ##se reemplaza los datos con la mediana"
   ]
  },
  {
   "cell_type": "code",
   "execution_count": 101,
   "metadata": {},
   "outputs": [
    {
     "data": {
      "text/html": [
       "<div>\n",
       "<style scoped>\n",
       "    .dataframe tbody tr th:only-of-type {\n",
       "        vertical-align: middle;\n",
       "    }\n",
       "\n",
       "    .dataframe tbody tr th {\n",
       "        vertical-align: top;\n",
       "    }\n",
       "\n",
       "    .dataframe thead th {\n",
       "        text-align: right;\n",
       "    }\n",
       "</style>\n",
       "<table border=\"1\" class=\"dataframe\">\n",
       "  <thead>\n",
       "    <tr style=\"text-align: right;\">\n",
       "      <th></th>\n",
       "      <th>Age</th>\n",
       "      <th>Gender</th>\n",
       "      <th>Temperature</th>\n",
       "      <th>Headache</th>\n",
       "      <th>Fever</th>\n",
       "      <th>Hospital</th>\n",
       "      <th>CovidDiagnosis</th>\n",
       "    </tr>\n",
       "  </thead>\n",
       "  <tbody>\n",
       "    <tr>\n",
       "      <th>0</th>\n",
       "      <td>12.0</td>\n",
       "      <td>Masculino</td>\n",
       "      <td>36°</td>\n",
       "      <td>SI</td>\n",
       "      <td>1.0</td>\n",
       "      <td>Moncaleano</td>\n",
       "      <td>positive</td>\n",
       "    </tr>\n",
       "    <tr>\n",
       "      <th>1</th>\n",
       "      <td>35.0</td>\n",
       "      <td>Femenino</td>\n",
       "      <td>38</td>\n",
       "      <td>NO</td>\n",
       "      <td>0.0</td>\n",
       "      <td>Medilaser</td>\n",
       "      <td>negative</td>\n",
       "    </tr>\n",
       "    <tr>\n",
       "      <th>2</th>\n",
       "      <td>65.0</td>\n",
       "      <td>NaN</td>\n",
       "      <td>36C</td>\n",
       "      <td>YES</td>\n",
       "      <td>1.0</td>\n",
       "      <td>Carmen Emilia</td>\n",
       "      <td>negative</td>\n",
       "    </tr>\n",
       "    <tr>\n",
       "      <th>3</th>\n",
       "      <td>78.0</td>\n",
       "      <td>NaN</td>\n",
       "      <td>39</td>\n",
       "      <td>NOP</td>\n",
       "      <td>1.0</td>\n",
       "      <td>Moncaleano</td>\n",
       "      <td>negative</td>\n",
       "    </tr>\n",
       "    <tr>\n",
       "      <th>4</th>\n",
       "      <td>41.0</td>\n",
       "      <td>Masculino</td>\n",
       "      <td>40.</td>\n",
       "      <td>SI</td>\n",
       "      <td>0.0</td>\n",
       "      <td>Medilaser</td>\n",
       "      <td>positive</td>\n",
       "    </tr>\n",
       "  </tbody>\n",
       "</table>\n",
       "</div>"
      ],
      "text/plain": [
       "    Age     Gender Temperature Headache  Fever       Hospital CovidDiagnosis\n",
       "0  12.0  Masculino         36°       SI    1.0     Moncaleano       positive\n",
       "1  35.0   Femenino          38       NO    0.0      Medilaser       negative\n",
       "2  65.0        NaN         36C      YES    1.0  Carmen Emilia       negative\n",
       "3  78.0        NaN          39      NOP    1.0     Moncaleano       negative\n",
       "4  41.0  Masculino         40.       SI    0.0      Medilaser       positive"
      ]
     },
     "execution_count": 101,
     "metadata": {},
     "output_type": "execute_result"
    }
   ],
   "source": [
    "##Reemplazo de datos NA (Age) con la mediana\n",
    "#datos['Age'].isna().sum().sum()\n",
    "\n",
    "datos['Age'] = imputacionNa(datos, 'Age','mediana')\n",
    "\n",
    "datos.head()\n"
   ]
  },
  {
   "cell_type": "code",
   "execution_count": 102,
   "metadata": {},
   "outputs": [
    {
     "name": "stdout",
     "output_type": "stream",
     "text": [
      "Dimensiones : 99 filas, 7 columnas\n",
      "Total Valores NA : 39 \n",
      "                        Nombre Columna Tipo de Dato     #Distintos Valores NA\n",
      "                                   Age    float64           46          0\n",
      "                                Gender     object            6          3\n",
      "                           Temperature     object           30          1\n",
      "                              Headache     object            6         35\n",
      "                                 Fever    float64            2          0\n",
      "                              Hospital     object            3          0\n",
      "                        CovidDiagnosis     object            2          0\n"
     ]
    },
    {
     "data": {
      "image/png": "[encoded data removed]",
      "text/plain": [
       "<Figure size 640x480 with 1 Axes>"
      ]
     },
     "metadata": {},
     "output_type": "display_data"
    }
   ],
   "source": [
    "##Revisar la data de manera categórica o numérica\n",
    "#datos['Fever'].value_counts()\n",
    "#datos['Fever'].median()\n",
    "histoPlot(datos, 'Fever', 2)\n",
    "\n",
    "datos['Fever'] = imputacionNa(datos, 'Fever', 'mediana')\n",
    "\n",
    "datos_NA(datos)"
   ]
  },
  {
   "cell_type": "code",
   "execution_count": 103,
   "metadata": {},
   "outputs": [
    {
     "data": {
      "text/plain": [
       "Femenino     65\n",
       "Masculino    31\n",
       "Name: Gender, dtype: int64"
      ]
     },
     "execution_count": 103,
     "metadata": {},
     "output_type": "execute_result"
    }
   ],
   "source": [
    "##Revisión de datos categóricos\n",
    "revCategoricos(datos, 'Gender')\n",
    "\n",
    "datos['Gender'] = imputacionCat(datos, 'Gender','Masculinoooo', 'Masculino')\n",
    "datos['Gender'] = imputacionCat(datos, 'Gender','Masculino…..//', 'Masculino')\n",
    "datos['Gender'] = imputacionCat(datos, 'Gender','masculino', 'Masculino')\n",
    "\n",
    "datos['Gender'] = imputacionCat(datos, 'Gender','femenino', 'Femenino')\n",
    "\n",
    "revCategoricos(datos, 'Gender')"
   ]
  },
  {
   "cell_type": "code",
   "execution_count": 104,
   "metadata": {},
   "outputs": [
    {
     "name": "stdout",
     "output_type": "stream",
     "text": [
      "Dimensiones : 99 filas, 7 columnas\n",
      "Total Valores NA : 36 \n",
      "                        Nombre Columna Tipo de Dato     #Distintos Valores NA\n",
      "                                   Age    float64           46          0\n",
      "                                Gender     object            2          0\n",
      "                           Temperature     object           30          1\n",
      "                              Headache     object            6         35\n",
      "                                 Fever    float64            2          0\n",
      "                              Hospital     object            3          0\n",
      "                        CovidDiagnosis     object            2          0\n"
     ]
    }
   ],
   "source": [
    "##Limpieza de datos NA categóricos\n",
    "datos['Gender'] = imputacionCatNa(datos, 'Gender')\n",
    "\n",
    "datos_NA(datos)"
   ]
  },
  {
   "cell_type": "code",
   "execution_count": 105,
   "metadata": {},
   "outputs": [
    {
     "data": {
      "text/plain": [
       "0       36\n",
       "1       38\n",
       "2       36\n",
       "3       39\n",
       "4      40.\n",
       "      ... \n",
       "94      42\n",
       "95      35\n",
       "96    35.2\n",
       "97    35.6\n",
       "98    36.9\n",
       "Name: Temperature, Length: 99, dtype: object"
      ]
     },
     "execution_count": 105,
     "metadata": {},
     "output_type": "execute_result"
    }
   ],
   "source": [
    "##Datos inconsistentes en variable Temperatura\n",
    "datos['Temperature'] = imputacionCat(datos, 'Temperature', '36C', '36')\n",
    "datos['Temperature'] = imputacionCat(datos, 'Temperature', '36°', '36')\n",
    "\n",
    "datos['Temperature']"
   ]
  },
  {
   "cell_type": "code",
   "execution_count": 106,
   "metadata": {},
   "outputs": [
    {
     "data": {
      "text/plain": [
       "0     36.0\n",
       "1     38.0\n",
       "2     36.0\n",
       "3     39.0\n",
       "4     40.0\n",
       "      ... \n",
       "94    42.0\n",
       "95    35.0\n",
       "96    35.2\n",
       "97    35.6\n",
       "98    36.9\n",
       "Name: Temperature, Length: 99, dtype: float64"
      ]
     },
     "execution_count": 106,
     "metadata": {},
     "output_type": "execute_result"
    }
   ],
   "source": [
    "##Cambio de texto a numerico de tipo float\n",
    "datos['Temperature'] = cambioTextNum(datos, 'Temperature', 'float64')\n",
    "\n",
    "datos['Temperature']"
   ]
  },
  {
   "cell_type": "code",
   "execution_count": 107,
   "metadata": {},
   "outputs": [
    {
     "name": "stdout",
     "output_type": "stream",
     "text": [
      "Dimensiones : 99 filas, 7 columnas\n",
      "Total Valores NA : 35 \n",
      "                        Nombre Columna Tipo de Dato     #Distintos Valores NA\n",
      "                                   Age    float64           46          0\n",
      "                                Gender     object            2          0\n",
      "                           Temperature    float64           28          0\n",
      "                              Headache     object            6         35\n",
      "                                 Fever    float64            2          0\n",
      "                              Hospital     object            3          0\n",
      "                        CovidDiagnosis     object            2          0\n"
     ]
    },
    {
     "data": {
      "image/png": "[encoded data removed]",
      "text/plain": [
       "<Figure size 640x480 with 1 Axes>"
      ]
     },
     "metadata": {},
     "output_type": "display_data"
    }
   ],
   "source": [
    "histoPlot(datos, 'Temperature',5)\n",
    "\n",
    "datos['Temperature'] = imputacionNa(datos, 'Temperature', 'mediana')\n",
    "\n",
    "datos_NA(datos)"
   ]
  },
  {
   "cell_type": "code",
   "execution_count": 108,
   "metadata": {},
   "outputs": [],
   "source": [
    "##Dolor de cabeza - categórico\n",
    "revCategoricos(datos, 'Headache')\n",
    "\n",
    "datos['Headache'] = imputacionCat(datos, 'Headache','NOP','NO')\n",
    "datos['Headache'] = imputacionCat(datos, 'Headache','YES','SI')\n",
    "datos['Headache'] = imputacionCat(datos, 'Headache','OUI','SI')\n",
    "\n",
    "revCategoricos(datos, 'Headache')\n",
    "\n",
    "datos['Headache'] = imputacionCat(datos, 'Headache','SI ','SI')"
   ]
  },
  {
   "cell_type": "code",
   "execution_count": 109,
   "metadata": {},
   "outputs": [
    {
     "name": "stdout",
     "output_type": "stream",
     "text": [
      "Dimensiones : 99 filas, 7 columnas\n",
      "Total Valores NA : 0 \n",
      "                        Nombre Columna Tipo de Dato     #Distintos Valores NA\n",
      "                                   Age    float64           46          0\n",
      "                                Gender     object            2          0\n",
      "                           Temperature    float64           28          0\n",
      "                              Headache     object            2          0\n",
      "                                 Fever    float64            2          0\n",
      "                              Hospital     object            3          0\n",
      "                        CovidDiagnosis     object            2          0\n"
     ]
    }
   ],
   "source": [
    "revCategoricos(datos, 'Headache')\n",
    "\n",
    "datos['Headache'] = imputacionCatNa(datos, 'Headache')\n",
    "\n",
    "datos_NA(datos)"
   ]
  },
  {
   "cell_type": "code",
   "execution_count": 110,
   "metadata": {},
   "outputs": [
    {
     "name": "stdout",
     "output_type": "stream",
     "text": [
      "Dimensiones : 99 filas, 7 columnas\n",
      "Total Valores NA : 0 \n",
      "                        Nombre Columna Tipo de Dato     #Distintos Valores NA\n",
      "                                   Age    float64           46          0\n",
      "                                Gender      int32            2          0\n",
      "                           Temperature    float64           28          0\n",
      "                              Headache      int32            2          0\n",
      "                                 Fever    float64            2          0\n",
      "                              Hospital     object            3          0\n",
      "                        CovidDiagnosis      int32            2          0\n"
     ]
    }
   ],
   "source": [
    "##Cambiar a 1 y 0 los valores de covidDiagnosis, Headache, Gender\n",
    "datos['Gender'] = camTextBi(datos, 'Gender', 'Femenino', 0, 1)\n",
    "datos['Headache'] = camTextBi(datos, 'Headache', 'NO', 0, 1)\n",
    "datos['CovidDiagnosis'] = camTextBi(datos, 'CovidDiagnosis', 'negative', 0, 1)\n",
    "\n",
    "datos_NA(datos)"
   ]
  },
  {
   "cell_type": "code",
   "execution_count": 111,
   "metadata": {},
   "outputs": [
    {
     "data": {
      "text/plain": [
       "Moncaleano       33\n",
       "Medilaser        33\n",
       "Carmen Emilia    33\n",
       "Name: Hospital, dtype: int64"
      ]
     },
     "execution_count": 111,
     "metadata": {},
     "output_type": "execute_result"
    }
   ],
   "source": [
    "datos['Hospital'].value_counts()"
   ]
  },
  {
   "cell_type": "code",
   "execution_count": 112,
   "metadata": {},
   "outputs": [
    {
     "data": {
      "text/plain": [
       "2    33\n",
       "1    33\n",
       "0    33\n",
       "Name: Hospital, dtype: int64"
      ]
     },
     "execution_count": 112,
     "metadata": {},
     "output_type": "execute_result"
    }
   ],
   "source": [
    "from sklearn import preprocessing\n",
    "\n",
    "label_e = preprocessing.LabelEncoder()\n",
    "\n",
    "datos['Hospital'] = label_e.fit_transform(datos['Hospital'])\n",
    "\n",
    "datos['Hospital'].value_counts()"
   ]
  },
  {
   "cell_type": "code",
   "execution_count": 113,
   "metadata": {},
   "outputs": [
    {
     "data": {
      "text/html": [
       "<div>\n",
       "<style scoped>\n",
       "    .dataframe tbody tr th:only-of-type {\n",
       "        vertical-align: middle;\n",
       "    }\n",
       "\n",
       "    .dataframe tbody tr th {\n",
       "        vertical-align: top;\n",
       "    }\n",
       "\n",
       "    .dataframe thead th {\n",
       "        text-align: right;\n",
       "    }\n",
       "</style>\n",
       "<table border=\"1\" class=\"dataframe\">\n",
       "  <thead>\n",
       "    <tr style=\"text-align: right;\">\n",
       "      <th></th>\n",
       "      <th>Age</th>\n",
       "      <th>Gender</th>\n",
       "      <th>Temperature</th>\n",
       "      <th>Headache</th>\n",
       "      <th>Fever</th>\n",
       "      <th>CovidDiagnosis</th>\n",
       "      <th>0</th>\n",
       "      <th>1</th>\n",
       "      <th>2</th>\n",
       "    </tr>\n",
       "  </thead>\n",
       "  <tbody>\n",
       "    <tr>\n",
       "      <th>0</th>\n",
       "      <td>12.0</td>\n",
       "      <td>1</td>\n",
       "      <td>36.0</td>\n",
       "      <td>1</td>\n",
       "      <td>1.0</td>\n",
       "      <td>1</td>\n",
       "      <td>0</td>\n",
       "      <td>0</td>\n",
       "      <td>1</td>\n",
       "    </tr>\n",
       "    <tr>\n",
       "      <th>1</th>\n",
       "      <td>35.0</td>\n",
       "      <td>0</td>\n",
       "      <td>38.0</td>\n",
       "      <td>0</td>\n",
       "      <td>0.0</td>\n",
       "      <td>0</td>\n",
       "      <td>0</td>\n",
       "      <td>1</td>\n",
       "      <td>0</td>\n",
       "    </tr>\n",
       "    <tr>\n",
       "      <th>2</th>\n",
       "      <td>65.0</td>\n",
       "      <td>0</td>\n",
       "      <td>36.0</td>\n",
       "      <td>1</td>\n",
       "      <td>1.0</td>\n",
       "      <td>0</td>\n",
       "      <td>1</td>\n",
       "      <td>0</td>\n",
       "      <td>0</td>\n",
       "    </tr>\n",
       "    <tr>\n",
       "      <th>3</th>\n",
       "      <td>78.0</td>\n",
       "      <td>0</td>\n",
       "      <td>39.0</td>\n",
       "      <td>0</td>\n",
       "      <td>1.0</td>\n",
       "      <td>0</td>\n",
       "      <td>0</td>\n",
       "      <td>0</td>\n",
       "      <td>1</td>\n",
       "    </tr>\n",
       "    <tr>\n",
       "      <th>4</th>\n",
       "      <td>41.0</td>\n",
       "      <td>1</td>\n",
       "      <td>40.0</td>\n",
       "      <td>1</td>\n",
       "      <td>0.0</td>\n",
       "      <td>1</td>\n",
       "      <td>0</td>\n",
       "      <td>1</td>\n",
       "      <td>0</td>\n",
       "    </tr>\n",
       "  </tbody>\n",
       "</table>\n",
       "</div>"
      ],
      "text/plain": [
       "    Age  Gender  Temperature  Headache  Fever  CovidDiagnosis  0  1  2\n",
       "0  12.0       1         36.0         1    1.0               1  0  0  1\n",
       "1  35.0       0         38.0         0    0.0               0  0  1  0\n",
       "2  65.0       0         36.0         1    1.0               0  1  0  0\n",
       "3  78.0       0         39.0         0    1.0               0  0  0  1\n",
       "4  41.0       1         40.0         1    0.0               1  0  1  0"
      ]
     },
     "execution_count": 113,
     "metadata": {},
     "output_type": "execute_result"
    }
   ],
   "source": [
    "##Usar funcion para one hot encoder\n",
    "dataF = convDummies(datos, 'Hospital')\n",
    "\n",
    "dataF.head()"
   ]
  },
  {
   "cell_type": "code",
   "execution_count": 114,
   "metadata": {},
   "outputs": [
    {
     "data": {
      "text/html": [
       "<div>\n",
       "<style scoped>\n",
       "    .dataframe tbody tr th:only-of-type {\n",
       "        vertical-align: middle;\n",
       "    }\n",
       "\n",
       "    .dataframe tbody tr th {\n",
       "        vertical-align: top;\n",
       "    }\n",
       "\n",
       "    .dataframe thead th {\n",
       "        text-align: right;\n",
       "    }\n",
       "</style>\n",
       "<table border=\"1\" class=\"dataframe\">\n",
       "  <thead>\n",
       "    <tr style=\"text-align: right;\">\n",
       "      <th></th>\n",
       "      <th>Edad</th>\n",
       "      <th>Genero</th>\n",
       "      <th>Temp</th>\n",
       "      <th>DolorCa</th>\n",
       "      <th>Fiebre</th>\n",
       "      <th>CovidD</th>\n",
       "      <th>CarmenH</th>\n",
       "      <th>MediH</th>\n",
       "      <th>MoncaH</th>\n",
       "    </tr>\n",
       "  </thead>\n",
       "  <tbody>\n",
       "    <tr>\n",
       "      <th>0</th>\n",
       "      <td>12.0</td>\n",
       "      <td>1</td>\n",
       "      <td>36.0</td>\n",
       "      <td>1</td>\n",
       "      <td>1.0</td>\n",
       "      <td>1</td>\n",
       "      <td>0</td>\n",
       "      <td>0</td>\n",
       "      <td>1</td>\n",
       "    </tr>\n",
       "    <tr>\n",
       "      <th>1</th>\n",
       "      <td>35.0</td>\n",
       "      <td>0</td>\n",
       "      <td>38.0</td>\n",
       "      <td>0</td>\n",
       "      <td>0.0</td>\n",
       "      <td>0</td>\n",
       "      <td>0</td>\n",
       "      <td>1</td>\n",
       "      <td>0</td>\n",
       "    </tr>\n",
       "    <tr>\n",
       "      <th>2</th>\n",
       "      <td>65.0</td>\n",
       "      <td>0</td>\n",
       "      <td>36.0</td>\n",
       "      <td>1</td>\n",
       "      <td>1.0</td>\n",
       "      <td>0</td>\n",
       "      <td>1</td>\n",
       "      <td>0</td>\n",
       "      <td>0</td>\n",
       "    </tr>\n",
       "    <tr>\n",
       "      <th>3</th>\n",
       "      <td>78.0</td>\n",
       "      <td>0</td>\n",
       "      <td>39.0</td>\n",
       "      <td>0</td>\n",
       "      <td>1.0</td>\n",
       "      <td>0</td>\n",
       "      <td>0</td>\n",
       "      <td>0</td>\n",
       "      <td>1</td>\n",
       "    </tr>\n",
       "    <tr>\n",
       "      <th>4</th>\n",
       "      <td>41.0</td>\n",
       "      <td>1</td>\n",
       "      <td>40.0</td>\n",
       "      <td>1</td>\n",
       "      <td>0.0</td>\n",
       "      <td>1</td>\n",
       "      <td>0</td>\n",
       "      <td>1</td>\n",
       "      <td>0</td>\n",
       "    </tr>\n",
       "  </tbody>\n",
       "</table>\n",
       "</div>"
      ],
      "text/plain": [
       "   Edad  Genero  Temp  DolorCa  Fiebre  CovidD  CarmenH  MediH  MoncaH\n",
       "0  12.0       1  36.0        1     1.0       1        0      0       1\n",
       "1  35.0       0  38.0        0     0.0       0        0      1       0\n",
       "2  65.0       0  36.0        1     1.0       0        1      0       0\n",
       "3  78.0       0  39.0        0     1.0       0        0      0       1\n",
       "4  41.0       1  40.0        1     0.0       1        0      1       0"
      ]
     },
     "execution_count": 114,
     "metadata": {},
     "output_type": "execute_result"
    }
   ],
   "source": [
    "##Cambiar encabezados\n",
    "dataF = camEncab(dataF, ['Edad','Genero','Temp','DolorCa','Fiebre','CovidD','CarmenH','MediH','MoncaH'])\n",
    "\n",
    "dataF.head()"
   ]
  },
  {
   "cell_type": "code",
   "execution_count": 115,
   "metadata": {},
   "outputs": [
    {
     "data": {
      "text/html": [
       "<div>\n",
       "<style scoped>\n",
       "    .dataframe tbody tr th:only-of-type {\n",
       "        vertical-align: middle;\n",
       "    }\n",
       "\n",
       "    .dataframe tbody tr th {\n",
       "        vertical-align: top;\n",
       "    }\n",
       "\n",
       "    .dataframe thead th {\n",
       "        text-align: right;\n",
       "    }\n",
       "</style>\n",
       "<table border=\"1\" class=\"dataframe\">\n",
       "  <thead>\n",
       "    <tr style=\"text-align: right;\">\n",
       "      <th></th>\n",
       "      <th>count</th>\n",
       "      <th>mean</th>\n",
       "      <th>std</th>\n",
       "      <th>min</th>\n",
       "      <th>25%</th>\n",
       "      <th>50%</th>\n",
       "      <th>75%</th>\n",
       "      <th>max</th>\n",
       "    </tr>\n",
       "  </thead>\n",
       "  <tbody>\n",
       "    <tr>\n",
       "      <th>Edad</th>\n",
       "      <td>99.0</td>\n",
       "      <td>21.555556</td>\n",
       "      <td>15.882362</td>\n",
       "      <td>2.00</td>\n",
       "      <td>10.00</td>\n",
       "      <td>18.00</td>\n",
       "      <td>30.5</td>\n",
       "      <td>98.0</td>\n",
       "    </tr>\n",
       "    <tr>\n",
       "      <th>Genero</th>\n",
       "      <td>99.0</td>\n",
       "      <td>0.313131</td>\n",
       "      <td>0.466127</td>\n",
       "      <td>0.00</td>\n",
       "      <td>0.00</td>\n",
       "      <td>0.00</td>\n",
       "      <td>1.0</td>\n",
       "      <td>1.0</td>\n",
       "    </tr>\n",
       "    <tr>\n",
       "      <th>Temp</th>\n",
       "      <td>99.0</td>\n",
       "      <td>34.855051</td>\n",
       "      <td>5.718094</td>\n",
       "      <td>23.41</td>\n",
       "      <td>30.67</td>\n",
       "      <td>36.35</td>\n",
       "      <td>39.0</td>\n",
       "      <td>45.0</td>\n",
       "    </tr>\n",
       "    <tr>\n",
       "      <th>DolorCa</th>\n",
       "      <td>99.0</td>\n",
       "      <td>0.717172</td>\n",
       "      <td>0.452666</td>\n",
       "      <td>0.00</td>\n",
       "      <td>0.00</td>\n",
       "      <td>1.00</td>\n",
       "      <td>1.0</td>\n",
       "      <td>1.0</td>\n",
       "    </tr>\n",
       "    <tr>\n",
       "      <th>Fiebre</th>\n",
       "      <td>99.0</td>\n",
       "      <td>0.565657</td>\n",
       "      <td>0.498193</td>\n",
       "      <td>0.00</td>\n",
       "      <td>0.00</td>\n",
       "      <td>1.00</td>\n",
       "      <td>1.0</td>\n",
       "      <td>1.0</td>\n",
       "    </tr>\n",
       "    <tr>\n",
       "      <th>CovidD</th>\n",
       "      <td>99.0</td>\n",
       "      <td>0.393939</td>\n",
       "      <td>0.491108</td>\n",
       "      <td>0.00</td>\n",
       "      <td>0.00</td>\n",
       "      <td>0.00</td>\n",
       "      <td>1.0</td>\n",
       "      <td>1.0</td>\n",
       "    </tr>\n",
       "    <tr>\n",
       "      <th>CarmenH</th>\n",
       "      <td>99.0</td>\n",
       "      <td>0.333333</td>\n",
       "      <td>0.473804</td>\n",
       "      <td>0.00</td>\n",
       "      <td>0.00</td>\n",
       "      <td>0.00</td>\n",
       "      <td>1.0</td>\n",
       "      <td>1.0</td>\n",
       "    </tr>\n",
       "    <tr>\n",
       "      <th>MediH</th>\n",
       "      <td>99.0</td>\n",
       "      <td>0.333333</td>\n",
       "      <td>0.473804</td>\n",
       "      <td>0.00</td>\n",
       "      <td>0.00</td>\n",
       "      <td>0.00</td>\n",
       "      <td>1.0</td>\n",
       "      <td>1.0</td>\n",
       "    </tr>\n",
       "    <tr>\n",
       "      <th>MoncaH</th>\n",
       "      <td>99.0</td>\n",
       "      <td>0.333333</td>\n",
       "      <td>0.473804</td>\n",
       "      <td>0.00</td>\n",
       "      <td>0.00</td>\n",
       "      <td>0.00</td>\n",
       "      <td>1.0</td>\n",
       "      <td>1.0</td>\n",
       "    </tr>\n",
       "  </tbody>\n",
       "</table>\n",
       "</div>"
      ],
      "text/plain": [
       "         count       mean        std    min    25%    50%   75%   max\n",
       "Edad      99.0  21.555556  15.882362   2.00  10.00  18.00  30.5  98.0\n",
       "Genero    99.0   0.313131   0.466127   0.00   0.00   0.00   1.0   1.0\n",
       "Temp      99.0  34.855051   5.718094  23.41  30.67  36.35  39.0  45.0\n",
       "DolorCa   99.0   0.717172   0.452666   0.00   0.00   1.00   1.0   1.0\n",
       "Fiebre    99.0   0.565657   0.498193   0.00   0.00   1.00   1.0   1.0\n",
       "CovidD    99.0   0.393939   0.491108   0.00   0.00   0.00   1.0   1.0\n",
       "CarmenH   99.0   0.333333   0.473804   0.00   0.00   0.00   1.0   1.0\n",
       "MediH     99.0   0.333333   0.473804   0.00   0.00   0.00   1.0   1.0\n",
       "MoncaH    99.0   0.333333   0.473804   0.00   0.00   0.00   1.0   1.0"
      ]
     },
     "execution_count": 115,
     "metadata": {},
     "output_type": "execute_result"
    }
   ],
   "source": [
    "##Descripcion de medidas de tendencia central\n",
    "dataF.describe().T"
   ]
  },
  {
   "cell_type": "code",
   "execution_count": 116,
   "metadata": {},
   "outputs": [
    {
     "data": {
      "text/html": [
       "<div>\n",
       "<style scoped>\n",
       "    .dataframe tbody tr th:only-of-type {\n",
       "        vertical-align: middle;\n",
       "    }\n",
       "\n",
       "    .dataframe tbody tr th {\n",
       "        vertical-align: top;\n",
       "    }\n",
       "\n",
       "    .dataframe thead th {\n",
       "        text-align: right;\n",
       "    }\n",
       "</style>\n",
       "<table border=\"1\" class=\"dataframe\">\n",
       "  <thead>\n",
       "    <tr style=\"text-align: right;\">\n",
       "      <th></th>\n",
       "      <th>Edad</th>\n",
       "      <th>Genero</th>\n",
       "      <th>Temp</th>\n",
       "      <th>DolorCa</th>\n",
       "      <th>CarmenH</th>\n",
       "      <th>MediH</th>\n",
       "      <th>MoncaH</th>\n",
       "    </tr>\n",
       "  </thead>\n",
       "  <tbody>\n",
       "    <tr>\n",
       "      <th>3</th>\n",
       "      <td>78.0</td>\n",
       "      <td>0</td>\n",
       "      <td>39.0</td>\n",
       "      <td>0</td>\n",
       "      <td>0</td>\n",
       "      <td>0</td>\n",
       "      <td>1</td>\n",
       "    </tr>\n",
       "    <tr>\n",
       "      <th>4</th>\n",
       "      <td>41.0</td>\n",
       "      <td>1</td>\n",
       "      <td>40.0</td>\n",
       "      <td>1</td>\n",
       "      <td>0</td>\n",
       "      <td>1</td>\n",
       "      <td>0</td>\n",
       "    </tr>\n",
       "    <tr>\n",
       "      <th>5</th>\n",
       "      <td>18.0</td>\n",
       "      <td>0</td>\n",
       "      <td>41.0</td>\n",
       "      <td>0</td>\n",
       "      <td>1</td>\n",
       "      <td>0</td>\n",
       "      <td>0</td>\n",
       "    </tr>\n",
       "    <tr>\n",
       "      <th>6</th>\n",
       "      <td>98.0</td>\n",
       "      <td>0</td>\n",
       "      <td>38.5</td>\n",
       "      <td>1</td>\n",
       "      <td>0</td>\n",
       "      <td>0</td>\n",
       "      <td>1</td>\n",
       "    </tr>\n",
       "    <tr>\n",
       "      <th>7</th>\n",
       "      <td>12.0</td>\n",
       "      <td>0</td>\n",
       "      <td>38.9</td>\n",
       "      <td>1</td>\n",
       "      <td>0</td>\n",
       "      <td>1</td>\n",
       "      <td>0</td>\n",
       "    </tr>\n",
       "  </tbody>\n",
       "</table>\n",
       "</div>"
      ],
      "text/plain": [
       "   Edad  Genero  Temp  DolorCa  CarmenH  MediH  MoncaH\n",
       "3  78.0       0  39.0        0        0      0       1\n",
       "4  41.0       1  40.0        1        0      1       0\n",
       "5  18.0       0  41.0        0        1      0       0\n",
       "6  98.0       0  38.5        1        0      0       1\n",
       "7  12.0       0  38.9        1        0      1       0"
      ]
     },
     "execution_count": 116,
     "metadata": {},
     "output_type": "execute_result"
    }
   ],
   "source": [
    "##Particionar la data\n",
    "diag = dataF.iloc[3:50, [0,1,2,3,6,7,8]]\n",
    "\n",
    "diag.head()"
   ]
  },
  {
   "cell_type": "code",
   "execution_count": 117,
   "metadata": {},
   "outputs": [
    {
     "data": {
      "image/png": "[encoded data removed]",
      "text/plain": [
       "<Figure size 640x480 with 1 Axes>"
      ]
     },
     "metadata": {},
     "output_type": "display_data"
    }
   ],
   "source": [
    "histoPlot(dataF, 'Temp',3)"
   ]
  }
 ],
 "metadata": {
  "kernelspec": {
   "display_name": "Python 3.10.8 64-bit",
   "language": "python",
   "name": "python3"
  },
  "language_info": {
   "codemirror_mode": {
    "name": "ipython",
    "version": 3
   },
   "file_extension": ".py",
   "mimetype": "text/x-python",
   "name": "python",
   "nbconvert_exporter": "python",
   "pygments_lexer": "ipython3",
   "version": "3.10.8"
  },
  "orig_nbformat": 4,
  "vscode": {
   "interpreter": {
    "hash": "b14b47903be4b8a826c78dddca006b5f8cf0b7753828659a64c76e165d9e874e"
   }
  }
 },
 "nbformat": 4,
 "nbformat_minor": 2
}
