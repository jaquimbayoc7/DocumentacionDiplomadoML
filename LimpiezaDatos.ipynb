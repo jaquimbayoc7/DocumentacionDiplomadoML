{
 "cells": [
  {
   "cell_type": "markdown",
   "metadata": {},
   "source": [
    "\n",
    " ![](../Imagenes/Diplomado.jpg)"
   ]
  },
  {
   "cell_type": "markdown",
   "metadata": {},
   "source": [
    "# Capítulo 1: Análisis Exploratorio Descriptivo EDA"
   ]
  },
  {
   "cell_type": "markdown",
   "metadata": {
    "toc": true
   },
   "source": [
    "<h2>Agenda De Trabajo<span class=\"tocSkip\"></span></h2>\n",
    "<hr>\n",
    "<div class=\"toc\">\n",
    "<ul class=\"toc-item\">\n",
    "    <li><span><a href=\"#1.-Introducción\" data-toc-modified-id=\"1.-Introduction-1\">1. Introducción</a></span></li>\n",
    "    <li><span><a href=\"#2.-Imputación-de-datos-NAN\" data-toc-modified-id=\"2.-Imputación-de-datos-NAN\">2. Imputación de datos NAN</a></span></li>\n",
    "    <li><span><a href=\"#3.-Formas-de-Reemplazo-NAN\" data-toc-modified-id=\"3.-Formas-de-Reemplazo-NAN\">3. Formas de Reemplazo NAN</a></span></li>\n",
    "    <li><span><a href=\"#4.-Datos-numéricos-a-texto\" data-toc-modified-id=\"4.-Datos-numéricos-a-texto\">4. Datos Numéricos a Texto</a></span></li>\n",
    "    <li><span><a href=\"#5.-Datos-texto-a-numérico\" data-toc-modified-id=\"5.-Datos-texto-a-numérico\">5. Datos texto a numérico</a></span></li>\n",
    "    <li><span><a href=\"#6.-One-Hot-Encoder-y-label-encoder\" data-toc-modified-id=\"6.-One-Hot-Encoder-y-label-encoder\">6. One Hot Encoder y label encoder</a></span></li>\n",
    "    <li><span><a href=\"#7.-Partición-Dataframes\" data-toc-modified-id=\"7.-Partición-Dataframes\">7. Partición Dataframes</a></span></li>\n",
    "    <li><span><a href=\"#8.-Normalización-y-estandarización\" data-toc-modified-id=\"8.-Normalización-y-estandarización\">8. Normalización y estandarización</a></span></li>\n",
    "    <li><span><a href=\"#9.-Oversampling-y-undersampling\" data-toc-modified-id=\"9.-Oversampling-y-undersampling\">9. Oversampling y undersampling</a></span></li>\n",
    "</ul>\n",
    "</div>\n",
    "\n"
   ]
  },
  {
   "cell_type": "markdown",
   "metadata": {},
   "source": [
    "## Objetivos de la sesión\n",
    "<hr>"
   ]
  },
  {
   "cell_type": "markdown",
   "metadata": {},
   "source": [
    "- Implementar el uso de python para limpieza de datos NAN (Not a Number)\n",
    "- Imputar NAN para datos numéricos (media, mediana)\n",
    "- Imputar NAN para datos categóricos (moda)\n",
    "- Cambiar datos numéricos a categóricos y viceversa.\n",
    "- Uso de One Hot Enconder y Label Encoder\n",
    "- Particionar Dataframe\n",
    "- Normalización y Estandarización"
   ]
  },
  {
   "cell_type": "markdown",
   "metadata": {},
   "source": [
    "## 1. Introducción\n",
    "<hr>"
   ]
  },
  {
   "cell_type": "markdown",
   "metadata": {},
   "source": [
    "Dentro del ciclo de vida de ciencia de datos en especial cualquier proyecto de **machine learning** es la fase de limpieza de datos; dentro de estos procesos hace parte la **limpieza de datos NAN**, cambio de datos **numéricos a categóricos y viceversa**, **binarización de datos**, **partición y normalización de datos**.\n",
    "\n",
    "<img src=\"../1. Limpieza/Imagenes/cleaning.jpg\" alt=\"banner\" style=\"display: block;\n",
    "  margin-left: auto;\n",
    "  margin-right: auto;\n",
    "  width: 40%;\">"
   ]
  },
  {
   "cell_type": "markdown",
   "metadata": {},
   "source": [
    "## 2. Imputación de datos NAN\n",
    "<hr>"
   ]
  },
  {
   "cell_type": "markdown",
   "metadata": {},
   "source": [
    "Los datos NAN son datos vacíos o dañados en los dataframes, a menudo se representan por un simbolo de **NAN** o en otros lenguajes **NA**, estos datos dependiendo de su tipología se deben tratar, existen muchas maneras de realizarlo.\n",
    "\n",
    "<img src=\"../1. Limpieza/Imagenes/nan.png\" alt=\"banner\" style=\"display: block;\n",
    "  margin-left: auto;\n",
    "  margin-right: auto;\n",
    "  width: 70%;\">\n",
    "\n",
    "Algunos de los casos de valores NAN son: MCAR(Missing Completely At Random) , MNAR (Missing Not At Random), MAR(Missing At Random)\n",
    "\n",
    "<img src=\"../1. Limpieza/Imagenes/Random.png\" alt=\"banner\" style=\"display: block;\n",
    "  margin-left: auto;\n",
    "  margin-right: auto;\n",
    "  width: 40%;\">\n",
    "\n",
    "- **MCAR**: En el MCAR, la probabilidad de que falten datos es la misma para todas las observaciones. En este caso, no hay relación entre los datos que faltan y cualquier otro valor observado o no observado (los datos que no se registran) dentro del conjunto de datos dado. Es decir, los valores que faltan son completamente independientes de otros datos. No hay ningún patrón. En el caso de MCAR, los datos pueden faltar debido a un error humano, a un fallo del sistema/equipo, a la pérdida de la muestra o a algún detalle técnico insatisfactorio al registrar los valores.\n",
    "\n",
    "- **MNAR**: Los valores perdidos dependen de los datos no observados. Si hay alguna estructura/patrón en los datos que faltan y otros datos observados no pueden explicarlos, entonces se trata de datos perdidos no aleatorios (MNAR). Si los datos que faltan no entran en la categoría MCAR o MAR, entonces pueden clasificarse como MNAR. Puede ocurrir debido a la reticencia de las personas a proporcionar la información requerida. Un grupo específico de personas puede no responder a algunas preguntas en una encuesta.\n",
    "\n",
    "- **MAR**: Los datos faltantes al azar (MAR) significan que la razón de los valores faltantes puede ser explicada por las variables sobre las que se tiene información completa, ya que existe alguna relación entre los datos faltantes y otros valores/datos. En este caso, los datos no faltan en todas las observaciones. Sólo faltan en submuestras de los datos y hay algún patrón en los valores que faltan.\n",
    "\n",
    "Nota: **lo último que se debe hacer es eliminar la data sean columnas o filas.**; si el porcentaje de datos NAN es superior al 25% total de la data.\n",
    "\n",
    "\n"
   ]
  },
  {
   "cell_type": "markdown",
   "metadata": {},
   "source": [
    "## 3. Formas de Reemplazo NAN\n",
    "<hr>"
   ]
  },
  {
   "cell_type": "markdown",
   "metadata": {},
   "source": [
    "- Reemplazar con un datos arbitrario valores **numéricos**: se asigna por defecto un valor arbitrario que no afecte la columna.\n",
    "\n",
    "<img src=\"../1. Limpieza/Imagenes/reem1.png\" alt=\"banner\" style=\"display: block;\n",
    "  margin-left: auto;\n",
    "  margin-right: auto;\n",
    "  width: 60%;\">\n",
    "\n",
    "- Reemplazar con la media o mediana los valores numéricos: se asigna un valor medio o mediano dependiendo de la grafica de histograma asumiendo que los datos vienen de un población con tendencia a la campana de Gauss o datos normales.\n",
    "\n",
    "<img src=\"../1. Limpieza/Imagenes/reem2.png\" alt=\"banner\" style=\"display: block;\n",
    "  margin-left: auto;\n",
    "  margin-right: auto;\n",
    "  width: 50%;\">\n",
    "\n",
    "<img src=\"../1. Limpieza/Imagenes/testN.jpg\" alt=\"banner\" style=\"display: block;\n",
    "  margin-left: auto;\n",
    "  margin-right: auto;\n",
    "  width: 60%;\">\n",
    "\n",
    "Cuando la gráfica de histograma tiende hacia la derecha o izquierda se reemplaza con la **mediana** cuando tienen forma de campana se reemplaza con la **media**.\n",
    "\n",
    "<img src=\"../1. Limpieza/Imagenes/reem3.png\" alt=\"banner\" style=\"display: block;\n",
    "  margin-left: auto;\n",
    "  margin-right: auto;\n",
    "  width: 60%;\">\n",
    "\n",
    "- Reemplazar con el valor que más se repite - **categóricos**: \n",
    "\n",
    "<img src=\"../1. Limpieza/Imagenes/reem4.png\" alt=\"banner\" style=\"display: block;\n",
    "  margin-left: auto;\n",
    "  margin-right: auto;\n",
    "  width: 60%;\">\n",
    "\n",
    "La palabra reservada mode()[0], hace referencia al valor mas repetido dentro de la distribución categórica.\n",
    "\n",
    "- Reemplazo con valores hacia atras(Backward fill) o hacia adelante (Forward fill)\n",
    "\n",
    "<img src=\"../1. Limpieza/Imagenes/reem5.png\" alt=\"banner\" style=\"display: block;\n",
    "  margin-left: auto;\n",
    "  margin-right: auto;\n",
    "  width: 60%;\">\n",
    "\n",
    "Nota: Se debe tener cuidado con que los tipos de datos este correctos de lo contrario se complicará mas el ejercicio.\n",
    "\n",
    "- Reemplazo con algoritmos de Machine Learning - Scikit Learn (KNN Imputer)"
   ]
  },
  {
   "cell_type": "markdown",
   "metadata": {},
   "source": [
    "## 4. Datos numéricos a texto\n",
    "<hr>"
   ]
  },
  {
   "cell_type": "markdown",
   "metadata": {},
   "source": [
    "Para convertir datos numéricos a texto se utiliza el operador ternario np.where, donde a través de una condición se valida si encuentra el valor dado el caso se asigna el valor de reemplazo.\n",
    "<img src=\"../1. Limpieza/Imagenes/reem7.png\" alt=\"banner\" style=\"display: block;\n",
    "  margin-left: auto;\n",
    "  margin-right: auto;\n",
    "  width: 70%;\">"
   ]
  },
  {
   "cell_type": "markdown",
   "metadata": {},
   "source": [
    "## 5. Datos texto a numérico\n",
    "<hr>"
   ]
  },
  {
   "cell_type": "markdown",
   "metadata": {},
   "source": [
    "Una de las maneras mas sencillas para cambiar datos de tipo numérico a texto es la función **np.where**, la cual funciona como un operador ternario.\n",
    "<img src=\"../1. Limpieza/Imagenes/reem6.png\" alt=\"banner\" style=\"display: block;\n",
    "  margin-left: auto;\n",
    "  margin-right: auto;\n",
    "  width: 70%;\">\n",
    "\n",
    "En donde siempre se llama la columna a modificar se iguala a np.where y se genera una condición en caso de ser verdadera en este caso si encuentra la palabra masculino convierte el dato a uno de lo contrario para femenino convierte a cero."
   ]
  },
  {
   "cell_type": "markdown",
   "metadata": {},
   "source": [
    "## 6. One Hot Encoder y label encoder\n",
    "<hr>"
   ]
  },
  {
   "cell_type": "markdown",
   "metadata": {},
   "source": [
    "Una de las formas más tradicionales y efectivas para convertir valores textuales (categóricos) a numéricos son los enconders, estos permiten llevar a valores binarios o de distintos valores las categorías de las columnas.\n",
    "<img src=\"../1. Limpieza/Imagenes/reem8.jpeg\" alt=\"banner\" style=\"display: block;\n",
    "  margin-left: auto;\n",
    "  margin-right: auto;\n",
    "  width: 60%;\">\n",
    "\n",
    "- Label Encoder: \n",
    "La codificación de etiquetas es una técnica de codificación muy popular para manejar variables categóricas. En esta técnica, a cada etiqueta se le asigna un número entero único basado en el orden alfabético.\n",
    "<img src=\"../1. Limpieza/Imagenes/reem9.png\" alt=\"banner\" style=\"display: block;\n",
    "  margin-left: auto;\n",
    "  margin-right: auto;\n",
    "  width: 50%;\">\n",
    "\n",
    "<img src=\"../1. Limpieza/Imagenes/reem10.png\" alt=\"banner\" style=\"display: block;\n",
    "  margin-left: auto;\n",
    "  margin-right: auto;\n",
    "  width: 50%;\">\n",
    "\n",
    "Como se evidencia de manera alfabética se realiza la asignación de valores para el hospital carmen emilia el valor de cero, para Medilaser el valor de uno y dos para el hospital Moncaleano; esto supone que en un modelo predictivo posiblemente existirá correlación entre estas variables por tal motivo se deben binarizar por medio de las variables dummies o como se conoce el one hot encoder.\n",
    "\n",
    "- One Hot Encoder:\n",
    "La codificación en caliente es otra técnica popular para tratar las variables categóricas. Simplemente crea características adicionales basadas en el número de valores únicos en la característica categórica. Cada valor único de la categoría se añadirá como característica.\n",
    "<img src=\"../1. Limpieza/Imagenes/reem11.png\" alt=\"banner\" style=\"display: block;\n",
    "  margin-left: auto;\n",
    "  margin-right: auto;\n",
    "  width: 50%;\">\n",
    "\n",
    "<img src=\"../1. Limpieza/Imagenes/reem12.png\" alt=\"banner\" style=\"display: block;\n",
    "  margin-left: auto;\n",
    "  margin-right: auto;\n",
    "  width: 50%;\">\n",
    "\n",
    "Como se pueden dar cuenta se binariza cada variable siendo cero(0) donde el registro no pertenece a esa categoría de hospital y uno(1) si realmente pertenece; dado que no es muy óptimo tener los nombres con las categorías 0,1 y 2 se proceden a renombrar.\n",
    "\n",
    "<img src=\"../1. Limpieza/Imagenes/reem13.png\" alt=\"banner\" style=\"display: block;\n",
    "  margin-left: auto;\n",
    "  margin-right: auto;\n",
    "  width: 70%;\">\n",
    "\n",
    "<span style=\"color:blue\">Nota: este proceso de one hot encoder se realiza cuando las categorías son mayores a dos.</span> \n"
   ]
  },
  {
   "cell_type": "markdown",
   "metadata": {},
   "source": [
    "## 7. Partición Dataframes\n",
    "<hr>"
   ]
  },
  {
   "cell_type": "markdown",
   "metadata": {},
   "source": [
    "Para realizar particiones la mejor manera es utilizar la función iloc que permite porcionar de acuerdo a la relación filas y columnas. Con dicha función la relación si colocamos df.iloc[3:50, [0,1,5]], quiere decir que tomamos filas de la 3 a la 49 y las columnas Edad, Genero y CovDiag.\n",
    "<img src=\"../1. Limpieza/Imagenes/reem14.png\" alt=\"banner\" style=\"display: block;\n",
    "  margin-left: auto;\n",
    "  margin-right: auto;\n",
    "  width: 40%;\">"
   ]
  },
  {
   "cell_type": "markdown",
   "metadata": {},
   "source": [
    "## 8. Normalización y estandarización\n",
    "<hr>"
   ]
  },
  {
   "cell_type": "markdown",
   "metadata": {},
   "source": [
    "## 9. Oversampling y undersamplig\n",
    "<hr>"
   ]
  }
 ],
 "metadata": {
  "kernelspec": {
   "display_name": "Python 3.10.8 64-bit",
   "language": "python",
   "name": "python3"
  },
  "language_info": {
   "codemirror_mode": {
    "name": "ipython",
    "version": 3
   },
   "file_extension": ".py",
   "mimetype": "text/x-python",
   "name": "python",
   "nbconvert_exporter": "python",
   "pygments_lexer": "ipython3",
   "version": "3.10.8"
  },
  "toc": {
   "base_numbering": 1,
   "nav_menu": {},
   "number_sections": false,
   "sideBar": true,
   "skip_h1_title": true,
   "title_cell": "Lecture Outline",
   "title_sidebar": "Contents",
   "toc_cell": true,
   "toc_position": {},
   "toc_section_display": true,
   "toc_window_display": true
  },
  "toc-autonumbering": false,
  "toc-showcode": false,
  "toc-showmarkdowntxt": false,
  "toc-showtags": false,
  "vscode": {
   "interpreter": {
    "hash": "b14b47903be4b8a826c78dddca006b5f8cf0b7753828659a64c76e165d9e874e"
   }
  }
 },
 "nbformat": 4,
 "nbformat_minor": 4
}
