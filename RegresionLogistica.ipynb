{
 "cells": [
  {
   "cell_type": "markdown",
   "metadata": {},
   "source": [
    "# Regresión Logística"
   ]
  },
  {
   "cell_type": "markdown",
   "metadata": {},
   "source": [
    "## Paso 1: Importar librerías"
   ]
  },
  {
   "cell_type": "code",
   "execution_count": 1,
   "metadata": {},
   "outputs": [],
   "source": [
    "##Cargue de las librerías\n",
    "import pandas as pd\n",
    "import numpy as np\n",
    "##Librerías para graficar\n",
    "import matplotlib.pyplot as plt\n",
    "import seaborn as sns\n",
    "##Librerías para test de normalidad\n",
    "import statsmodels.api as sm\n",
    "from scipy import stats\n",
    "##Librerias para preprocesamiento\n",
    "from sklearn.preprocessing import MinMaxScaler, StandardScaler\n",
    "##Librerías para over y under sampling\n",
    "from sklearn.utils import resample"
   ]
  },
  {
   "cell_type": "markdown",
   "metadata": {},
   "source": [
    "## Paso 2: Funciones"
   ]
  },
  {
   "cell_type": "code",
   "execution_count": 10,
   "metadata": {},
   "outputs": [],
   "source": [
    "# Función para importar data .xlsx o .csv\n",
    "def importDatos(ruta, archivo, ext):\n",
    "    if ext == '.csv':\n",
    "        data = pd.read_csv(ruta+archivo+ext)\n",
    "        return data\n",
    "    elif ext == '.xlsx':\n",
    "        data = pd.read_excel(ruta+archivo+ext)\n",
    "        return data\n",
    "    else:\n",
    "        print('Extensión diferente')\n",
    "\n",
    "# Función informe sobre los datos NAN\n",
    "\n",
    "\n",
    "def datos_NA(df):\n",
    "    if isinstance(df, pd.DataFrame):\n",
    "        total_na = df.isna().sum().sum()\n",
    "        print(\"Dimensiones : %d filas, %d columnas\" %\n",
    "              (df.shape[0], df.shape[1]))\n",
    "        print(\"Total Valores NA : %d \" % (total_na))\n",
    "        print(\"%38s %10s     %10s %10s\" %\n",
    "              (\"Nombre Columna\", \"Tipo de Dato\", \"#Distintos\", \"Valores NA\"))\n",
    "        col_name = df.columns\n",
    "        dtyp = df.dtypes\n",
    "        uniq = df.nunique()\n",
    "        na_val = df.isna().sum()\n",
    "        for i in range(len(df.columns)):\n",
    "            print(\"%38s %10s   %10s %10s\" %\n",
    "                  (col_name[i], dtyp[i], uniq[i], na_val[i]))\n",
    "\n",
    "    else:\n",
    "        print(\"Se esperaba dataframe %15s\" % (type(df)))\n",
    "\n",
    "# Función para pintar algo el histograma reemplazamos con la media o mediana\n",
    "\n",
    "\n",
    "def histoPlot(df, nomCol, anchoBar):\n",
    "    sns.histplot(data=df, x=nomCol, binwidth=anchoBar, kde=True)\n",
    "\n",
    "# Función para reemplazo de valore numéricos con la mediana\n",
    "\n",
    "\n",
    "def imputacionNa(df, nomCol, param):\n",
    "    if param == 'media':\n",
    "        df[nomCol] = df[nomCol].fillna(df[nomCol].mean())\n",
    "        return df[nomCol]\n",
    "    else:\n",
    "        df[nomCol] = df[nomCol].fillna(df[nomCol].median())\n",
    "        return df[nomCol]\n",
    "# Funcion para revisar datos categóricos o texto\n",
    "\n",
    "\n",
    "def revCategoricos(df, nomCol):\n",
    "    rev = df[nomCol].value_counts()\n",
    "    return rev\n",
    "\n",
    "# Función para datos categóricos modificaciones\n",
    "\n",
    "\n",
    "def imputacionCat(df, nomCol, busqueda, reempl):\n",
    "    df[nomCol] = np.where(df[nomCol] == busqueda, reempl, df[nomCol])\n",
    "    return df[nomCol]\n",
    "\n",
    "# Función para reeemplazo NA categóricos\n",
    "\n",
    "\n",
    "def imputacionCatNa(df, nomCol):\n",
    "    df[nomCol] = df[nomCol].fillna(df[nomCol].mode()[0])\n",
    "    return df[nomCol]\n",
    "\n",
    "# Función para cambiar datos de texto a numerico float64\n",
    "\n",
    "\n",
    "def cambioTextNum(df, nomCol, tipo):\n",
    "    df[nomCol] = df[nomCol].astype(tipo)\n",
    "    return df[nomCol]\n",
    "\n",
    "# Función modificar a 1 y 0 los datos categóricos\n",
    "\n",
    "\n",
    "def camTextBi(df, nomCol, busqueda, camuno, camdos):\n",
    "    df[nomCol] = np.where(df[nomCol] == busqueda, camuno, camdos)\n",
    "    return df[nomCol]\n",
    "\n",
    "# Función para variables dummies\n",
    "\n",
    "\n",
    "def convDummies(df, nomCol):\n",
    "    dummies = pd.get_dummies(df[nomCol])\n",
    "    data = pd.concat([df, dummies], axis=1)\n",
    "    data.drop(columns=[nomCol], inplace=True)\n",
    "    return data\n",
    "\n",
    "# Función cambiar encabezados del dataframe\n",
    "\n",
    "\n",
    "def camEncab(df, listaN):\n",
    "    df.columns = listaN\n",
    "    return df\n",
    "\n",
    "# Función para el test de Shapiro - wilk - resistente al ruido en los datos\n",
    "\n",
    "\n",
    "def testShapiroWilk(df):\n",
    "    valoresP = []\n",
    "    concepto = []\n",
    "    variable = []\n",
    "    for column in df:\n",
    "        k2, p_value = stats.shapiro(df[column].values)\n",
    "        valoresP.append(p_value)\n",
    "        variable.append(column)\n",
    "        if (p_value < 0.05):\n",
    "            concepto.append('No es una variable Normal')\n",
    "        else:\n",
    "            concepto.append('Es una variable Normal')\n",
    "    dfShapiro = pd.DataFrame(\n",
    "        {'Variable': variable, 'Valores P': valoresP, 'Concepto': concepto})\n",
    "    return dfShapiro\n",
    "\n",
    "# Función para normalizar la data min - max sklearn\n",
    "\n",
    "\n",
    "def normaData(df):\n",
    "    valores = df.values  \n",
    "    scaler = MinMaxScaler(feature_range=(0, 1))\n",
    "    scaler = scaler.fit(valores)\n",
    "\n",
    "    pd.DataFrame(np.vstack((scaler.data_min_, scaler.data_max_)),\n",
    "             index=['Min', 'Max'],\n",
    "             columns=df.columns)\n",
    "\n",
    "    normalizados = scaler.transform(valores)\n",
    "    df_norm = pd.DataFrame(normalizados,\n",
    "                       index=df.index,\n",
    "                       columns=df.columns)\n",
    "    return df_norm\n",
    "\n",
    "## Función para Estandarizar la data formula z-score\n",
    "def stanData(df):\n",
    "    scaler = StandardScaler()\n",
    "    standardized_data = scaler.fit_transform(df)\n",
    "    df_stan = pd.DataFrame(standardized_data, columns=df.columns)\n",
    "    return df_stan\n",
    "\n",
    "## Función para hacer la matriz de correlación de manera Tidy\n",
    "def tidy_corr_matrix(corr_mat):\n",
    "    '''\n",
    "    Función para convertir una matriz de correlación de pandas en formato tidy.\n",
    "    '''\n",
    "    corr_mat = corr_mat.stack().reset_index()\n",
    "    corr_mat.columns = ['variable_1','variable_2','r']\n",
    "    corr_mat = corr_mat.loc[corr_mat['variable_1'] != corr_mat['variable_2'], :]\n",
    "    corr_mat['abs_r'] = np.abs(corr_mat['r'])\n",
    "    corr_mat = corr_mat.sort_values('abs_r', ascending=False)\n",
    "    \n",
    "    return(corr_mat)\n",
    "\n"
   ]
  },
  {
   "cell_type": "markdown",
   "metadata": {},
   "source": [
    "## Paso 3: Llamado a Funciones"
   ]
  },
  {
   "cell_type": "code",
   "execution_count": 34,
   "metadata": {},
   "outputs": [],
   "source": [
    "X = importDatos(\"/home/julian/Documentos/DiplomadoML/DocumentacionDiplomadoML/4. Aprendizaje Supervisado Clasificación/Datasets/\", 'X','.csv')\n",
    "y = importDatos(\"/home/julian/Documentos/DiplomadoML/DocumentacionDiplomadoML/4. Aprendizaje Supervisado Clasificación/Datasets/\", 'y','.csv')\n"
   ]
  },
  {
   "cell_type": "code",
   "execution_count": 35,
   "metadata": {},
   "outputs": [
    {
     "name": "stdout",
     "output_type": "stream",
     "text": [
      "Dimensiones : 36881 filas, 24 columnas\n",
      "Total Valores NA : 74668 \n",
      "                        Nombre Columna Tipo de Dato     #Distintos Valores NA\n",
      "                              Location     object           46          0\n",
      "                               MinTemp    float64          369        338\n",
      "                               MaxTemp    float64          470        242\n",
      "                              Rainfall    float64          432        626\n",
      "                           Evaporation    float64          215      12846\n",
      "                              Sunshine    float64          144      13564\n",
      "                           WindGustDir     object           16       3368\n",
      "                         WindGustSpeed    float64           64       3361\n",
      "                            WindDir9am     object           16       2809\n",
      "                            WindDir3pm     object           16        962\n",
      "                          WindSpeed9am    float64           39        662\n",
      "                          WindSpeed3pm    float64           39        646\n",
      "                           Humidity9am    float64           99        570\n",
      "                           Humidity3pm    float64          100        511\n",
      "                           Pressure9am    float64          509       3572\n",
      "                           Pressure3pm    float64          503       3552\n",
      "                              Cloud9am    float64           10      12500\n",
      "                              Cloud3pm    float64            9      12982\n",
      "                               Temp9am    float64          400        487\n",
      "                               Temp3pm    float64          469        444\n",
      "                             RainToday     object            2        626\n",
      "                                  Year      int64            6          0\n",
      "                                 Month      int64           12          0\n",
      "                                   Day      int64           31          0\n"
     ]
    }
   ],
   "source": [
    "##Revisión de datos NAN\n",
    "datos_NA(X)"
   ]
  },
  {
   "cell_type": "code",
   "execution_count": 36,
   "metadata": {},
   "outputs": [
    {
     "name": "stdout",
     "output_type": "stream",
     "text": [
      "Dimensiones : 36881 filas, 1 columnas\n",
      "Total Valores NA : 620 \n",
      "                        Nombre Columna Tipo de Dato     #Distintos Valores NA\n",
      "                          RainTomorrow     object            2        620\n"
     ]
    }
   ],
   "source": [
    "##Valores NAN\n",
    "datos_NA(y)"
   ]
  },
  {
   "cell_type": "code",
   "execution_count": 37,
   "metadata": {},
   "outputs": [],
   "source": [
    "###Limpieza de datos NAN\n",
    "revCategoricos(X, 'Location')\n",
    "\n",
    "##Crear variables dummies para cada Location hacer a lo ultimo\n",
    "dataFinal = convDummies(X, 'Location')"
   ]
  },
  {
   "cell_type": "code",
   "execution_count": 38,
   "metadata": {},
   "outputs": [],
   "source": [
    "##Limpiar NAN mintemp y max temp\n",
    "X['MinTemp']= imputacionNa(X, 'MinTemp','Mediana')\n",
    "X['MaxTemp']= imputacionNa(X, 'MaxTemp','Mediana')\n",
    "X['Rainfall']= imputacionNa(X, 'Rainfall','Mediana')\n",
    "X['Evaporation']= imputacionNa(X, 'Evaporation','Mediana')\n",
    "X['Sunshine']= imputacionNa(X, 'Sunshine','Mediana')\n",
    "X['WindGustSpeed']= imputacionNa(X, 'WindGustSpeed','Mediana')\n",
    "\n",
    "X['WindSpeed9am']= imputacionNa(X, 'WindSpeed9am','Mediana')\n",
    "X['WindSpeed3pm']= imputacionNa(X, 'WindSpeed3pm','Mediana')\n",
    "X['Humidity9am']= imputacionNa(X, 'Humidity9am','Mediana')\n",
    "X['Humidity3pm']= imputacionNa(X, 'Humidity3pm','Mediana')\n",
    "X['Pressure9am']= imputacionNa(X, 'Pressure9am','Mediana')\n",
    "X['Pressure3pm']= imputacionNa(X, 'Pressure3pm','Mediana')\n",
    "X['Cloud9am']= imputacionNa(X, 'Cloud9am','Mediana')\n",
    "X['Cloud3pm']= imputacionNa(X, 'Cloud3pm','Mediana')\n",
    "X['Temp9am']= imputacionNa(X, 'Temp9am','Mediana')\n",
    "X['Temp3pm']= imputacionNa(X, 'Temp3pm','Mediana')\n",
    "\n"
   ]
  },
  {
   "cell_type": "code",
   "execution_count": 39,
   "metadata": {},
   "outputs": [],
   "source": [
    "##Limpieza Categóricos\n",
    "X['WindGustDir']= imputacionCatNa(X, 'WindGustDir')\n",
    "X['WindDir9am']= imputacionCatNa(X, 'WindDir9am')\n",
    "X['WindDir3pm']= imputacionCatNa(X, 'WindDir3pm')\n",
    "X['RainToday']= imputacionCatNa(X, 'RainToday')"
   ]
  },
  {
   "cell_type": "code",
   "execution_count": 40,
   "metadata": {},
   "outputs": [
    {
     "name": "stdout",
     "output_type": "stream",
     "text": [
      "Dimensiones : 36881 filas, 24 columnas\n",
      "Total Valores NA : 0 \n",
      "                        Nombre Columna Tipo de Dato     #Distintos Valores NA\n",
      "                              Location     object           46          0\n",
      "                               MinTemp    float64          369          0\n",
      "                               MaxTemp    float64          470          0\n",
      "                              Rainfall    float64          432          0\n",
      "                           Evaporation    float64          215          0\n",
      "                              Sunshine    float64          144          0\n",
      "                           WindGustDir     object           16          0\n",
      "                         WindGustSpeed    float64           64          0\n",
      "                            WindDir9am     object           16          0\n",
      "                            WindDir3pm     object           16          0\n",
      "                          WindSpeed9am    float64           39          0\n",
      "                          WindSpeed3pm    float64           39          0\n",
      "                           Humidity9am    float64           99          0\n",
      "                           Humidity3pm    float64          100          0\n",
      "                           Pressure9am    float64          509          0\n",
      "                           Pressure3pm    float64          503          0\n",
      "                              Cloud9am    float64           10          0\n",
      "                              Cloud3pm    float64            9          0\n",
      "                               Temp9am    float64          400          0\n",
      "                               Temp3pm    float64          469          0\n",
      "                             RainToday     object            2          0\n",
      "                                  Year      int64            6          0\n",
      "                                 Month      int64           12          0\n",
      "                                   Day      int64           31          0\n"
     ]
    }
   ],
   "source": [
    "##Revisión general\n",
    "datos_NA(X)"
   ]
  },
  {
   "cell_type": "code",
   "execution_count": 23,
   "metadata": {},
   "outputs": [],
   "source": [
    "##Convertir a Número variables categóricas\n",
    "dataN = convDummies(X, 'Location')"
   ]
  },
  {
   "cell_type": "code",
   "execution_count": 24,
   "metadata": {},
   "outputs": [
    {
     "data": {
      "text/plain": [
       "SE     5771\n",
       "W      2375\n",
       "SSE    2330\n",
       "N      2328\n",
       "S      2317\n",
       "SW     2272\n",
       "E      2209\n",
       "WSW    2206\n",
       "SSW    2139\n",
       "WNW    2052\n",
       "ENE    2026\n",
       "NW     1940\n",
       "ESE    1894\n",
       "NE     1769\n",
       "NNE    1663\n",
       "NNW    1590\n",
       "Name: WindGustDir, dtype: int64"
      ]
     },
     "execution_count": 24,
     "metadata": {},
     "output_type": "execute_result"
    }
   ],
   "source": [
    "revCategoricos(X, 'WindGustDir')"
   ]
  },
  {
   "cell_type": "code",
   "execution_count": null,
   "metadata": {},
   "outputs": [],
   "source": [
    "##Cambiar a North, South, East, West, NW, NE, SE, SW"
   ]
  },
  {
   "cell_type": "code",
   "execution_count": 25,
   "metadata": {},
   "outputs": [
    {
     "data": {
      "text/plain": [
       "N      5671\n",
       "SE     2421\n",
       "E      2375\n",
       "SSE    2301\n",
       "S      2233\n",
       "W      2218\n",
       "ENE    2090\n",
       "SW     2085\n",
       "NW     2077\n",
       "NNE    2059\n",
       "NNW    2017\n",
       "NE     1941\n",
       "SSW    1895\n",
       "ESE    1864\n",
       "WNW    1860\n",
       "WSW    1774\n",
       "Name: WindDir9am, dtype: int64"
      ]
     },
     "execution_count": 25,
     "metadata": {},
     "output_type": "execute_result"
    }
   ],
   "source": [
    "revCategoricos(X, 'WindDir9am')"
   ]
  },
  {
   "cell_type": "code",
   "execution_count": null,
   "metadata": {},
   "outputs": [],
   "source": [
    "##Cambiar a North, South, East, West, NW, NE, SE, SW "
   ]
  },
  {
   "cell_type": "code",
   "execution_count": 26,
   "metadata": {},
   "outputs": [
    {
     "data": {
      "text/plain": [
       "SE     3901\n",
       "S      2547\n",
       "W      2486\n",
       "WSW    2410\n",
       "SSE    2381\n",
       "SW     2377\n",
       "N      2278\n",
       "E      2252\n",
       "WNW    2208\n",
       "NW     2178\n",
       "ESE    2163\n",
       "NE     2136\n",
       "ENE    2063\n",
       "SSW    1994\n",
       "NNW    1860\n",
       "NNE    1647\n",
       "Name: WindDir3pm, dtype: int64"
      ]
     },
     "execution_count": 26,
     "metadata": {},
     "output_type": "execute_result"
    }
   ],
   "source": [
    "revCategoricos(X, 'WindDir3pm')"
   ]
  },
  {
   "cell_type": "code",
   "execution_count": null,
   "metadata": {},
   "outputs": [],
   "source": [
    "##Cambiar a North, South, East, West, NW, NE, SE, SW "
   ]
  },
  {
   "cell_type": "code",
   "execution_count": 27,
   "metadata": {},
   "outputs": [
    {
     "data": {
      "text/plain": [
       "No     28382\n",
       "Yes     8499\n",
       "Name: RainToday, dtype: int64"
      ]
     },
     "execution_count": 27,
     "metadata": {},
     "output_type": "execute_result"
    }
   ],
   "source": [
    "revCategoricos(X, 'RainToday')"
   ]
  },
  {
   "cell_type": "code",
   "execution_count": 28,
   "metadata": {},
   "outputs": [
    {
     "data": {
      "text/plain": [
       "0    28382\n",
       "1     8499\n",
       "Name: RainToday, dtype: int64"
      ]
     },
     "execution_count": 28,
     "metadata": {},
     "output_type": "execute_result"
    }
   ],
   "source": [
    "##Binarizar No =0 y Si=1\n",
    "X['RainToday'] = camTextBi(X, 'RainToday', 'No', 0, 1)\n",
    "revCategoricos(X, 'RainToday')"
   ]
  },
  {
   "cell_type": "code",
   "execution_count": 46,
   "metadata": {},
   "outputs": [],
   "source": [
    "##Imputación de variables predictora\n",
    "y['RainTomorrow'] = imputacionCatNa(y, 'RainTomorrow')\n",
    "y['RainTomorrow'] = camTextBi(y, 'RainTomorrow', 'No', 0, 1)\n"
   ]
  },
  {
   "cell_type": "code",
   "execution_count": 47,
   "metadata": {},
   "outputs": [
    {
     "name": "stdout",
     "output_type": "stream",
     "text": [
      "Dimensiones : 36881 filas, 1 columnas\n",
      "Total Valores NA : 0 \n",
      "                        Nombre Columna Tipo de Dato     #Distintos Valores NA\n",
      "                          RainTomorrow      int64            2          0\n"
     ]
    }
   ],
   "source": [
    "datos_NA(y)"
   ]
  }
 ],
 "metadata": {
  "language_info": {
   "name": "python"
  },
  "orig_nbformat": 4
 },
 "nbformat": 4,
 "nbformat_minor": 2
}
