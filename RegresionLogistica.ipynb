{
 "cells": [
  {
   "cell_type": "markdown",
   "metadata": {},
   "source": [
    "# Regresión Logística"
   ]
  },
  {
   "cell_type": "markdown",
   "metadata": {},
   "source": [
    "## Paso 1: Importar librerías"
   ]
  },
  {
   "cell_type": "code",
   "execution_count": 101,
   "metadata": {},
   "outputs": [],
   "source": [
    "##Cargue de las librerías\n",
    "import pandas as pd\n",
    "import numpy as np\n",
    "##Librerías para graficar\n",
    "import matplotlib.pyplot as plt\n",
    "import seaborn as sns\n",
    "##Librerías para test de normalidad\n",
    "import statsmodels.api as sm\n",
    "from scipy import stats\n",
    "##Librerias para preprocesamiento\n",
    "from sklearn.preprocessing import MinMaxScaler, StandardScaler, LabelEncoder\n",
    "##Librerías para over y under sampling\n",
    "from sklearn.utils import resample"
   ]
  },
  {
   "cell_type": "markdown",
   "metadata": {},
   "source": [
    "## Paso 2: Funciones"
   ]
  },
  {
   "cell_type": "code",
   "execution_count": 119,
   "metadata": {},
   "outputs": [],
   "source": [
    "# Función para importar data .xlsx o .csv\n",
    "def importDatos(ruta, archivo, ext):\n",
    "    if ext == '.csv':\n",
    "        data = pd.read_csv(ruta+archivo+ext)\n",
    "        return data\n",
    "    elif ext == '.xlsx':\n",
    "        data = pd.read_excel(ruta+archivo+ext)\n",
    "        return data\n",
    "    else:\n",
    "        print('Extensión diferente')\n",
    "\n",
    "# Función informe sobre los datos NAN\n",
    "\n",
    "\n",
    "def datos_NA(df):\n",
    "    if isinstance(df, pd.DataFrame):\n",
    "        total_na = df.isna().sum().sum()\n",
    "        print(\"Dimensiones : %d filas, %d columnas\" %\n",
    "              (df.shape[0], df.shape[1]))\n",
    "        print(\"Total Valores NA : %d \" % (total_na))\n",
    "        print(\"%38s %10s     %10s %10s\" %\n",
    "              (\"Nombre Columna\", \"Tipo de Dato\", \"#Distintos\", \"Valores NA\"))\n",
    "        col_name = df.columns\n",
    "        dtyp = df.dtypes\n",
    "        uniq = df.nunique()\n",
    "        na_val = df.isna().sum()\n",
    "        for i in range(len(df.columns)):\n",
    "            print(\"%38s %10s   %10s %10s\" %\n",
    "                  (col_name[i], dtyp[i], uniq[i], na_val[i]))\n",
    "\n",
    "    else:\n",
    "        print(\"Se esperaba dataframe %15s\" % (type(df)))\n",
    "\n",
    "# Función para pintar algo el histograma reemplazamos con la media o mediana\n",
    "\n",
    "\n",
    "def histoPlot(df, nomCol, anchoBar):\n",
    "    sns.histplot(data=df, x=nomCol, binwidth=anchoBar, kde=True)\n",
    "\n",
    "# Función para reemplazo de valore numéricos con la mediana\n",
    "\n",
    "\n",
    "def imputacionNa(df, nomCol, param):\n",
    "    if param == 'media':\n",
    "        df[nomCol] = df[nomCol].fillna(df[nomCol].mean())\n",
    "        return df[nomCol]\n",
    "    else:\n",
    "        df[nomCol] = df[nomCol].fillna(df[nomCol].median())\n",
    "        return df[nomCol]\n",
    "# Funcion para revisar datos categóricos o texto\n",
    "\n",
    "\n",
    "def revCategoricos(df, nomCol):\n",
    "    rev = df[nomCol].value_counts()\n",
    "    return rev\n",
    "\n",
    "# Función para datos categóricos modificaciones\n",
    "\n",
    "\n",
    "def imputacionCat(df, nomCol, busqueda, reempl):\n",
    "    df[nomCol] = np.where(df[nomCol] == busqueda, reempl, df[nomCol])\n",
    "    return df[nomCol]\n",
    "\n",
    "# Función para reeemplazo NA categóricos\n",
    "\n",
    "\n",
    "def imputacionCatNa(df, nomCol):\n",
    "    df[nomCol] = df[nomCol].fillna(df[nomCol].mode()[0])\n",
    "    return df[nomCol]\n",
    "\n",
    "# Función para cambiar datos de texto a numerico float64\n",
    "\n",
    "\n",
    "def cambioTextNum(df, nomCol, tipo):\n",
    "    df[nomCol] = df[nomCol].astype(tipo)\n",
    "    return df[nomCol]\n",
    "\n",
    "# Función modificar a 1 y 0 los datos categóricos\n",
    "\n",
    "\n",
    "def camTextBi(df, nomCol, busqueda, camuno, camdos):\n",
    "    df[nomCol] = np.where(df[nomCol] == busqueda, camuno, camdos)\n",
    "    return df[nomCol]\n",
    "\n",
    "# Función para variables dummies\n",
    "\n",
    "\n",
    "def convDummies(df, nomCol):\n",
    "    dummies = pd.get_dummies(df[nomCol])\n",
    "    data = pd.concat([df, dummies], axis=1)\n",
    "    data.drop(columns=[nomCol], inplace=True)\n",
    "    return data\n",
    "\n",
    "# Función cambiar encabezados del dataframe\n",
    "\n",
    "\n",
    "def camEncab(df, listaN):\n",
    "    df.columns = listaN\n",
    "    return df\n",
    "\n",
    "# Función para el test de Shapiro - wilk - resistente al ruido en los datos\n",
    "\n",
    "\n",
    "def testShapiroWilk(df):\n",
    "    valoresP = []\n",
    "    concepto = []\n",
    "    variable = []\n",
    "    for column in df:\n",
    "        k2, p_value = stats.shapiro(df[column].values)\n",
    "        valoresP.append(p_value)\n",
    "        variable.append(column)\n",
    "        if (p_value < 0.05):\n",
    "            concepto.append('No es una variable Normal')\n",
    "        else:\n",
    "            concepto.append('Es una variable Normal')\n",
    "    dfShapiro = pd.DataFrame(\n",
    "        {'Variable': variable, 'Valores P': valoresP, 'Concepto': concepto})\n",
    "    return dfShapiro\n",
    "\n",
    "# Función para normalizar la data min - max sklearn\n",
    "\n",
    "\n",
    "def normaData(df):\n",
    "    valores = df.values  \n",
    "    scaler = MinMaxScaler(feature_range=(0, 1))\n",
    "    scaler = scaler.fit(valores)\n",
    "\n",
    "    pd.DataFrame(np.vstack((scaler.data_min_, scaler.data_max_)),\n",
    "             index=['Min', 'Max'],\n",
    "             columns=df.columns)\n",
    "\n",
    "    normalizados = scaler.transform(valores)\n",
    "    df_norm = pd.DataFrame(normalizados,\n",
    "                       index=df.index,\n",
    "                       columns=df.columns)\n",
    "    return df_norm\n",
    "\n",
    "## Función para Estandarizar la data formula z-score\n",
    "def stanData(df):\n",
    "    scaler = StandardScaler()\n",
    "    standardized_data = scaler.fit_transform(df)\n",
    "    df_stan = pd.DataFrame(standardized_data, columns=df.columns)\n",
    "    return df_stan\n",
    "\n",
    "## Función para hacer la matriz de correlación de manera Tidy\n",
    "def tidy_corr_matrix(corr_mat):\n",
    "    '''\n",
    "    Función para convertir una matriz de correlación de pandas en formato tidy.\n",
    "    '''\n",
    "    corr_mat = corr_mat.stack().reset_index()\n",
    "    corr_mat.columns = ['variable_1','variable_2','r']\n",
    "    corr_mat = corr_mat.loc[corr_mat['variable_1'] != corr_mat['variable_2'], :]\n",
    "    corr_mat['abs_r'] = np.abs(corr_mat['r'])\n",
    "    corr_mat = corr_mat.sort_values('abs_r', ascending=False)\n",
    "    \n",
    "    return(corr_mat)\n",
    "\n",
    "##Función de label encoder\n",
    "def Codificacion(df, nomCol):\n",
    "    label_e = LabelEncoder()\n",
    "    df[nomCol] = label_e.fit_transform(df[nomCol])\n",
    "    return df[nomCol]\n",
    "\n"
   ]
  },
  {
   "cell_type": "markdown",
   "metadata": {},
   "source": [
    "## Paso 3: Llamado a Funciones"
   ]
  },
  {
   "cell_type": "code",
   "execution_count": 103,
   "metadata": {},
   "outputs": [],
   "source": [
    "X = importDatos(\"/home/julian/Documentos/DiplomadoML/DocumentacionDiplomadoML/4. Aprendizaje Supervisado Clasificación/Datasets/\", 'X','.csv')\n",
    "y = importDatos(\"/home/julian/Documentos/DiplomadoML/DocumentacionDiplomadoML/4. Aprendizaje Supervisado Clasificación/Datasets/\", 'y','.csv')\n"
   ]
  },
  {
   "cell_type": "code",
   "execution_count": 104,
   "metadata": {},
   "outputs": [
    {
     "name": "stdout",
     "output_type": "stream",
     "text": [
      "Dimensiones : 36881 filas, 24 columnas\n",
      "Total Valores NA : 74668 \n",
      "                        Nombre Columna Tipo de Dato     #Distintos Valores NA\n",
      "                              Location     object           46          0\n",
      "                               MinTemp    float64          369        338\n",
      "                               MaxTemp    float64          470        242\n",
      "                              Rainfall    float64          432        626\n",
      "                           Evaporation    float64          215      12846\n",
      "                              Sunshine    float64          144      13564\n",
      "                           WindGustDir     object           16       3368\n",
      "                         WindGustSpeed    float64           64       3361\n",
      "                            WindDir9am     object           16       2809\n",
      "                            WindDir3pm     object           16        962\n",
      "                          WindSpeed9am    float64           39        662\n",
      "                          WindSpeed3pm    float64           39        646\n",
      "                           Humidity9am    float64           99        570\n",
      "                           Humidity3pm    float64          100        511\n",
      "                           Pressure9am    float64          509       3572\n",
      "                           Pressure3pm    float64          503       3552\n",
      "                              Cloud9am    float64           10      12500\n",
      "                              Cloud3pm    float64            9      12982\n",
      "                               Temp9am    float64          400        487\n",
      "                               Temp3pm    float64          469        444\n",
      "                             RainToday     object            2        626\n",
      "                                  Year      int64            6          0\n",
      "                                 Month      int64           12          0\n",
      "                                   Day      int64           31          0\n"
     ]
    }
   ],
   "source": [
    "##Revisión de datos NAN\n",
    "datos_NA(X)"
   ]
  },
  {
   "cell_type": "code",
   "execution_count": 105,
   "metadata": {},
   "outputs": [
    {
     "name": "stdout",
     "output_type": "stream",
     "text": [
      "Dimensiones : 36881 filas, 1 columnas\n",
      "Total Valores NA : 620 \n",
      "                        Nombre Columna Tipo de Dato     #Distintos Valores NA\n",
      "                          RainTomorrow     object            2        620\n"
     ]
    }
   ],
   "source": [
    "##Valores NAN\n",
    "datos_NA(y)"
   ]
  },
  {
   "cell_type": "code",
   "execution_count": 106,
   "metadata": {},
   "outputs": [],
   "source": [
    "###Limpieza de datos NAN\n",
    "revCategoricos(X, 'Location')\n",
    "\n",
    "##Crear variables dummies para cada Location hacer a lo ultimo\n",
    "dataFinal = convDummies(X, 'Location')"
   ]
  },
  {
   "cell_type": "code",
   "execution_count": 107,
   "metadata": {},
   "outputs": [],
   "source": [
    "##Limpiar NAN mintemp y max temp\n",
    "X['MinTemp']= imputacionNa(X, 'MinTemp','Mediana')\n",
    "X['MaxTemp']= imputacionNa(X, 'MaxTemp','Mediana')\n",
    "X['Rainfall']= imputacionNa(X, 'Rainfall','Mediana')\n",
    "X['Evaporation']= imputacionNa(X, 'Evaporation','Mediana')\n",
    "X['Sunshine']= imputacionNa(X, 'Sunshine','Mediana')\n",
    "X['WindGustSpeed']= imputacionNa(X, 'WindGustSpeed','Mediana')\n",
    "\n",
    "X['WindSpeed9am']= imputacionNa(X, 'WindSpeed9am','Mediana')\n",
    "X['WindSpeed3pm']= imputacionNa(X, 'WindSpeed3pm','Mediana')\n",
    "X['Humidity9am']= imputacionNa(X, 'Humidity9am','Mediana')\n",
    "X['Humidity3pm']= imputacionNa(X, 'Humidity3pm','Mediana')\n",
    "X['Pressure9am']= imputacionNa(X, 'Pressure9am','Mediana')\n",
    "X['Pressure3pm']= imputacionNa(X, 'Pressure3pm','Mediana')\n",
    "X['Cloud9am']= imputacionNa(X, 'Cloud9am','Mediana')\n",
    "X['Cloud3pm']= imputacionNa(X, 'Cloud3pm','Mediana')\n",
    "X['Temp9am']= imputacionNa(X, 'Temp9am','Mediana')\n",
    "X['Temp3pm']= imputacionNa(X, 'Temp3pm','Mediana')\n",
    "\n"
   ]
  },
  {
   "cell_type": "code",
   "execution_count": 108,
   "metadata": {},
   "outputs": [],
   "source": [
    "##Limpieza Categóricos\n",
    "X['WindGustDir']= imputacionCatNa(X, 'WindGustDir')\n",
    "X['WindDir9am']= imputacionCatNa(X, 'WindDir9am')\n",
    "X['WindDir3pm']= imputacionCatNa(X, 'WindDir3pm')\n",
    "X['RainToday']= imputacionCatNa(X, 'RainToday')"
   ]
  },
  {
   "cell_type": "code",
   "execution_count": 109,
   "metadata": {},
   "outputs": [
    {
     "name": "stdout",
     "output_type": "stream",
     "text": [
      "Dimensiones : 36881 filas, 24 columnas\n",
      "Total Valores NA : 0 \n",
      "                        Nombre Columna Tipo de Dato     #Distintos Valores NA\n",
      "                              Location     object           46          0\n",
      "                               MinTemp    float64          369          0\n",
      "                               MaxTemp    float64          470          0\n",
      "                              Rainfall    float64          432          0\n",
      "                           Evaporation    float64          215          0\n",
      "                              Sunshine    float64          144          0\n",
      "                           WindGustDir     object           16          0\n",
      "                         WindGustSpeed    float64           64          0\n",
      "                            WindDir9am     object           16          0\n",
      "                            WindDir3pm     object           16          0\n",
      "                          WindSpeed9am    float64           39          0\n",
      "                          WindSpeed3pm    float64           39          0\n",
      "                           Humidity9am    float64           99          0\n",
      "                           Humidity3pm    float64          100          0\n",
      "                           Pressure9am    float64          509          0\n",
      "                           Pressure3pm    float64          503          0\n",
      "                              Cloud9am    float64           10          0\n",
      "                              Cloud3pm    float64            9          0\n",
      "                               Temp9am    float64          400          0\n",
      "                               Temp3pm    float64          469          0\n",
      "                             RainToday     object            2          0\n",
      "                                  Year      int64            6          0\n",
      "                                 Month      int64           12          0\n",
      "                                   Day      int64           31          0\n"
     ]
    }
   ],
   "source": [
    "##Revisión general\n",
    "datos_NA(X)"
   ]
  },
  {
   "cell_type": "code",
   "execution_count": 110,
   "metadata": {},
   "outputs": [],
   "source": [
    "##Convertir a Número variables categóricas\n",
    "dataN = convDummies(X, 'Location')"
   ]
  },
  {
   "cell_type": "code",
   "execution_count": 111,
   "metadata": {},
   "outputs": [
    {
     "data": {
      "text/html": [
       "<div>\n",
       "<style scoped>\n",
       "    .dataframe tbody tr th:only-of-type {\n",
       "        vertical-align: middle;\n",
       "    }\n",
       "\n",
       "    .dataframe tbody tr th {\n",
       "        vertical-align: top;\n",
       "    }\n",
       "\n",
       "    .dataframe thead th {\n",
       "        text-align: right;\n",
       "    }\n",
       "</style>\n",
       "<table border=\"1\" class=\"dataframe\">\n",
       "  <thead>\n",
       "    <tr style=\"text-align: right;\">\n",
       "      <th></th>\n",
       "      <th>MinTemp</th>\n",
       "      <th>MaxTemp</th>\n",
       "      <th>Rainfall</th>\n",
       "      <th>Evaporation</th>\n",
       "      <th>Sunshine</th>\n",
       "      <th>WindGustDir</th>\n",
       "      <th>WindGustSpeed</th>\n",
       "      <th>WindDir9am</th>\n",
       "      <th>WindDir3pm</th>\n",
       "      <th>WindSpeed9am</th>\n",
       "      <th>...</th>\n",
       "      <th>SydneyAirport</th>\n",
       "      <th>Townsville</th>\n",
       "      <th>Tuggeranong</th>\n",
       "      <th>WaggaWagga</th>\n",
       "      <th>Walpole</th>\n",
       "      <th>Watsonia</th>\n",
       "      <th>Williamtown</th>\n",
       "      <th>Witchcliffe</th>\n",
       "      <th>Wollongong</th>\n",
       "      <th>Woomera</th>\n",
       "    </tr>\n",
       "  </thead>\n",
       "  <tbody>\n",
       "    <tr>\n",
       "      <th>0</th>\n",
       "      <td>5.1</td>\n",
       "      <td>14.3</td>\n",
       "      <td>0.0</td>\n",
       "      <td>1.8</td>\n",
       "      <td>8.9</td>\n",
       "      <td>NW</td>\n",
       "      <td>30.0</td>\n",
       "      <td>WSW</td>\n",
       "      <td>SSE</td>\n",
       "      <td>7.0</td>\n",
       "      <td>...</td>\n",
       "      <td>0</td>\n",
       "      <td>0</td>\n",
       "      <td>0</td>\n",
       "      <td>0</td>\n",
       "      <td>0</td>\n",
       "      <td>0</td>\n",
       "      <td>0</td>\n",
       "      <td>0</td>\n",
       "      <td>0</td>\n",
       "      <td>0</td>\n",
       "    </tr>\n",
       "    <tr>\n",
       "      <th>1</th>\n",
       "      <td>1.1</td>\n",
       "      <td>14.5</td>\n",
       "      <td>0.4</td>\n",
       "      <td>4.6</td>\n",
       "      <td>8.4</td>\n",
       "      <td>SSW</td>\n",
       "      <td>50.0</td>\n",
       "      <td>E</td>\n",
       "      <td>SW</td>\n",
       "      <td>7.0</td>\n",
       "      <td>...</td>\n",
       "      <td>0</td>\n",
       "      <td>0</td>\n",
       "      <td>0</td>\n",
       "      <td>0</td>\n",
       "      <td>0</td>\n",
       "      <td>0</td>\n",
       "      <td>0</td>\n",
       "      <td>0</td>\n",
       "      <td>0</td>\n",
       "      <td>0</td>\n",
       "    </tr>\n",
       "    <tr>\n",
       "      <th>2</th>\n",
       "      <td>19.7</td>\n",
       "      <td>26.2</td>\n",
       "      <td>0.0</td>\n",
       "      <td>7.2</td>\n",
       "      <td>7.2</td>\n",
       "      <td>SSE</td>\n",
       "      <td>41.0</td>\n",
       "      <td>SSE</td>\n",
       "      <td>SSE</td>\n",
       "      <td>19.0</td>\n",
       "      <td>...</td>\n",
       "      <td>0</td>\n",
       "      <td>0</td>\n",
       "      <td>0</td>\n",
       "      <td>0</td>\n",
       "      <td>0</td>\n",
       "      <td>0</td>\n",
       "      <td>1</td>\n",
       "      <td>0</td>\n",
       "      <td>0</td>\n",
       "      <td>0</td>\n",
       "    </tr>\n",
       "    <tr>\n",
       "      <th>3</th>\n",
       "      <td>16.6</td>\n",
       "      <td>28.0</td>\n",
       "      <td>0.0</td>\n",
       "      <td>9.0</td>\n",
       "      <td>11.3</td>\n",
       "      <td>SW</td>\n",
       "      <td>54.0</td>\n",
       "      <td>SSE</td>\n",
       "      <td>SW</td>\n",
       "      <td>28.0</td>\n",
       "      <td>...</td>\n",
       "      <td>0</td>\n",
       "      <td>0</td>\n",
       "      <td>0</td>\n",
       "      <td>0</td>\n",
       "      <td>0</td>\n",
       "      <td>0</td>\n",
       "      <td>0</td>\n",
       "      <td>0</td>\n",
       "      <td>0</td>\n",
       "      <td>0</td>\n",
       "    </tr>\n",
       "    <tr>\n",
       "      <th>4</th>\n",
       "      <td>14.6</td>\n",
       "      <td>25.3</td>\n",
       "      <td>0.0</td>\n",
       "      <td>4.6</td>\n",
       "      <td>8.4</td>\n",
       "      <td>NNW</td>\n",
       "      <td>43.0</td>\n",
       "      <td>WNW</td>\n",
       "      <td>N</td>\n",
       "      <td>6.0</td>\n",
       "      <td>...</td>\n",
       "      <td>0</td>\n",
       "      <td>0</td>\n",
       "      <td>0</td>\n",
       "      <td>0</td>\n",
       "      <td>0</td>\n",
       "      <td>0</td>\n",
       "      <td>0</td>\n",
       "      <td>0</td>\n",
       "      <td>0</td>\n",
       "      <td>0</td>\n",
       "    </tr>\n",
       "  </tbody>\n",
       "</table>\n",
       "<p>5 rows × 69 columns</p>\n",
       "</div>"
      ],
      "text/plain": [
       "   MinTemp  MaxTemp  Rainfall  Evaporation  Sunshine WindGustDir  \\\n",
       "0      5.1     14.3       0.0          1.8       8.9          NW   \n",
       "1      1.1     14.5       0.4          4.6       8.4         SSW   \n",
       "2     19.7     26.2       0.0          7.2       7.2         SSE   \n",
       "3     16.6     28.0       0.0          9.0      11.3          SW   \n",
       "4     14.6     25.3       0.0          4.6       8.4         NNW   \n",
       "\n",
       "   WindGustSpeed WindDir9am WindDir3pm  WindSpeed9am  ...  SydneyAirport  \\\n",
       "0           30.0        WSW        SSE           7.0  ...              0   \n",
       "1           50.0          E         SW           7.0  ...              0   \n",
       "2           41.0        SSE        SSE          19.0  ...              0   \n",
       "3           54.0        SSE         SW          28.0  ...              0   \n",
       "4           43.0        WNW          N           6.0  ...              0   \n",
       "\n",
       "   Townsville  Tuggeranong  WaggaWagga  Walpole  Watsonia  Williamtown  \\\n",
       "0           0            0           0        0         0            0   \n",
       "1           0            0           0        0         0            0   \n",
       "2           0            0           0        0         0            1   \n",
       "3           0            0           0        0         0            0   \n",
       "4           0            0           0        0         0            0   \n",
       "\n",
       "   Witchcliffe  Wollongong Woomera  \n",
       "0            0           0       0  \n",
       "1            0           0       0  \n",
       "2            0           0       0  \n",
       "3            0           0       0  \n",
       "4            0           0       0  \n",
       "\n",
       "[5 rows x 69 columns]"
      ]
     },
     "execution_count": 111,
     "metadata": {},
     "output_type": "execute_result"
    }
   ],
   "source": [
    "dataN.head()"
   ]
  },
  {
   "cell_type": "code",
   "execution_count": 112,
   "metadata": {},
   "outputs": [
    {
     "data": {
      "text/plain": [
       "SE     5771\n",
       "W      2375\n",
       "SSE    2330\n",
       "N      2328\n",
       "S      2317\n",
       "SW     2272\n",
       "E      2209\n",
       "WSW    2206\n",
       "SSW    2139\n",
       "WNW    2052\n",
       "ENE    2026\n",
       "NW     1940\n",
       "ESE    1894\n",
       "NE     1769\n",
       "NNE    1663\n",
       "NNW    1590\n",
       "Name: WindGustDir, dtype: int64"
      ]
     },
     "execution_count": 112,
     "metadata": {},
     "output_type": "execute_result"
    }
   ],
   "source": [
    "revCategoricos(X, 'WindGustDir')"
   ]
  },
  {
   "cell_type": "code",
   "execution_count": 118,
   "metadata": {},
   "outputs": [
    {
     "data": {
      "text/plain": [
       "5    9995\n",
       "6    6617\n",
       "3    5582\n",
       "2    5458\n",
       "7    2375\n",
       "1    2328\n",
       "4    2317\n",
       "0    2209\n",
       "Name: WindGustDir, dtype: int64"
      ]
     },
     "execution_count": 118,
     "metadata": {},
     "output_type": "execute_result"
    }
   ],
   "source": [
    "##Cambiar a North, South, East, West, NW, NE, SE, SW - label encoder\n",
    "X.WindGustDir = imputacionCat(X, 'WindGustDir', 'SSE','SE')\n",
    "X.WindGustDir = imputacionCat(X, 'WindGustDir', 'WSW','SW')\n",
    "X.WindGustDir = imputacionCat(X, 'WindGustDir', 'SSW','SW')\n",
    "X.WindGustDir = imputacionCat(X, 'WindGustDir', 'WNW','NW')\n",
    "X.WindGustDir = imputacionCat(X, 'WindGustDir', 'ENE','NE')\n",
    "X.WindGustDir = imputacionCat(X, 'WindGustDir', 'ESE','SE')\n",
    "X.WindGustDir = imputacionCat(X, 'WindGustDir', 'NNE','NE')\n",
    "X.WindGustDir = imputacionCat(X, 'WindGustDir', 'NNW','NW')\n",
    "\n",
    "##Label encoder\n",
    "from sklearn import preprocessing\n",
    "\n",
    "label_e = preprocessing.LabelEncoder()\n",
    "\n",
    "X.WindGustDir = label_e.fit_transform(X.WindGustDir)\n",
    "\n",
    "revCategoricos(X, 'WindGustDir')"
   ]
  },
  {
   "cell_type": "code",
   "execution_count": 121,
   "metadata": {},
   "outputs": [
    {
     "data": {
      "text/plain": [
       "5    6586\n",
       "2    6090\n",
       "3    5954\n",
       "6    5754\n",
       "1    5671\n",
       "0    2375\n",
       "4    2233\n",
       "7    2218\n",
       "Name: WindDir9am, dtype: int64"
      ]
     },
     "execution_count": 121,
     "metadata": {},
     "output_type": "execute_result"
    }
   ],
   "source": [
    "revCategoricos(X, 'WindDir9am')"
   ]
  },
  {
   "cell_type": "code",
   "execution_count": 120,
   "metadata": {},
   "outputs": [],
   "source": [
    "##Cambiar a North, South, East, West, NW, NE, SE, SW \n",
    "X.WindDir9am = imputacionCat(X, 'WindDir9am', 'SSE','SE')\n",
    "X.WindDir9am = imputacionCat(X, 'WindDir9am', 'WSW','SW')\n",
    "X.WindDir9am = imputacionCat(X, 'WindDir9am', 'SSW','SW')\n",
    "X.WindDir9am = imputacionCat(X, 'WindDir9am', 'WNW','NW')\n",
    "X.WindDir9am = imputacionCat(X, 'WindDir9am', 'ENE','NE')\n",
    "X.WindDir9am = imputacionCat(X, 'WindDir9am', 'ESE','SE')\n",
    "X.WindDir9am = imputacionCat(X, 'WindDir9am', 'NNE','NE')\n",
    "X.WindDir9am = imputacionCat(X, 'WindDir9am', 'NNW','NW')\n",
    "\n",
    "##Label encoder\n",
    "X.WindDir9am = Codificacion(X, 'WindDir9am')"
   ]
  },
  {
   "cell_type": "code",
   "execution_count": 123,
   "metadata": {},
   "outputs": [
    {
     "data": {
      "text/plain": [
       "5    8445\n",
       "6    6781\n",
       "3    6246\n",
       "2    5846\n",
       "4    2547\n",
       "7    2486\n",
       "1    2278\n",
       "0    2252\n",
       "Name: WindDir3pm, dtype: int64"
      ]
     },
     "execution_count": 123,
     "metadata": {},
     "output_type": "execute_result"
    }
   ],
   "source": [
    "revCategoricos(X, 'WindDir3pm')"
   ]
  },
  {
   "cell_type": "code",
   "execution_count": 122,
   "metadata": {},
   "outputs": [],
   "source": [
    "##Cambiar a North, South, East, West, NW, NE, SE, SW \n",
    "\n",
    "X.WindDir3pm = imputacionCat(X, 'WindDir3pm', 'SSE', 'SE') \n",
    "X.WindDir3pm = imputacionCat(X, 'WindDir3pm', 'WSW', 'SW')\n",
    "X.WindDir3pm = imputacionCat(X, 'WindDir3pm', 'SSW', 'SW')\n",
    "X.WindDir3pm = imputacionCat(X, 'WindDir3pm', 'WNW', 'NW')\n",
    "X.WindDir3pm = imputacionCat(X, 'WindDir3pm', 'ENE', 'NE')\n",
    "X.WindDir3pm = imputacionCat(X, 'WindDir3pm', 'ESE', 'SE')\n",
    "X.WindDir3pm = imputacionCat(X, 'WindDir3pm', 'NNE', 'NE')\n",
    "X.WindDir3pm = imputacionCat(X, 'WindDir3pm', 'NNW', 'NW')\n",
    "\n",
    "X.WindDir3pm = Codificacion(X, 'WindDir3pm')"
   ]
  },
  {
   "cell_type": "code",
   "execution_count": 124,
   "metadata": {},
   "outputs": [
    {
     "data": {
      "text/plain": [
       "No     28382\n",
       "Yes     8499\n",
       "Name: RainToday, dtype: int64"
      ]
     },
     "execution_count": 124,
     "metadata": {},
     "output_type": "execute_result"
    }
   ],
   "source": [
    "revCategoricos(X, 'RainToday')"
   ]
  },
  {
   "cell_type": "code",
   "execution_count": 125,
   "metadata": {},
   "outputs": [
    {
     "data": {
      "text/plain": [
       "0    28382\n",
       "1     8499\n",
       "Name: RainToday, dtype: int64"
      ]
     },
     "execution_count": 125,
     "metadata": {},
     "output_type": "execute_result"
    }
   ],
   "source": [
    "##Binarizar No =0 y Si=1\n",
    "X['RainToday'] = camTextBi(X, 'RainToday', 'No', 0, 1)\n",
    "revCategoricos(X, 'RainToday')"
   ]
  },
  {
   "cell_type": "code",
   "execution_count": 126,
   "metadata": {},
   "outputs": [],
   "source": [
    "##Imputación de variables predictora\n",
    "y['RainTomorrow'] = imputacionCatNa(y, 'RainTomorrow')\n",
    "y['RainTomorrow'] = camTextBi(y, 'RainTomorrow', 'No', 0, 1)\n"
   ]
  },
  {
   "cell_type": "code",
   "execution_count": 128,
   "metadata": {},
   "outputs": [
    {
     "data": {
      "text/plain": [
       "0    28352\n",
       "1     8529\n",
       "Name: RainTomorrow, dtype: int64"
      ]
     },
     "execution_count": 128,
     "metadata": {},
     "output_type": "execute_result"
    }
   ],
   "source": [
    "revCategoricos(y, 'RainTomorrow')"
   ]
  },
  {
   "cell_type": "code",
   "execution_count": 127,
   "metadata": {},
   "outputs": [
    {
     "name": "stdout",
     "output_type": "stream",
     "text": [
      "Dimensiones : 36881 filas, 1 columnas\n",
      "Total Valores NA : 0 \n",
      "                        Nombre Columna Tipo de Dato     #Distintos Valores NA\n",
      "                          RainTomorrow      int64            2          0\n"
     ]
    }
   ],
   "source": [
    "datos_NA(y)"
   ]
  },
  {
   "cell_type": "code",
   "execution_count": null,
   "metadata": {},
   "outputs": [],
   "source": []
  }
 ],
 "metadata": {
  "language_info": {
   "name": "python"
  },
  "orig_nbformat": 4
 },
 "nbformat": 4,
 "nbformat_minor": 2
}
