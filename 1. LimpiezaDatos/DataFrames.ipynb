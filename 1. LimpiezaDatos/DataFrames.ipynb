{
 "cells": [
  {
   "cell_type": "markdown",
   "metadata": {},
   "source": [
    "## Introducción a Dataframes"
   ]
  },
  {
   "cell_type": "markdown",
   "metadata": {},
   "source": [
    "### Paso 1: Librerías"
   ]
  },
  {
   "cell_type": "code",
   "execution_count": 14,
   "metadata": {},
   "outputs": [],
   "source": [
    "##librerías de importación -> acceso a modulos, métodos y clases\n",
    "import pandas as pd\n",
    "import numpy as np\n",
    "import warnings\n",
    "warnings.simplefilter('ignore')"
   ]
  },
  {
   "cell_type": "markdown",
   "metadata": {},
   "source": [
    "### Paso 2: Funciones"
   ]
  },
  {
   "cell_type": "code",
   "execution_count": 31,
   "metadata": {},
   "outputs": [],
   "source": [
    "##Importación de la data\n",
    "def importDatos(ruta, nomArchivo, ext, sep):\n",
    "    if ext=='.xlsx':\n",
    "        data = pd.read_excel(ruta+nomArchivo+ext)\n",
    "        return data\n",
    "    elif ext=='.csv':\n",
    "        data = pd.read_csv(ruta+nomArchivo+ext, sep)\n",
    "        return data\n",
    "    else:\n",
    "        print('Extensión equivocada')\n",
    "\n",
    "# Función informe sobre los datos NAN\n",
    "def datos_NA(df):\n",
    "    if isinstance(df, pd.DataFrame):\n",
    "        total_na = df.isna().sum().sum()\n",
    "        print(\"Dimensiones : %d filas, %d columnas\" % (df.shape[0], df.shape[1]))\n",
    "        print(\"Total Valores NA : %d \" % (total_na))\n",
    "        print(\"%38s %10s     %10s %10s\" %\n",
    "              (\"Nombre Columna\", \"Tipo de Dato\", \"#Distintos\", \"Valores NA\"))\n",
    "        col_name = df.columns\n",
    "        dtyp = df.dtypes\n",
    "        uniq = df.nunique()\n",
    "        na_val = df.isna().sum()\n",
    "        for i in range(len(df.columns)):\n",
    "            print(\"%38s %10s   %10s %10s\" %\n",
    "                  (col_name[i], dtyp[i], uniq[i], na_val[i]))\n",
    "\n",
    "    else:\n",
    "        print(\"Se esperaba dataframe %15s\" % (type(df)))"
   ]
  },
  {
   "cell_type": "markdown",
   "metadata": {},
   "source": [
    "### Paso 3: Llamado a funciones"
   ]
  },
  {
   "cell_type": "code",
   "execution_count": 21,
   "metadata": {},
   "outputs": [
    {
     "data": {
      "text/html": [
       "<div>\n",
       "<style scoped>\n",
       "    .dataframe tbody tr th:only-of-type {\n",
       "        vertical-align: middle;\n",
       "    }\n",
       "\n",
       "    .dataframe tbody tr th {\n",
       "        vertical-align: top;\n",
       "    }\n",
       "\n",
       "    .dataframe thead th {\n",
       "        text-align: right;\n",
       "    }\n",
       "</style>\n",
       "<table border=\"1\" class=\"dataframe\">\n",
       "  <thead>\n",
       "    <tr style=\"text-align: right;\">\n",
       "      <th></th>\n",
       "      <th>Age</th>\n",
       "      <th>Gender</th>\n",
       "      <th>Temperature</th>\n",
       "      <th>Headache</th>\n",
       "      <th>Fever</th>\n",
       "      <th>Hospital</th>\n",
       "      <th>CovidDiagnosis</th>\n",
       "    </tr>\n",
       "  </thead>\n",
       "  <tbody>\n",
       "    <tr>\n",
       "      <th>0</th>\n",
       "      <td>12.0</td>\n",
       "      <td>Masculino</td>\n",
       "      <td>36°</td>\n",
       "      <td>SI</td>\n",
       "      <td>1.0</td>\n",
       "      <td>Moncaleano</td>\n",
       "      <td>positive</td>\n",
       "    </tr>\n",
       "    <tr>\n",
       "      <th>1</th>\n",
       "      <td>35.0</td>\n",
       "      <td>Femenino</td>\n",
       "      <td>38</td>\n",
       "      <td>NO</td>\n",
       "      <td>0.0</td>\n",
       "      <td>Medilaser</td>\n",
       "      <td>negative</td>\n",
       "    </tr>\n",
       "    <tr>\n",
       "      <th>2</th>\n",
       "      <td>65.0</td>\n",
       "      <td>NaN</td>\n",
       "      <td>36C</td>\n",
       "      <td>YES</td>\n",
       "      <td>1.0</td>\n",
       "      <td>Carmen Emilia</td>\n",
       "      <td>negative</td>\n",
       "    </tr>\n",
       "    <tr>\n",
       "      <th>3</th>\n",
       "      <td>78.0</td>\n",
       "      <td>NaN</td>\n",
       "      <td>39</td>\n",
       "      <td>NOP</td>\n",
       "      <td>1.0</td>\n",
       "      <td>Moncaleano</td>\n",
       "      <td>negative</td>\n",
       "    </tr>\n",
       "    <tr>\n",
       "      <th>4</th>\n",
       "      <td>41.0</td>\n",
       "      <td>Masculino</td>\n",
       "      <td>40.</td>\n",
       "      <td>SI</td>\n",
       "      <td>0.0</td>\n",
       "      <td>Medilaser</td>\n",
       "      <td>positive</td>\n",
       "    </tr>\n",
       "    <tr>\n",
       "      <th>...</th>\n",
       "      <td>...</td>\n",
       "      <td>...</td>\n",
       "      <td>...</td>\n",
       "      <td>...</td>\n",
       "      <td>...</td>\n",
       "      <td>...</td>\n",
       "      <td>...</td>\n",
       "    </tr>\n",
       "    <tr>\n",
       "      <th>94</th>\n",
       "      <td>7.0</td>\n",
       "      <td>Femenino</td>\n",
       "      <td>42</td>\n",
       "      <td>OUI</td>\n",
       "      <td>1.0</td>\n",
       "      <td>Medilaser</td>\n",
       "      <td>positive</td>\n",
       "    </tr>\n",
       "    <tr>\n",
       "      <th>95</th>\n",
       "      <td>7.0</td>\n",
       "      <td>Masculino</td>\n",
       "      <td>35</td>\n",
       "      <td>OUI</td>\n",
       "      <td>0.0</td>\n",
       "      <td>Carmen Emilia</td>\n",
       "      <td>positive</td>\n",
       "    </tr>\n",
       "    <tr>\n",
       "      <th>96</th>\n",
       "      <td>25.0</td>\n",
       "      <td>Femenino</td>\n",
       "      <td>35.2</td>\n",
       "      <td>YES</td>\n",
       "      <td>NaN</td>\n",
       "      <td>Moncaleano</td>\n",
       "      <td>negative</td>\n",
       "    </tr>\n",
       "    <tr>\n",
       "      <th>97</th>\n",
       "      <td>26.0</td>\n",
       "      <td>Femenino</td>\n",
       "      <td>35.6</td>\n",
       "      <td>YES</td>\n",
       "      <td>NaN</td>\n",
       "      <td>Medilaser</td>\n",
       "      <td>negative</td>\n",
       "    </tr>\n",
       "    <tr>\n",
       "      <th>98</th>\n",
       "      <td>30.0</td>\n",
       "      <td>Femenino</td>\n",
       "      <td>36.9</td>\n",
       "      <td>YES</td>\n",
       "      <td>NaN</td>\n",
       "      <td>Carmen Emilia</td>\n",
       "      <td>negative</td>\n",
       "    </tr>\n",
       "  </tbody>\n",
       "</table>\n",
       "<p>99 rows × 7 columns</p>\n",
       "</div>"
      ],
      "text/plain": [
       "     Age     Gender Temperature Headache  Fever       Hospital CovidDiagnosis\n",
       "0   12.0  Masculino         36°       SI    1.0     Moncaleano       positive\n",
       "1   35.0   Femenino          38       NO    0.0      Medilaser       negative\n",
       "2   65.0        NaN         36C      YES    1.0  Carmen Emilia       negative\n",
       "3   78.0        NaN          39      NOP    1.0     Moncaleano       negative\n",
       "4   41.0  Masculino         40.       SI    0.0      Medilaser       positive\n",
       "..   ...        ...         ...      ...    ...            ...            ...\n",
       "94   7.0   Femenino          42      OUI    1.0      Medilaser       positive\n",
       "95   7.0  Masculino          35      OUI    0.0  Carmen Emilia       positive\n",
       "96  25.0   Femenino        35.2      YES    NaN     Moncaleano       negative\n",
       "97  26.0   Femenino        35.6      YES    NaN      Medilaser       negative\n",
       "98  30.0   Femenino        36.9      YES    NaN  Carmen Emilia       negative\n",
       "\n",
       "[99 rows x 7 columns]"
      ]
     },
     "execution_count": 21,
     "metadata": {},
     "output_type": "execute_result"
    }
   ],
   "source": [
    "datos = importDatos('./Datasets/','CovidDiagnosis', '.xlsx', None)\n",
    "datos\n",
    "\n",
    "##Eliminar columna\n",
    "##datos = datos.drop(['Unnamed: 0'], axis=1)\n",
    "\n",
    "datos"
   ]
  },
  {
   "cell_type": "code",
   "execution_count": 32,
   "metadata": {},
   "outputs": [
    {
     "name": "stdout",
     "output_type": "stream",
     "text": [
      "Dimensiones : 99 filas, 7 columnas\n",
      "Total Valores NA : 49 \n",
      "                        Nombre Columna Tipo de Dato     #Distintos Valores NA\n",
      "                                   Age    float64           46          3\n",
      "                                Gender     object            6          3\n",
      "                           Temperature     object           30          1\n",
      "                              Headache     object            6         35\n",
      "                                 Fever    float64            2          7\n",
      "                              Hospital     object            3          0\n",
      "                        CovidDiagnosis     object            2          0\n"
     ]
    }
   ],
   "source": [
    "datos_NA(datos)"
   ]
  },
  {
   "cell_type": "code",
   "execution_count": null,
   "metadata": {},
   "outputs": [],
   "source": []
  }
 ],
 "metadata": {
  "kernelspec": {
   "display_name": "Python 3.10.6 64-bit",
   "language": "python",
   "name": "python3"
  },
  "language_info": {
   "codemirror_mode": {
    "name": "ipython",
    "version": 3
   },
   "file_extension": ".py",
   "mimetype": "text/x-python",
   "name": "python",
   "nbconvert_exporter": "python",
   "pygments_lexer": "ipython3",
   "version": "3.10.6"
  },
  "orig_nbformat": 4,
  "vscode": {
   "interpreter": {
    "hash": "a77b2f40ed1df9b9e0585d1a6edbb21462fc1256ebafb680e8b8391ecdeee36b"
   }
  }
 },
 "nbformat": 4,
 "nbformat_minor": 2
}
